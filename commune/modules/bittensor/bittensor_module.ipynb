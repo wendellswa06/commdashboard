{
 "cells": [
  {
   "cell_type": "markdown",
   "id": "7c59dabe-7961-4ba3-b08d-3dfdcacf40d6",
   "metadata": {},
   "source": [
    "# Bittensor Module: Buidl your own Cabal"
   ]
  },
  {
   "cell_type": "code",
   "execution_count": null,
   "id": "e0f9fb24-3f93-489b-bf0f-db3328254d28",
   "metadata": {},
   "outputs": [
    {
     "name": "stderr",
     "output_type": "stream",
     "text": [
      "[WARNING]: failed to patch stdout/stderr for fork-safety: 'OutStream' object\n",
      "has no attribute 'buffer'\n",
      "[WARNING]: failed to reconfigure stdout/stderr with custom encoding error\n",
      "handler: 'OutStream' object has no attribute 'reconfigure'\n"
     ]
    }
   ],
   "source": [
    "import commune as c\n",
    "bt = c.m('bittensor')"
   ]
  },
  {
   "cell_type": "markdown",
   "id": "a49abc03",
   "metadata": {},
   "source": [
    "### Config\n",
    "\n",
    "The config specifies the default variables, like what chain you are on, the netuid, the neurons you you can use to mine, etc. "
   ]
  },
  {
   "cell_type": "code",
   "execution_count": 9,
   "id": "9a6e948e",
   "metadata": {},
   "outputs": [
    {
     "data": {
      "text/html": [
       "<pre style=\"white-space:pre;overflow-x:auto;line-height:normal;font-family:Menlo,'DejaVu Sans Mono',consolas,'Courier New',monospace\"><span style=\"color: #800080; text-decoration-color: #800080; font-weight: bold\">Munch</span><span style=\"font-weight: bold\">({</span><span style=\"color: #008000; text-decoration-color: #008000\">'coldkey'</span>: <span style=\"color: #008000; text-decoration-color: #008000\">'alice'</span>, <span style=\"color: #008000; text-decoration-color: #008000\">'model_name'</span>: <span style=\"color: #008000; text-decoration-color: #008000\">'server'</span>, <span style=\"color: #008000; text-decoration-color: #008000\">'module'</span>: <span style=\"color: #008000; text-decoration-color: #008000\">'BittensorModule'</span>, <span style=\"color: #008000; text-decoration-color: #008000\">'netuid'</span>: <span style=\"color: #008080; text-decoration-color: #008080; font-weight: bold\">11</span>, <span style=\"color: #008000; text-decoration-color: #008000\">'network'</span>: <span style=\"color: #008000; text-decoration-color: #008000\">'finney'</span>, \n",
       "<span style=\"color: #008000; text-decoration-color: #008000\">'network2endpoint'</span>: <span style=\"color: #800080; text-decoration-color: #800080; font-weight: bold\">Munch</span><span style=\"font-weight: bold\">({</span><span style=\"color: #008000; text-decoration-color: #008000\">'finney'</span>: <span style=\"color: #008000; text-decoration-color: #008000\">'wss://entrypoint-finney.opentensor.ai:443'</span>, <span style=\"color: #008000; text-decoration-color: #008000\">'local'</span>: <span style=\"color: #008000; text-decoration-color: #008000\">'ws://0.0.0.0:9944'</span>, \n",
       "<span style=\"color: #008000; text-decoration-color: #008000\">'test'</span>: <span style=\"color: #008000; text-decoration-color: #008000\">'wss://test.finney.opentensor.ai:443'</span><span style=\"font-weight: bold\">})</span>, <span style=\"color: #008000; text-decoration-color: #008000\">'pool_address'</span>: <span style=\"color: #800080; text-decoration-color: #800080; font-style: italic\">None</span>, <span style=\"color: #008000; text-decoration-color: #008000\">'neurons'</span>: <span style=\"color: #800080; text-decoration-color: #800080; font-weight: bold\">Munch</span><span style=\"font-weight: bold\">({</span><span style=\"color: #008000; text-decoration-color: #008000\">'openai'</span>: \n",
       "<span style=\"color: #008000; text-decoration-color: #008000\">'commune.modules.bittensor.neurons.text.prompting.miners.openai.neuron.OpenAIMiner'</span>, <span style=\"color: #008000; text-decoration-color: #008000\">'openai.free'</span>: \n",
       "<span style=\"color: #008000; text-decoration-color: #008000\">'commune.modules.bittensor.neurons.text.prompting.miners.openai_freew.neuron.OpenAIFreeMiner'</span>, <span style=\"color: #008000; text-decoration-color: #008000\">'commune'</span>: \n",
       "<span style=\"color: #008000; text-decoration-color: #008000\">'commune.modules.bittensor.neurons.text.prompting.miners.commune.neuron.MaoMiner'</span><span style=\"font-weight: bold\">})})</span>\n",
       "</pre>\n"
      ],
      "text/plain": [
       "\u001b[1;35mMunch\u001b[0m\u001b[1m(\u001b[0m\u001b[1m{\u001b[0m\u001b[32m'coldkey'\u001b[0m: \u001b[32m'alice'\u001b[0m, \u001b[32m'model_name'\u001b[0m: \u001b[32m'server'\u001b[0m, \u001b[32m'module'\u001b[0m: \u001b[32m'BittensorModule'\u001b[0m, \u001b[32m'netuid'\u001b[0m: \u001b[1;36m11\u001b[0m, \u001b[32m'network'\u001b[0m: \u001b[32m'finney'\u001b[0m, \n",
       "\u001b[32m'network2endpoint'\u001b[0m: \u001b[1;35mMunch\u001b[0m\u001b[1m(\u001b[0m\u001b[1m{\u001b[0m\u001b[32m'finney'\u001b[0m: \u001b[32m'wss://entrypoint-finney.opentensor.ai:443'\u001b[0m, \u001b[32m'local'\u001b[0m: \u001b[32m'ws://0.0.0.0:9944'\u001b[0m, \n",
       "\u001b[32m'test'\u001b[0m: \u001b[32m'wss://test.finney.opentensor.ai:443'\u001b[0m\u001b[1m}\u001b[0m\u001b[1m)\u001b[0m, \u001b[32m'pool_address'\u001b[0m: \u001b[3;35mNone\u001b[0m, \u001b[32m'neurons'\u001b[0m: \u001b[1;35mMunch\u001b[0m\u001b[1m(\u001b[0m\u001b[1m{\u001b[0m\u001b[32m'openai'\u001b[0m: \n",
       "\u001b[32m'commune.modules.bittensor.neurons.text.prompting.miners.openai.neuron.OpenAIMiner'\u001b[0m, \u001b[32m'openai.free'\u001b[0m: \n",
       "\u001b[32m'commune.modules.bittensor.neurons.text.prompting.miners.openai_freew.neuron.OpenAIFreeMiner'\u001b[0m, \u001b[32m'commune'\u001b[0m: \n",
       "\u001b[32m'commune.modules.bittensor.neurons.text.prompting.miners.commune.neuron.MaoMiner'\u001b[0m\u001b[1m}\u001b[0m\u001b[1m)\u001b[0m\u001b[1m}\u001b[0m\u001b[1m)\u001b[0m\n"
      ]
     },
     "metadata": {},
     "output_type": "display_data"
    }
   ],
   "source": [
    "c.print(bt.config) # config is in munch by default"
   ]
  },
  {
   "cell_type": "markdown",
   "id": "88ac413d",
   "metadata": {},
   "source": [
    "#### Check the wallets (total, registered, unregistered)"
   ]
  },
  {
   "cell_type": "code",
   "execution_count": 2,
   "id": "ba8c4996-feea-4def-a6ca-17b16ec954f6",
   "metadata": {},
   "outputs": [
    {
     "data": {
      "text/html": [
       "<pre style=\"white-space:pre;overflow-x:auto;line-height:normal;font-family:Menlo,'DejaVu Sans Mono',consolas,'Courier New',monospace\"><span style=\"font-weight: bold\">{</span>\n",
       "    <span style=\"color: #008000; text-decoration-color: #008000\">'total_keys'</span>: <span style=\"font-weight: bold\">[</span>\n",
       "        <span style=\"color: #008000; text-decoration-color: #008000\">'alice.0'</span>,\n",
       "        <span style=\"color: #008000; text-decoration-color: #008000\">'alice.1'</span>,\n",
       "        <span style=\"color: #008000; text-decoration-color: #008000\">'alice.2'</span>,\n",
       "        <span style=\"color: #008000; text-decoration-color: #008000\">'alice.3'</span>,\n",
       "        <span style=\"color: #008000; text-decoration-color: #008000\">'alice.4'</span>,\n",
       "        <span style=\"color: #008000; text-decoration-color: #008000\">'alice.5'</span>,\n",
       "        <span style=\"color: #008000; text-decoration-color: #008000\">'alice.6'</span>,\n",
       "        <span style=\"color: #008000; text-decoration-color: #008000\">'alice.7'</span>,\n",
       "        <span style=\"color: #008000; text-decoration-color: #008000\">'alice.8'</span>,\n",
       "        <span style=\"color: #008000; text-decoration-color: #008000\">'alice.9'</span>,\n",
       "        <span style=\"color: #008000; text-decoration-color: #008000\">'alice.10'</span>,\n",
       "        <span style=\"color: #008000; text-decoration-color: #008000\">'alice.11'</span>,\n",
       "        <span style=\"color: #008000; text-decoration-color: #008000\">'alice.12'</span>,\n",
       "        <span style=\"color: #008000; text-decoration-color: #008000\">'alice.13'</span>,\n",
       "        <span style=\"color: #008000; text-decoration-color: #008000\">'alice.14'</span>,\n",
       "        <span style=\"color: #008000; text-decoration-color: #008000\">'alice.15'</span>,\n",
       "        <span style=\"color: #008000; text-decoration-color: #008000\">'alice.16'</span>,\n",
       "        <span style=\"color: #008000; text-decoration-color: #008000\">'alice.17'</span>,\n",
       "        <span style=\"color: #008000; text-decoration-color: #008000\">'alice.18'</span>,\n",
       "        <span style=\"color: #008000; text-decoration-color: #008000\">'alice.19'</span>,\n",
       "        <span style=\"color: #008000; text-decoration-color: #008000\">'alice.20'</span>,\n",
       "        <span style=\"color: #008000; text-decoration-color: #008000\">'alice.21'</span>,\n",
       "        <span style=\"color: #008000; text-decoration-color: #008000\">'alice.22'</span>,\n",
       "        <span style=\"color: #008000; text-decoration-color: #008000\">'alice.23'</span>,\n",
       "        <span style=\"color: #008000; text-decoration-color: #008000\">'alice.24'</span>,\n",
       "        <span style=\"color: #008000; text-decoration-color: #008000\">'alice.25'</span>,\n",
       "        <span style=\"color: #008000; text-decoration-color: #008000\">'alice.26'</span>,\n",
       "        <span style=\"color: #008000; text-decoration-color: #008000\">'alice.27'</span>,\n",
       "        <span style=\"color: #008000; text-decoration-color: #008000\">'alice.28'</span>,\n",
       "        <span style=\"color: #008000; text-decoration-color: #008000\">'alice.29'</span>,\n",
       "        <span style=\"color: #008000; text-decoration-color: #008000\">'alice.30'</span>,\n",
       "        <span style=\"color: #008000; text-decoration-color: #008000\">'alice.31'</span>,\n",
       "        <span style=\"color: #008000; text-decoration-color: #008000\">'alice.32'</span>,\n",
       "        <span style=\"color: #008000; text-decoration-color: #008000\">'alice.33'</span>,\n",
       "        <span style=\"color: #008000; text-decoration-color: #008000\">'alice.34'</span>,\n",
       "        <span style=\"color: #008000; text-decoration-color: #008000\">'alice.35'</span>,\n",
       "        <span style=\"color: #008000; text-decoration-color: #008000\">'alice.36'</span>,\n",
       "        <span style=\"color: #008000; text-decoration-color: #008000\">'alice.37'</span>,\n",
       "        <span style=\"color: #008000; text-decoration-color: #008000\">'alice.38'</span>,\n",
       "        <span style=\"color: #008000; text-decoration-color: #008000\">'alice.39'</span>,\n",
       "        <span style=\"color: #008000; text-decoration-color: #008000\">'alice.40'</span>,\n",
       "        <span style=\"color: #008000; text-decoration-color: #008000\">'alice.41'</span>,\n",
       "        <span style=\"color: #008000; text-decoration-color: #008000\">'alice.42'</span>,\n",
       "        <span style=\"color: #008000; text-decoration-color: #008000\">'alice.43'</span>,\n",
       "        <span style=\"color: #008000; text-decoration-color: #008000\">'alice.44'</span>,\n",
       "        <span style=\"color: #008000; text-decoration-color: #008000\">'alice.45'</span>,\n",
       "        <span style=\"color: #008000; text-decoration-color: #008000\">'alice.46'</span>,\n",
       "        <span style=\"color: #008000; text-decoration-color: #008000\">'alice.47'</span>,\n",
       "        <span style=\"color: #008000; text-decoration-color: #008000\">'alice.48'</span>,\n",
       "        <span style=\"color: #008000; text-decoration-color: #008000\">'alice.49'</span>,\n",
       "        <span style=\"color: #008000; text-decoration-color: #008000\">'alice.50'</span>,\n",
       "        <span style=\"color: #008000; text-decoration-color: #008000\">'alice.51'</span>,\n",
       "        <span style=\"color: #008000; text-decoration-color: #008000\">'alice.52'</span>,\n",
       "        <span style=\"color: #008000; text-decoration-color: #008000\">'alice.53'</span>,\n",
       "        <span style=\"color: #008000; text-decoration-color: #008000\">'alice.54'</span>,\n",
       "        <span style=\"color: #008000; text-decoration-color: #008000\">'alice.55'</span>,\n",
       "        <span style=\"color: #008000; text-decoration-color: #008000\">'alice.56'</span>,\n",
       "        <span style=\"color: #008000; text-decoration-color: #008000\">'alice.57'</span>,\n",
       "        <span style=\"color: #008000; text-decoration-color: #008000\">'alice.58'</span>,\n",
       "        <span style=\"color: #008000; text-decoration-color: #008000\">'alice.59'</span>,\n",
       "        <span style=\"color: #008000; text-decoration-color: #008000\">'alice.60'</span>,\n",
       "        <span style=\"color: #008000; text-decoration-color: #008000\">'alice.61'</span>,\n",
       "        <span style=\"color: #008000; text-decoration-color: #008000\">'alice.62'</span>,\n",
       "        <span style=\"color: #008000; text-decoration-color: #008000\">'alice.63'</span>,\n",
       "        <span style=\"color: #008000; text-decoration-color: #008000\">'alice.64'</span>,\n",
       "        <span style=\"color: #008000; text-decoration-color: #008000\">'alice.65'</span>,\n",
       "        <span style=\"color: #008000; text-decoration-color: #008000\">'alice.66'</span>,\n",
       "        <span style=\"color: #008000; text-decoration-color: #008000\">'alice.67'</span>,\n",
       "        <span style=\"color: #008000; text-decoration-color: #008000\">'alice.68'</span>,\n",
       "        <span style=\"color: #008000; text-decoration-color: #008000\">'alice.69'</span>,\n",
       "        <span style=\"color: #008000; text-decoration-color: #008000\">'alice.70'</span>,\n",
       "        <span style=\"color: #008000; text-decoration-color: #008000\">'alice.71'</span>,\n",
       "        <span style=\"color: #008000; text-decoration-color: #008000\">'alice.72'</span>,\n",
       "        <span style=\"color: #008000; text-decoration-color: #008000\">'alice.73'</span>,\n",
       "        <span style=\"color: #008000; text-decoration-color: #008000\">'alice.74'</span>,\n",
       "        <span style=\"color: #008000; text-decoration-color: #008000\">'alice.75'</span>,\n",
       "        <span style=\"color: #008000; text-decoration-color: #008000\">'alice.76'</span>,\n",
       "        <span style=\"color: #008000; text-decoration-color: #008000\">'alice.77'</span>,\n",
       "        <span style=\"color: #008000; text-decoration-color: #008000\">'alice.78'</span>,\n",
       "        <span style=\"color: #008000; text-decoration-color: #008000\">'alice.79'</span>,\n",
       "        <span style=\"color: #008000; text-decoration-color: #008000\">'alice.80'</span>,\n",
       "        <span style=\"color: #008000; text-decoration-color: #008000\">'alice.81'</span>,\n",
       "        <span style=\"color: #008000; text-decoration-color: #008000\">'alice.82'</span>,\n",
       "        <span style=\"color: #008000; text-decoration-color: #008000\">'alice.83'</span>,\n",
       "        <span style=\"color: #008000; text-decoration-color: #008000\">'alice.84'</span>,\n",
       "        <span style=\"color: #008000; text-decoration-color: #008000\">'alice.85'</span>,\n",
       "        <span style=\"color: #008000; text-decoration-color: #008000\">'alice.86'</span>,\n",
       "        <span style=\"color: #008000; text-decoration-color: #008000\">'alice.87'</span>,\n",
       "        <span style=\"color: #008000; text-decoration-color: #008000\">'alice.88'</span>,\n",
       "        <span style=\"color: #008000; text-decoration-color: #008000\">'alice.89'</span>,\n",
       "        <span style=\"color: #008000; text-decoration-color: #008000\">'alice.90'</span>,\n",
       "        <span style=\"color: #008000; text-decoration-color: #008000\">'alice.91'</span>,\n",
       "        <span style=\"color: #008000; text-decoration-color: #008000\">'alice.92'</span>,\n",
       "        <span style=\"color: #008000; text-decoration-color: #008000\">'alice.93'</span>,\n",
       "        <span style=\"color: #008000; text-decoration-color: #008000\">'alice.94'</span>,\n",
       "        <span style=\"color: #008000; text-decoration-color: #008000\">'alice.95'</span>,\n",
       "        <span style=\"color: #008000; text-decoration-color: #008000\">'alice.96'</span>,\n",
       "        <span style=\"color: #008000; text-decoration-color: #008000\">'alice.97'</span>,\n",
       "        <span style=\"color: #008000; text-decoration-color: #008000\">'alice.98'</span>,\n",
       "        <span style=\"color: #008000; text-decoration-color: #008000\">'alice.99'</span>,\n",
       "        <span style=\"color: #008000; text-decoration-color: #008000\">'alice.100'</span>,\n",
       "        <span style=\"color: #008000; text-decoration-color: #008000\">'alice.101'</span>,\n",
       "        <span style=\"color: #008000; text-decoration-color: #008000\">'alice.102'</span>,\n",
       "        <span style=\"color: #008000; text-decoration-color: #008000\">'alice.103'</span>,\n",
       "        <span style=\"color: #008000; text-decoration-color: #008000\">'alice.104'</span>,\n",
       "        <span style=\"color: #008000; text-decoration-color: #008000\">'alice.105'</span>,\n",
       "        <span style=\"color: #008000; text-decoration-color: #008000\">'alice.106'</span>,\n",
       "        <span style=\"color: #008000; text-decoration-color: #008000\">'alice.107'</span>,\n",
       "        <span style=\"color: #008000; text-decoration-color: #008000\">'alice.108'</span>,\n",
       "        <span style=\"color: #008000; text-decoration-color: #008000\">'alice.109'</span>,\n",
       "        <span style=\"color: #008000; text-decoration-color: #008000\">'alice.110'</span>,\n",
       "        <span style=\"color: #008000; text-decoration-color: #008000\">'alice.111'</span>,\n",
       "        <span style=\"color: #008000; text-decoration-color: #008000\">'alice.112'</span>,\n",
       "        <span style=\"color: #008000; text-decoration-color: #008000\">'alice.113'</span>,\n",
       "        <span style=\"color: #008000; text-decoration-color: #008000\">'alice.114'</span>,\n",
       "        <span style=\"color: #008000; text-decoration-color: #008000\">'alice.115'</span>,\n",
       "        <span style=\"color: #008000; text-decoration-color: #008000\">'alice.116'</span>,\n",
       "        <span style=\"color: #008000; text-decoration-color: #008000\">'alice.117'</span>,\n",
       "        <span style=\"color: #008000; text-decoration-color: #008000\">'alice.118'</span>,\n",
       "        <span style=\"color: #008000; text-decoration-color: #008000\">'alice.119'</span>,\n",
       "        <span style=\"color: #008000; text-decoration-color: #008000\">'alice.120'</span>,\n",
       "        <span style=\"color: #008000; text-decoration-color: #008000\">'alice.121'</span>,\n",
       "        <span style=\"color: #008000; text-decoration-color: #008000\">'alice.122'</span>,\n",
       "        <span style=\"color: #008000; text-decoration-color: #008000\">'alice.123'</span>,\n",
       "        <span style=\"color: #008000; text-decoration-color: #008000\">'alice.124'</span>,\n",
       "        <span style=\"color: #008000; text-decoration-color: #008000\">'alice.125'</span>,\n",
       "        <span style=\"color: #008000; text-decoration-color: #008000\">'alice.126'</span>,\n",
       "        <span style=\"color: #008000; text-decoration-color: #008000\">'alice.127'</span>,\n",
       "        <span style=\"color: #008000; text-decoration-color: #008000\">'alice.128'</span>,\n",
       "        <span style=\"color: #008000; text-decoration-color: #008000\">'alice.129'</span>,\n",
       "        <span style=\"color: #008000; text-decoration-color: #008000\">'alice.130'</span>,\n",
       "        <span style=\"color: #008000; text-decoration-color: #008000\">'alice.131'</span>,\n",
       "        <span style=\"color: #008000; text-decoration-color: #008000\">'alice.132'</span>,\n",
       "        <span style=\"color: #008000; text-decoration-color: #008000\">'alice.133'</span>,\n",
       "        <span style=\"color: #008000; text-decoration-color: #008000\">'alice.134'</span>,\n",
       "        <span style=\"color: #008000; text-decoration-color: #008000\">'alice.135'</span>,\n",
       "        <span style=\"color: #008000; text-decoration-color: #008000\">'alice.136'</span>,\n",
       "        <span style=\"color: #008000; text-decoration-color: #008000\">'alice.137'</span>,\n",
       "        <span style=\"color: #008000; text-decoration-color: #008000\">'alice.138'</span>,\n",
       "        <span style=\"color: #008000; text-decoration-color: #008000\">'alice.139'</span>,\n",
       "        <span style=\"color: #008000; text-decoration-color: #008000\">'alice.140'</span>,\n",
       "        <span style=\"color: #008000; text-decoration-color: #008000\">'alice.141'</span>,\n",
       "        <span style=\"color: #008000; text-decoration-color: #008000\">'alice.142'</span>,\n",
       "        <span style=\"color: #008000; text-decoration-color: #008000\">'alice.143'</span>,\n",
       "        <span style=\"color: #008000; text-decoration-color: #008000\">'alice.144'</span>,\n",
       "        <span style=\"color: #008000; text-decoration-color: #008000\">'alice.145'</span>,\n",
       "        <span style=\"color: #008000; text-decoration-color: #008000\">'alice.146'</span>,\n",
       "        <span style=\"color: #008000; text-decoration-color: #008000\">'alice.147'</span>,\n",
       "        <span style=\"color: #008000; text-decoration-color: #008000\">'alice.148'</span>,\n",
       "        <span style=\"color: #008000; text-decoration-color: #008000\">'alice.149'</span>,\n",
       "        <span style=\"color: #008000; text-decoration-color: #008000\">'alice.150'</span>,\n",
       "        <span style=\"color: #008000; text-decoration-color: #008000\">'alice.151'</span>,\n",
       "        <span style=\"color: #008000; text-decoration-color: #008000\">'alice.152'</span>,\n",
       "        <span style=\"color: #008000; text-decoration-color: #008000\">'alice.153'</span>,\n",
       "        <span style=\"color: #008000; text-decoration-color: #008000\">'alice.154'</span>,\n",
       "        <span style=\"color: #008000; text-decoration-color: #008000\">'alice.155'</span>,\n",
       "        <span style=\"color: #008000; text-decoration-color: #008000\">'alice.156'</span>,\n",
       "        <span style=\"color: #008000; text-decoration-color: #008000\">'alice.157'</span>,\n",
       "        <span style=\"color: #008000; text-decoration-color: #008000\">'alice.158'</span>,\n",
       "        <span style=\"color: #008000; text-decoration-color: #008000\">'alice.159'</span>,\n",
       "        <span style=\"color: #008000; text-decoration-color: #008000\">'alice.160'</span>,\n",
       "        <span style=\"color: #008000; text-decoration-color: #008000\">'alice.161'</span>,\n",
       "        <span style=\"color: #008000; text-decoration-color: #008000\">'alice.162'</span>,\n",
       "        <span style=\"color: #008000; text-decoration-color: #008000\">'alice.163'</span>,\n",
       "        <span style=\"color: #008000; text-decoration-color: #008000\">'alice.164'</span>,\n",
       "        <span style=\"color: #008000; text-decoration-color: #008000\">'alice.165'</span>,\n",
       "        <span style=\"color: #008000; text-decoration-color: #008000\">'alice.166'</span>,\n",
       "        <span style=\"color: #008000; text-decoration-color: #008000\">'alice.167'</span>,\n",
       "        <span style=\"color: #008000; text-decoration-color: #008000\">'alice.168'</span>,\n",
       "        <span style=\"color: #008000; text-decoration-color: #008000\">'alice.169'</span>,\n",
       "        <span style=\"color: #008000; text-decoration-color: #008000\">'alice.170'</span>,\n",
       "        <span style=\"color: #008000; text-decoration-color: #008000\">'alice.171'</span>,\n",
       "        <span style=\"color: #008000; text-decoration-color: #008000\">'alice.172'</span>,\n",
       "        <span style=\"color: #008000; text-decoration-color: #008000\">'alice.173'</span>,\n",
       "        <span style=\"color: #008000; text-decoration-color: #008000\">'alice.174'</span>,\n",
       "        <span style=\"color: #008000; text-decoration-color: #008000\">'alice.175'</span>,\n",
       "        <span style=\"color: #008000; text-decoration-color: #008000\">'alice.176'</span>,\n",
       "        <span style=\"color: #008000; text-decoration-color: #008000\">'alice.177'</span>,\n",
       "        <span style=\"color: #008000; text-decoration-color: #008000\">'alice.178'</span>,\n",
       "        <span style=\"color: #008000; text-decoration-color: #008000\">'alice.179'</span>,\n",
       "        <span style=\"color: #008000; text-decoration-color: #008000\">'alice.180'</span>,\n",
       "        <span style=\"color: #008000; text-decoration-color: #008000\">'alice.181'</span>,\n",
       "        <span style=\"color: #008000; text-decoration-color: #008000\">'alice.182'</span>,\n",
       "        <span style=\"color: #008000; text-decoration-color: #008000\">'alice.183'</span>,\n",
       "        <span style=\"color: #008000; text-decoration-color: #008000\">'alice.184'</span>,\n",
       "        <span style=\"color: #008000; text-decoration-color: #008000\">'alice.185'</span>,\n",
       "        <span style=\"color: #008000; text-decoration-color: #008000\">'alice.186'</span>,\n",
       "        <span style=\"color: #008000; text-decoration-color: #008000\">'alice.187'</span>,\n",
       "        <span style=\"color: #008000; text-decoration-color: #008000\">'alice.188'</span>,\n",
       "        <span style=\"color: #008000; text-decoration-color: #008000\">'alice.189'</span>,\n",
       "        <span style=\"color: #008000; text-decoration-color: #008000\">'alice.190'</span>,\n",
       "        <span style=\"color: #008000; text-decoration-color: #008000\">'alice.191'</span>,\n",
       "        <span style=\"color: #008000; text-decoration-color: #008000\">'alice.192'</span>,\n",
       "        <span style=\"color: #008000; text-decoration-color: #008000\">'alice.193'</span>,\n",
       "        <span style=\"color: #008000; text-decoration-color: #008000\">'alice.194'</span>,\n",
       "        <span style=\"color: #008000; text-decoration-color: #008000\">'alice.195'</span>,\n",
       "        <span style=\"color: #008000; text-decoration-color: #008000\">'alice.196'</span>,\n",
       "        <span style=\"color: #008000; text-decoration-color: #008000\">'alice.197'</span>,\n",
       "        <span style=\"color: #008000; text-decoration-color: #008000\">'alice.198'</span>,\n",
       "        <span style=\"color: #008000; text-decoration-color: #008000\">'alice.199'</span>\n",
       "    <span style=\"font-weight: bold\">]</span>,\n",
       "    <span style=\"color: #008000; text-decoration-color: #008000\">'reged'</span>: <span style=\"font-weight: bold\">[</span><span style=\"color: #008000; text-decoration-color: #008000\">'alice.0'</span><span style=\"font-weight: bold\">]</span>,\n",
       "    <span style=\"color: #008000; text-decoration-color: #008000\">'unreged'</span>: <span style=\"font-weight: bold\">[</span>\n",
       "        <span style=\"color: #008000; text-decoration-color: #008000\">'alice.1'</span>,\n",
       "        <span style=\"color: #008000; text-decoration-color: #008000\">'alice.2'</span>,\n",
       "        <span style=\"color: #008000; text-decoration-color: #008000\">'alice.3'</span>,\n",
       "        <span style=\"color: #008000; text-decoration-color: #008000\">'alice.4'</span>,\n",
       "        <span style=\"color: #008000; text-decoration-color: #008000\">'alice.5'</span>,\n",
       "        <span style=\"color: #008000; text-decoration-color: #008000\">'alice.6'</span>,\n",
       "        <span style=\"color: #008000; text-decoration-color: #008000\">'alice.7'</span>,\n",
       "        <span style=\"color: #008000; text-decoration-color: #008000\">'alice.8'</span>,\n",
       "        <span style=\"color: #008000; text-decoration-color: #008000\">'alice.9'</span>,\n",
       "        <span style=\"color: #008000; text-decoration-color: #008000\">'alice.10'</span>,\n",
       "        <span style=\"color: #008000; text-decoration-color: #008000\">'alice.11'</span>,\n",
       "        <span style=\"color: #008000; text-decoration-color: #008000\">'alice.12'</span>,\n",
       "        <span style=\"color: #008000; text-decoration-color: #008000\">'alice.13'</span>,\n",
       "        <span style=\"color: #008000; text-decoration-color: #008000\">'alice.14'</span>,\n",
       "        <span style=\"color: #008000; text-decoration-color: #008000\">'alice.15'</span>,\n",
       "        <span style=\"color: #008000; text-decoration-color: #008000\">'alice.16'</span>,\n",
       "        <span style=\"color: #008000; text-decoration-color: #008000\">'alice.17'</span>,\n",
       "        <span style=\"color: #008000; text-decoration-color: #008000\">'alice.18'</span>,\n",
       "        <span style=\"color: #008000; text-decoration-color: #008000\">'alice.19'</span>,\n",
       "        <span style=\"color: #008000; text-decoration-color: #008000\">'alice.20'</span>,\n",
       "        <span style=\"color: #008000; text-decoration-color: #008000\">'alice.21'</span>,\n",
       "        <span style=\"color: #008000; text-decoration-color: #008000\">'alice.22'</span>,\n",
       "        <span style=\"color: #008000; text-decoration-color: #008000\">'alice.23'</span>,\n",
       "        <span style=\"color: #008000; text-decoration-color: #008000\">'alice.24'</span>,\n",
       "        <span style=\"color: #008000; text-decoration-color: #008000\">'alice.25'</span>,\n",
       "        <span style=\"color: #008000; text-decoration-color: #008000\">'alice.26'</span>,\n",
       "        <span style=\"color: #008000; text-decoration-color: #008000\">'alice.27'</span>,\n",
       "        <span style=\"color: #008000; text-decoration-color: #008000\">'alice.28'</span>,\n",
       "        <span style=\"color: #008000; text-decoration-color: #008000\">'alice.29'</span>,\n",
       "        <span style=\"color: #008000; text-decoration-color: #008000\">'alice.30'</span>,\n",
       "        <span style=\"color: #008000; text-decoration-color: #008000\">'alice.31'</span>,\n",
       "        <span style=\"color: #008000; text-decoration-color: #008000\">'alice.32'</span>,\n",
       "        <span style=\"color: #008000; text-decoration-color: #008000\">'alice.33'</span>,\n",
       "        <span style=\"color: #008000; text-decoration-color: #008000\">'alice.34'</span>,\n",
       "        <span style=\"color: #008000; text-decoration-color: #008000\">'alice.35'</span>,\n",
       "        <span style=\"color: #008000; text-decoration-color: #008000\">'alice.36'</span>,\n",
       "        <span style=\"color: #008000; text-decoration-color: #008000\">'alice.37'</span>,\n",
       "        <span style=\"color: #008000; text-decoration-color: #008000\">'alice.38'</span>,\n",
       "        <span style=\"color: #008000; text-decoration-color: #008000\">'alice.39'</span>,\n",
       "        <span style=\"color: #008000; text-decoration-color: #008000\">'alice.40'</span>,\n",
       "        <span style=\"color: #008000; text-decoration-color: #008000\">'alice.41'</span>,\n",
       "        <span style=\"color: #008000; text-decoration-color: #008000\">'alice.42'</span>,\n",
       "        <span style=\"color: #008000; text-decoration-color: #008000\">'alice.43'</span>,\n",
       "        <span style=\"color: #008000; text-decoration-color: #008000\">'alice.44'</span>,\n",
       "        <span style=\"color: #008000; text-decoration-color: #008000\">'alice.45'</span>,\n",
       "        <span style=\"color: #008000; text-decoration-color: #008000\">'alice.46'</span>,\n",
       "        <span style=\"color: #008000; text-decoration-color: #008000\">'alice.47'</span>,\n",
       "        <span style=\"color: #008000; text-decoration-color: #008000\">'alice.48'</span>,\n",
       "        <span style=\"color: #008000; text-decoration-color: #008000\">'alice.49'</span>,\n",
       "        <span style=\"color: #008000; text-decoration-color: #008000\">'alice.50'</span>,\n",
       "        <span style=\"color: #008000; text-decoration-color: #008000\">'alice.51'</span>,\n",
       "        <span style=\"color: #008000; text-decoration-color: #008000\">'alice.52'</span>,\n",
       "        <span style=\"color: #008000; text-decoration-color: #008000\">'alice.53'</span>,\n",
       "        <span style=\"color: #008000; text-decoration-color: #008000\">'alice.54'</span>,\n",
       "        <span style=\"color: #008000; text-decoration-color: #008000\">'alice.55'</span>,\n",
       "        <span style=\"color: #008000; text-decoration-color: #008000\">'alice.56'</span>,\n",
       "        <span style=\"color: #008000; text-decoration-color: #008000\">'alice.57'</span>,\n",
       "        <span style=\"color: #008000; text-decoration-color: #008000\">'alice.58'</span>,\n",
       "        <span style=\"color: #008000; text-decoration-color: #008000\">'alice.59'</span>,\n",
       "        <span style=\"color: #008000; text-decoration-color: #008000\">'alice.60'</span>,\n",
       "        <span style=\"color: #008000; text-decoration-color: #008000\">'alice.61'</span>,\n",
       "        <span style=\"color: #008000; text-decoration-color: #008000\">'alice.62'</span>,\n",
       "        <span style=\"color: #008000; text-decoration-color: #008000\">'alice.63'</span>,\n",
       "        <span style=\"color: #008000; text-decoration-color: #008000\">'alice.64'</span>,\n",
       "        <span style=\"color: #008000; text-decoration-color: #008000\">'alice.65'</span>,\n",
       "        <span style=\"color: #008000; text-decoration-color: #008000\">'alice.66'</span>,\n",
       "        <span style=\"color: #008000; text-decoration-color: #008000\">'alice.67'</span>,\n",
       "        <span style=\"color: #008000; text-decoration-color: #008000\">'alice.68'</span>,\n",
       "        <span style=\"color: #008000; text-decoration-color: #008000\">'alice.69'</span>,\n",
       "        <span style=\"color: #008000; text-decoration-color: #008000\">'alice.70'</span>,\n",
       "        <span style=\"color: #008000; text-decoration-color: #008000\">'alice.71'</span>,\n",
       "        <span style=\"color: #008000; text-decoration-color: #008000\">'alice.72'</span>,\n",
       "        <span style=\"color: #008000; text-decoration-color: #008000\">'alice.73'</span>,\n",
       "        <span style=\"color: #008000; text-decoration-color: #008000\">'alice.74'</span>,\n",
       "        <span style=\"color: #008000; text-decoration-color: #008000\">'alice.75'</span>,\n",
       "        <span style=\"color: #008000; text-decoration-color: #008000\">'alice.76'</span>,\n",
       "        <span style=\"color: #008000; text-decoration-color: #008000\">'alice.77'</span>,\n",
       "        <span style=\"color: #008000; text-decoration-color: #008000\">'alice.78'</span>,\n",
       "        <span style=\"color: #008000; text-decoration-color: #008000\">'alice.79'</span>,\n",
       "        <span style=\"color: #008000; text-decoration-color: #008000\">'alice.80'</span>,\n",
       "        <span style=\"color: #008000; text-decoration-color: #008000\">'alice.81'</span>,\n",
       "        <span style=\"color: #008000; text-decoration-color: #008000\">'alice.82'</span>,\n",
       "        <span style=\"color: #008000; text-decoration-color: #008000\">'alice.83'</span>,\n",
       "        <span style=\"color: #008000; text-decoration-color: #008000\">'alice.84'</span>,\n",
       "        <span style=\"color: #008000; text-decoration-color: #008000\">'alice.85'</span>,\n",
       "        <span style=\"color: #008000; text-decoration-color: #008000\">'alice.86'</span>,\n",
       "        <span style=\"color: #008000; text-decoration-color: #008000\">'alice.87'</span>,\n",
       "        <span style=\"color: #008000; text-decoration-color: #008000\">'alice.88'</span>,\n",
       "        <span style=\"color: #008000; text-decoration-color: #008000\">'alice.89'</span>,\n",
       "        <span style=\"color: #008000; text-decoration-color: #008000\">'alice.90'</span>,\n",
       "        <span style=\"color: #008000; text-decoration-color: #008000\">'alice.91'</span>,\n",
       "        <span style=\"color: #008000; text-decoration-color: #008000\">'alice.92'</span>,\n",
       "        <span style=\"color: #008000; text-decoration-color: #008000\">'alice.93'</span>,\n",
       "        <span style=\"color: #008000; text-decoration-color: #008000\">'alice.94'</span>,\n",
       "        <span style=\"color: #008000; text-decoration-color: #008000\">'alice.95'</span>,\n",
       "        <span style=\"color: #008000; text-decoration-color: #008000\">'alice.96'</span>,\n",
       "        <span style=\"color: #008000; text-decoration-color: #008000\">'alice.97'</span>,\n",
       "        <span style=\"color: #008000; text-decoration-color: #008000\">'alice.98'</span>,\n",
       "        <span style=\"color: #008000; text-decoration-color: #008000\">'alice.99'</span>,\n",
       "        <span style=\"color: #008000; text-decoration-color: #008000\">'alice.100'</span>,\n",
       "        <span style=\"color: #008000; text-decoration-color: #008000\">'alice.101'</span>,\n",
       "        <span style=\"color: #008000; text-decoration-color: #008000\">'alice.102'</span>,\n",
       "        <span style=\"color: #008000; text-decoration-color: #008000\">'alice.103'</span>,\n",
       "        <span style=\"color: #008000; text-decoration-color: #008000\">'alice.104'</span>,\n",
       "        <span style=\"color: #008000; text-decoration-color: #008000\">'alice.105'</span>,\n",
       "        <span style=\"color: #008000; text-decoration-color: #008000\">'alice.106'</span>,\n",
       "        <span style=\"color: #008000; text-decoration-color: #008000\">'alice.107'</span>,\n",
       "        <span style=\"color: #008000; text-decoration-color: #008000\">'alice.108'</span>,\n",
       "        <span style=\"color: #008000; text-decoration-color: #008000\">'alice.109'</span>,\n",
       "        <span style=\"color: #008000; text-decoration-color: #008000\">'alice.110'</span>,\n",
       "        <span style=\"color: #008000; text-decoration-color: #008000\">'alice.111'</span>,\n",
       "        <span style=\"color: #008000; text-decoration-color: #008000\">'alice.112'</span>,\n",
       "        <span style=\"color: #008000; text-decoration-color: #008000\">'alice.113'</span>,\n",
       "        <span style=\"color: #008000; text-decoration-color: #008000\">'alice.114'</span>,\n",
       "        <span style=\"color: #008000; text-decoration-color: #008000\">'alice.115'</span>,\n",
       "        <span style=\"color: #008000; text-decoration-color: #008000\">'alice.116'</span>,\n",
       "        <span style=\"color: #008000; text-decoration-color: #008000\">'alice.117'</span>,\n",
       "        <span style=\"color: #008000; text-decoration-color: #008000\">'alice.118'</span>,\n",
       "        <span style=\"color: #008000; text-decoration-color: #008000\">'alice.119'</span>,\n",
       "        <span style=\"color: #008000; text-decoration-color: #008000\">'alice.120'</span>,\n",
       "        <span style=\"color: #008000; text-decoration-color: #008000\">'alice.121'</span>,\n",
       "        <span style=\"color: #008000; text-decoration-color: #008000\">'alice.122'</span>,\n",
       "        <span style=\"color: #008000; text-decoration-color: #008000\">'alice.123'</span>,\n",
       "        <span style=\"color: #008000; text-decoration-color: #008000\">'alice.124'</span>,\n",
       "        <span style=\"color: #008000; text-decoration-color: #008000\">'alice.125'</span>,\n",
       "        <span style=\"color: #008000; text-decoration-color: #008000\">'alice.126'</span>,\n",
       "        <span style=\"color: #008000; text-decoration-color: #008000\">'alice.127'</span>,\n",
       "        <span style=\"color: #008000; text-decoration-color: #008000\">'alice.128'</span>,\n",
       "        <span style=\"color: #008000; text-decoration-color: #008000\">'alice.129'</span>,\n",
       "        <span style=\"color: #008000; text-decoration-color: #008000\">'alice.130'</span>,\n",
       "        <span style=\"color: #008000; text-decoration-color: #008000\">'alice.131'</span>,\n",
       "        <span style=\"color: #008000; text-decoration-color: #008000\">'alice.132'</span>,\n",
       "        <span style=\"color: #008000; text-decoration-color: #008000\">'alice.133'</span>,\n",
       "        <span style=\"color: #008000; text-decoration-color: #008000\">'alice.134'</span>,\n",
       "        <span style=\"color: #008000; text-decoration-color: #008000\">'alice.135'</span>,\n",
       "        <span style=\"color: #008000; text-decoration-color: #008000\">'alice.136'</span>,\n",
       "        <span style=\"color: #008000; text-decoration-color: #008000\">'alice.137'</span>,\n",
       "        <span style=\"color: #008000; text-decoration-color: #008000\">'alice.138'</span>,\n",
       "        <span style=\"color: #008000; text-decoration-color: #008000\">'alice.139'</span>,\n",
       "        <span style=\"color: #008000; text-decoration-color: #008000\">'alice.140'</span>,\n",
       "        <span style=\"color: #008000; text-decoration-color: #008000\">'alice.141'</span>,\n",
       "        <span style=\"color: #008000; text-decoration-color: #008000\">'alice.142'</span>,\n",
       "        <span style=\"color: #008000; text-decoration-color: #008000\">'alice.143'</span>,\n",
       "        <span style=\"color: #008000; text-decoration-color: #008000\">'alice.144'</span>,\n",
       "        <span style=\"color: #008000; text-decoration-color: #008000\">'alice.145'</span>,\n",
       "        <span style=\"color: #008000; text-decoration-color: #008000\">'alice.146'</span>,\n",
       "        <span style=\"color: #008000; text-decoration-color: #008000\">'alice.147'</span>,\n",
       "        <span style=\"color: #008000; text-decoration-color: #008000\">'alice.148'</span>,\n",
       "        <span style=\"color: #008000; text-decoration-color: #008000\">'alice.149'</span>,\n",
       "        <span style=\"color: #008000; text-decoration-color: #008000\">'alice.150'</span>,\n",
       "        <span style=\"color: #008000; text-decoration-color: #008000\">'alice.151'</span>,\n",
       "        <span style=\"color: #008000; text-decoration-color: #008000\">'alice.152'</span>,\n",
       "        <span style=\"color: #008000; text-decoration-color: #008000\">'alice.153'</span>,\n",
       "        <span style=\"color: #008000; text-decoration-color: #008000\">'alice.154'</span>,\n",
       "        <span style=\"color: #008000; text-decoration-color: #008000\">'alice.155'</span>,\n",
       "        <span style=\"color: #008000; text-decoration-color: #008000\">'alice.156'</span>,\n",
       "        <span style=\"color: #008000; text-decoration-color: #008000\">'alice.157'</span>,\n",
       "        <span style=\"color: #008000; text-decoration-color: #008000\">'alice.158'</span>,\n",
       "        <span style=\"color: #008000; text-decoration-color: #008000\">'alice.159'</span>,\n",
       "        <span style=\"color: #008000; text-decoration-color: #008000\">'alice.160'</span>,\n",
       "        <span style=\"color: #008000; text-decoration-color: #008000\">'alice.161'</span>,\n",
       "        <span style=\"color: #008000; text-decoration-color: #008000\">'alice.162'</span>,\n",
       "        <span style=\"color: #008000; text-decoration-color: #008000\">'alice.163'</span>,\n",
       "        <span style=\"color: #008000; text-decoration-color: #008000\">'alice.164'</span>,\n",
       "        <span style=\"color: #008000; text-decoration-color: #008000\">'alice.165'</span>,\n",
       "        <span style=\"color: #008000; text-decoration-color: #008000\">'alice.166'</span>,\n",
       "        <span style=\"color: #008000; text-decoration-color: #008000\">'alice.167'</span>,\n",
       "        <span style=\"color: #008000; text-decoration-color: #008000\">'alice.168'</span>,\n",
       "        <span style=\"color: #008000; text-decoration-color: #008000\">'alice.169'</span>,\n",
       "        <span style=\"color: #008000; text-decoration-color: #008000\">'alice.170'</span>,\n",
       "        <span style=\"color: #008000; text-decoration-color: #008000\">'alice.171'</span>,\n",
       "        <span style=\"color: #008000; text-decoration-color: #008000\">'alice.172'</span>,\n",
       "        <span style=\"color: #008000; text-decoration-color: #008000\">'alice.173'</span>,\n",
       "        <span style=\"color: #008000; text-decoration-color: #008000\">'alice.174'</span>,\n",
       "        <span style=\"color: #008000; text-decoration-color: #008000\">'alice.175'</span>,\n",
       "        <span style=\"color: #008000; text-decoration-color: #008000\">'alice.176'</span>,\n",
       "        <span style=\"color: #008000; text-decoration-color: #008000\">'alice.177'</span>,\n",
       "        <span style=\"color: #008000; text-decoration-color: #008000\">'alice.178'</span>,\n",
       "        <span style=\"color: #008000; text-decoration-color: #008000\">'alice.179'</span>,\n",
       "        <span style=\"color: #008000; text-decoration-color: #008000\">'alice.180'</span>,\n",
       "        <span style=\"color: #008000; text-decoration-color: #008000\">'alice.181'</span>,\n",
       "        <span style=\"color: #008000; text-decoration-color: #008000\">'alice.182'</span>,\n",
       "        <span style=\"color: #008000; text-decoration-color: #008000\">'alice.183'</span>,\n",
       "        <span style=\"color: #008000; text-decoration-color: #008000\">'alice.184'</span>,\n",
       "        <span style=\"color: #008000; text-decoration-color: #008000\">'alice.185'</span>,\n",
       "        <span style=\"color: #008000; text-decoration-color: #008000\">'alice.186'</span>,\n",
       "        <span style=\"color: #008000; text-decoration-color: #008000\">'alice.187'</span>,\n",
       "        <span style=\"color: #008000; text-decoration-color: #008000\">'alice.188'</span>,\n",
       "        <span style=\"color: #008000; text-decoration-color: #008000\">'alice.189'</span>,\n",
       "        <span style=\"color: #008000; text-decoration-color: #008000\">'alice.190'</span>,\n",
       "        <span style=\"color: #008000; text-decoration-color: #008000\">'alice.191'</span>,\n",
       "        <span style=\"color: #008000; text-decoration-color: #008000\">'alice.192'</span>,\n",
       "        <span style=\"color: #008000; text-decoration-color: #008000\">'alice.193'</span>,\n",
       "        <span style=\"color: #008000; text-decoration-color: #008000\">'alice.194'</span>,\n",
       "        <span style=\"color: #008000; text-decoration-color: #008000\">'alice.195'</span>,\n",
       "        <span style=\"color: #008000; text-decoration-color: #008000\">'alice.196'</span>,\n",
       "        <span style=\"color: #008000; text-decoration-color: #008000\">'alice.197'</span>,\n",
       "        <span style=\"color: #008000; text-decoration-color: #008000\">'alice.198'</span>,\n",
       "        <span style=\"color: #008000; text-decoration-color: #008000\">'alice.199'</span>\n",
       "    <span style=\"font-weight: bold\">]</span>\n",
       "<span style=\"font-weight: bold\">}</span>\n",
       "</pre>\n"
      ],
      "text/plain": [
       "\u001b[1m{\u001b[0m\n",
       "    \u001b[32m'total_keys'\u001b[0m: \u001b[1m[\u001b[0m\n",
       "        \u001b[32m'alice.0'\u001b[0m,\n",
       "        \u001b[32m'alice.1'\u001b[0m,\n",
       "        \u001b[32m'alice.2'\u001b[0m,\n",
       "        \u001b[32m'alice.3'\u001b[0m,\n",
       "        \u001b[32m'alice.4'\u001b[0m,\n",
       "        \u001b[32m'alice.5'\u001b[0m,\n",
       "        \u001b[32m'alice.6'\u001b[0m,\n",
       "        \u001b[32m'alice.7'\u001b[0m,\n",
       "        \u001b[32m'alice.8'\u001b[0m,\n",
       "        \u001b[32m'alice.9'\u001b[0m,\n",
       "        \u001b[32m'alice.10'\u001b[0m,\n",
       "        \u001b[32m'alice.11'\u001b[0m,\n",
       "        \u001b[32m'alice.12'\u001b[0m,\n",
       "        \u001b[32m'alice.13'\u001b[0m,\n",
       "        \u001b[32m'alice.14'\u001b[0m,\n",
       "        \u001b[32m'alice.15'\u001b[0m,\n",
       "        \u001b[32m'alice.16'\u001b[0m,\n",
       "        \u001b[32m'alice.17'\u001b[0m,\n",
       "        \u001b[32m'alice.18'\u001b[0m,\n",
       "        \u001b[32m'alice.19'\u001b[0m,\n",
       "        \u001b[32m'alice.20'\u001b[0m,\n",
       "        \u001b[32m'alice.21'\u001b[0m,\n",
       "        \u001b[32m'alice.22'\u001b[0m,\n",
       "        \u001b[32m'alice.23'\u001b[0m,\n",
       "        \u001b[32m'alice.24'\u001b[0m,\n",
       "        \u001b[32m'alice.25'\u001b[0m,\n",
       "        \u001b[32m'alice.26'\u001b[0m,\n",
       "        \u001b[32m'alice.27'\u001b[0m,\n",
       "        \u001b[32m'alice.28'\u001b[0m,\n",
       "        \u001b[32m'alice.29'\u001b[0m,\n",
       "        \u001b[32m'alice.30'\u001b[0m,\n",
       "        \u001b[32m'alice.31'\u001b[0m,\n",
       "        \u001b[32m'alice.32'\u001b[0m,\n",
       "        \u001b[32m'alice.33'\u001b[0m,\n",
       "        \u001b[32m'alice.34'\u001b[0m,\n",
       "        \u001b[32m'alice.35'\u001b[0m,\n",
       "        \u001b[32m'alice.36'\u001b[0m,\n",
       "        \u001b[32m'alice.37'\u001b[0m,\n",
       "        \u001b[32m'alice.38'\u001b[0m,\n",
       "        \u001b[32m'alice.39'\u001b[0m,\n",
       "        \u001b[32m'alice.40'\u001b[0m,\n",
       "        \u001b[32m'alice.41'\u001b[0m,\n",
       "        \u001b[32m'alice.42'\u001b[0m,\n",
       "        \u001b[32m'alice.43'\u001b[0m,\n",
       "        \u001b[32m'alice.44'\u001b[0m,\n",
       "        \u001b[32m'alice.45'\u001b[0m,\n",
       "        \u001b[32m'alice.46'\u001b[0m,\n",
       "        \u001b[32m'alice.47'\u001b[0m,\n",
       "        \u001b[32m'alice.48'\u001b[0m,\n",
       "        \u001b[32m'alice.49'\u001b[0m,\n",
       "        \u001b[32m'alice.50'\u001b[0m,\n",
       "        \u001b[32m'alice.51'\u001b[0m,\n",
       "        \u001b[32m'alice.52'\u001b[0m,\n",
       "        \u001b[32m'alice.53'\u001b[0m,\n",
       "        \u001b[32m'alice.54'\u001b[0m,\n",
       "        \u001b[32m'alice.55'\u001b[0m,\n",
       "        \u001b[32m'alice.56'\u001b[0m,\n",
       "        \u001b[32m'alice.57'\u001b[0m,\n",
       "        \u001b[32m'alice.58'\u001b[0m,\n",
       "        \u001b[32m'alice.59'\u001b[0m,\n",
       "        \u001b[32m'alice.60'\u001b[0m,\n",
       "        \u001b[32m'alice.61'\u001b[0m,\n",
       "        \u001b[32m'alice.62'\u001b[0m,\n",
       "        \u001b[32m'alice.63'\u001b[0m,\n",
       "        \u001b[32m'alice.64'\u001b[0m,\n",
       "        \u001b[32m'alice.65'\u001b[0m,\n",
       "        \u001b[32m'alice.66'\u001b[0m,\n",
       "        \u001b[32m'alice.67'\u001b[0m,\n",
       "        \u001b[32m'alice.68'\u001b[0m,\n",
       "        \u001b[32m'alice.69'\u001b[0m,\n",
       "        \u001b[32m'alice.70'\u001b[0m,\n",
       "        \u001b[32m'alice.71'\u001b[0m,\n",
       "        \u001b[32m'alice.72'\u001b[0m,\n",
       "        \u001b[32m'alice.73'\u001b[0m,\n",
       "        \u001b[32m'alice.74'\u001b[0m,\n",
       "        \u001b[32m'alice.75'\u001b[0m,\n",
       "        \u001b[32m'alice.76'\u001b[0m,\n",
       "        \u001b[32m'alice.77'\u001b[0m,\n",
       "        \u001b[32m'alice.78'\u001b[0m,\n",
       "        \u001b[32m'alice.79'\u001b[0m,\n",
       "        \u001b[32m'alice.80'\u001b[0m,\n",
       "        \u001b[32m'alice.81'\u001b[0m,\n",
       "        \u001b[32m'alice.82'\u001b[0m,\n",
       "        \u001b[32m'alice.83'\u001b[0m,\n",
       "        \u001b[32m'alice.84'\u001b[0m,\n",
       "        \u001b[32m'alice.85'\u001b[0m,\n",
       "        \u001b[32m'alice.86'\u001b[0m,\n",
       "        \u001b[32m'alice.87'\u001b[0m,\n",
       "        \u001b[32m'alice.88'\u001b[0m,\n",
       "        \u001b[32m'alice.89'\u001b[0m,\n",
       "        \u001b[32m'alice.90'\u001b[0m,\n",
       "        \u001b[32m'alice.91'\u001b[0m,\n",
       "        \u001b[32m'alice.92'\u001b[0m,\n",
       "        \u001b[32m'alice.93'\u001b[0m,\n",
       "        \u001b[32m'alice.94'\u001b[0m,\n",
       "        \u001b[32m'alice.95'\u001b[0m,\n",
       "        \u001b[32m'alice.96'\u001b[0m,\n",
       "        \u001b[32m'alice.97'\u001b[0m,\n",
       "        \u001b[32m'alice.98'\u001b[0m,\n",
       "        \u001b[32m'alice.99'\u001b[0m,\n",
       "        \u001b[32m'alice.100'\u001b[0m,\n",
       "        \u001b[32m'alice.101'\u001b[0m,\n",
       "        \u001b[32m'alice.102'\u001b[0m,\n",
       "        \u001b[32m'alice.103'\u001b[0m,\n",
       "        \u001b[32m'alice.104'\u001b[0m,\n",
       "        \u001b[32m'alice.105'\u001b[0m,\n",
       "        \u001b[32m'alice.106'\u001b[0m,\n",
       "        \u001b[32m'alice.107'\u001b[0m,\n",
       "        \u001b[32m'alice.108'\u001b[0m,\n",
       "        \u001b[32m'alice.109'\u001b[0m,\n",
       "        \u001b[32m'alice.110'\u001b[0m,\n",
       "        \u001b[32m'alice.111'\u001b[0m,\n",
       "        \u001b[32m'alice.112'\u001b[0m,\n",
       "        \u001b[32m'alice.113'\u001b[0m,\n",
       "        \u001b[32m'alice.114'\u001b[0m,\n",
       "        \u001b[32m'alice.115'\u001b[0m,\n",
       "        \u001b[32m'alice.116'\u001b[0m,\n",
       "        \u001b[32m'alice.117'\u001b[0m,\n",
       "        \u001b[32m'alice.118'\u001b[0m,\n",
       "        \u001b[32m'alice.119'\u001b[0m,\n",
       "        \u001b[32m'alice.120'\u001b[0m,\n",
       "        \u001b[32m'alice.121'\u001b[0m,\n",
       "        \u001b[32m'alice.122'\u001b[0m,\n",
       "        \u001b[32m'alice.123'\u001b[0m,\n",
       "        \u001b[32m'alice.124'\u001b[0m,\n",
       "        \u001b[32m'alice.125'\u001b[0m,\n",
       "        \u001b[32m'alice.126'\u001b[0m,\n",
       "        \u001b[32m'alice.127'\u001b[0m,\n",
       "        \u001b[32m'alice.128'\u001b[0m,\n",
       "        \u001b[32m'alice.129'\u001b[0m,\n",
       "        \u001b[32m'alice.130'\u001b[0m,\n",
       "        \u001b[32m'alice.131'\u001b[0m,\n",
       "        \u001b[32m'alice.132'\u001b[0m,\n",
       "        \u001b[32m'alice.133'\u001b[0m,\n",
       "        \u001b[32m'alice.134'\u001b[0m,\n",
       "        \u001b[32m'alice.135'\u001b[0m,\n",
       "        \u001b[32m'alice.136'\u001b[0m,\n",
       "        \u001b[32m'alice.137'\u001b[0m,\n",
       "        \u001b[32m'alice.138'\u001b[0m,\n",
       "        \u001b[32m'alice.139'\u001b[0m,\n",
       "        \u001b[32m'alice.140'\u001b[0m,\n",
       "        \u001b[32m'alice.141'\u001b[0m,\n",
       "        \u001b[32m'alice.142'\u001b[0m,\n",
       "        \u001b[32m'alice.143'\u001b[0m,\n",
       "        \u001b[32m'alice.144'\u001b[0m,\n",
       "        \u001b[32m'alice.145'\u001b[0m,\n",
       "        \u001b[32m'alice.146'\u001b[0m,\n",
       "        \u001b[32m'alice.147'\u001b[0m,\n",
       "        \u001b[32m'alice.148'\u001b[0m,\n",
       "        \u001b[32m'alice.149'\u001b[0m,\n",
       "        \u001b[32m'alice.150'\u001b[0m,\n",
       "        \u001b[32m'alice.151'\u001b[0m,\n",
       "        \u001b[32m'alice.152'\u001b[0m,\n",
       "        \u001b[32m'alice.153'\u001b[0m,\n",
       "        \u001b[32m'alice.154'\u001b[0m,\n",
       "        \u001b[32m'alice.155'\u001b[0m,\n",
       "        \u001b[32m'alice.156'\u001b[0m,\n",
       "        \u001b[32m'alice.157'\u001b[0m,\n",
       "        \u001b[32m'alice.158'\u001b[0m,\n",
       "        \u001b[32m'alice.159'\u001b[0m,\n",
       "        \u001b[32m'alice.160'\u001b[0m,\n",
       "        \u001b[32m'alice.161'\u001b[0m,\n",
       "        \u001b[32m'alice.162'\u001b[0m,\n",
       "        \u001b[32m'alice.163'\u001b[0m,\n",
       "        \u001b[32m'alice.164'\u001b[0m,\n",
       "        \u001b[32m'alice.165'\u001b[0m,\n",
       "        \u001b[32m'alice.166'\u001b[0m,\n",
       "        \u001b[32m'alice.167'\u001b[0m,\n",
       "        \u001b[32m'alice.168'\u001b[0m,\n",
       "        \u001b[32m'alice.169'\u001b[0m,\n",
       "        \u001b[32m'alice.170'\u001b[0m,\n",
       "        \u001b[32m'alice.171'\u001b[0m,\n",
       "        \u001b[32m'alice.172'\u001b[0m,\n",
       "        \u001b[32m'alice.173'\u001b[0m,\n",
       "        \u001b[32m'alice.174'\u001b[0m,\n",
       "        \u001b[32m'alice.175'\u001b[0m,\n",
       "        \u001b[32m'alice.176'\u001b[0m,\n",
       "        \u001b[32m'alice.177'\u001b[0m,\n",
       "        \u001b[32m'alice.178'\u001b[0m,\n",
       "        \u001b[32m'alice.179'\u001b[0m,\n",
       "        \u001b[32m'alice.180'\u001b[0m,\n",
       "        \u001b[32m'alice.181'\u001b[0m,\n",
       "        \u001b[32m'alice.182'\u001b[0m,\n",
       "        \u001b[32m'alice.183'\u001b[0m,\n",
       "        \u001b[32m'alice.184'\u001b[0m,\n",
       "        \u001b[32m'alice.185'\u001b[0m,\n",
       "        \u001b[32m'alice.186'\u001b[0m,\n",
       "        \u001b[32m'alice.187'\u001b[0m,\n",
       "        \u001b[32m'alice.188'\u001b[0m,\n",
       "        \u001b[32m'alice.189'\u001b[0m,\n",
       "        \u001b[32m'alice.190'\u001b[0m,\n",
       "        \u001b[32m'alice.191'\u001b[0m,\n",
       "        \u001b[32m'alice.192'\u001b[0m,\n",
       "        \u001b[32m'alice.193'\u001b[0m,\n",
       "        \u001b[32m'alice.194'\u001b[0m,\n",
       "        \u001b[32m'alice.195'\u001b[0m,\n",
       "        \u001b[32m'alice.196'\u001b[0m,\n",
       "        \u001b[32m'alice.197'\u001b[0m,\n",
       "        \u001b[32m'alice.198'\u001b[0m,\n",
       "        \u001b[32m'alice.199'\u001b[0m\n",
       "    \u001b[1m]\u001b[0m,\n",
       "    \u001b[32m'reged'\u001b[0m: \u001b[1m[\u001b[0m\u001b[32m'alice.0'\u001b[0m\u001b[1m]\u001b[0m,\n",
       "    \u001b[32m'unreged'\u001b[0m: \u001b[1m[\u001b[0m\n",
       "        \u001b[32m'alice.1'\u001b[0m,\n",
       "        \u001b[32m'alice.2'\u001b[0m,\n",
       "        \u001b[32m'alice.3'\u001b[0m,\n",
       "        \u001b[32m'alice.4'\u001b[0m,\n",
       "        \u001b[32m'alice.5'\u001b[0m,\n",
       "        \u001b[32m'alice.6'\u001b[0m,\n",
       "        \u001b[32m'alice.7'\u001b[0m,\n",
       "        \u001b[32m'alice.8'\u001b[0m,\n",
       "        \u001b[32m'alice.9'\u001b[0m,\n",
       "        \u001b[32m'alice.10'\u001b[0m,\n",
       "        \u001b[32m'alice.11'\u001b[0m,\n",
       "        \u001b[32m'alice.12'\u001b[0m,\n",
       "        \u001b[32m'alice.13'\u001b[0m,\n",
       "        \u001b[32m'alice.14'\u001b[0m,\n",
       "        \u001b[32m'alice.15'\u001b[0m,\n",
       "        \u001b[32m'alice.16'\u001b[0m,\n",
       "        \u001b[32m'alice.17'\u001b[0m,\n",
       "        \u001b[32m'alice.18'\u001b[0m,\n",
       "        \u001b[32m'alice.19'\u001b[0m,\n",
       "        \u001b[32m'alice.20'\u001b[0m,\n",
       "        \u001b[32m'alice.21'\u001b[0m,\n",
       "        \u001b[32m'alice.22'\u001b[0m,\n",
       "        \u001b[32m'alice.23'\u001b[0m,\n",
       "        \u001b[32m'alice.24'\u001b[0m,\n",
       "        \u001b[32m'alice.25'\u001b[0m,\n",
       "        \u001b[32m'alice.26'\u001b[0m,\n",
       "        \u001b[32m'alice.27'\u001b[0m,\n",
       "        \u001b[32m'alice.28'\u001b[0m,\n",
       "        \u001b[32m'alice.29'\u001b[0m,\n",
       "        \u001b[32m'alice.30'\u001b[0m,\n",
       "        \u001b[32m'alice.31'\u001b[0m,\n",
       "        \u001b[32m'alice.32'\u001b[0m,\n",
       "        \u001b[32m'alice.33'\u001b[0m,\n",
       "        \u001b[32m'alice.34'\u001b[0m,\n",
       "        \u001b[32m'alice.35'\u001b[0m,\n",
       "        \u001b[32m'alice.36'\u001b[0m,\n",
       "        \u001b[32m'alice.37'\u001b[0m,\n",
       "        \u001b[32m'alice.38'\u001b[0m,\n",
       "        \u001b[32m'alice.39'\u001b[0m,\n",
       "        \u001b[32m'alice.40'\u001b[0m,\n",
       "        \u001b[32m'alice.41'\u001b[0m,\n",
       "        \u001b[32m'alice.42'\u001b[0m,\n",
       "        \u001b[32m'alice.43'\u001b[0m,\n",
       "        \u001b[32m'alice.44'\u001b[0m,\n",
       "        \u001b[32m'alice.45'\u001b[0m,\n",
       "        \u001b[32m'alice.46'\u001b[0m,\n",
       "        \u001b[32m'alice.47'\u001b[0m,\n",
       "        \u001b[32m'alice.48'\u001b[0m,\n",
       "        \u001b[32m'alice.49'\u001b[0m,\n",
       "        \u001b[32m'alice.50'\u001b[0m,\n",
       "        \u001b[32m'alice.51'\u001b[0m,\n",
       "        \u001b[32m'alice.52'\u001b[0m,\n",
       "        \u001b[32m'alice.53'\u001b[0m,\n",
       "        \u001b[32m'alice.54'\u001b[0m,\n",
       "        \u001b[32m'alice.55'\u001b[0m,\n",
       "        \u001b[32m'alice.56'\u001b[0m,\n",
       "        \u001b[32m'alice.57'\u001b[0m,\n",
       "        \u001b[32m'alice.58'\u001b[0m,\n",
       "        \u001b[32m'alice.59'\u001b[0m,\n",
       "        \u001b[32m'alice.60'\u001b[0m,\n",
       "        \u001b[32m'alice.61'\u001b[0m,\n",
       "        \u001b[32m'alice.62'\u001b[0m,\n",
       "        \u001b[32m'alice.63'\u001b[0m,\n",
       "        \u001b[32m'alice.64'\u001b[0m,\n",
       "        \u001b[32m'alice.65'\u001b[0m,\n",
       "        \u001b[32m'alice.66'\u001b[0m,\n",
       "        \u001b[32m'alice.67'\u001b[0m,\n",
       "        \u001b[32m'alice.68'\u001b[0m,\n",
       "        \u001b[32m'alice.69'\u001b[0m,\n",
       "        \u001b[32m'alice.70'\u001b[0m,\n",
       "        \u001b[32m'alice.71'\u001b[0m,\n",
       "        \u001b[32m'alice.72'\u001b[0m,\n",
       "        \u001b[32m'alice.73'\u001b[0m,\n",
       "        \u001b[32m'alice.74'\u001b[0m,\n",
       "        \u001b[32m'alice.75'\u001b[0m,\n",
       "        \u001b[32m'alice.76'\u001b[0m,\n",
       "        \u001b[32m'alice.77'\u001b[0m,\n",
       "        \u001b[32m'alice.78'\u001b[0m,\n",
       "        \u001b[32m'alice.79'\u001b[0m,\n",
       "        \u001b[32m'alice.80'\u001b[0m,\n",
       "        \u001b[32m'alice.81'\u001b[0m,\n",
       "        \u001b[32m'alice.82'\u001b[0m,\n",
       "        \u001b[32m'alice.83'\u001b[0m,\n",
       "        \u001b[32m'alice.84'\u001b[0m,\n",
       "        \u001b[32m'alice.85'\u001b[0m,\n",
       "        \u001b[32m'alice.86'\u001b[0m,\n",
       "        \u001b[32m'alice.87'\u001b[0m,\n",
       "        \u001b[32m'alice.88'\u001b[0m,\n",
       "        \u001b[32m'alice.89'\u001b[0m,\n",
       "        \u001b[32m'alice.90'\u001b[0m,\n",
       "        \u001b[32m'alice.91'\u001b[0m,\n",
       "        \u001b[32m'alice.92'\u001b[0m,\n",
       "        \u001b[32m'alice.93'\u001b[0m,\n",
       "        \u001b[32m'alice.94'\u001b[0m,\n",
       "        \u001b[32m'alice.95'\u001b[0m,\n",
       "        \u001b[32m'alice.96'\u001b[0m,\n",
       "        \u001b[32m'alice.97'\u001b[0m,\n",
       "        \u001b[32m'alice.98'\u001b[0m,\n",
       "        \u001b[32m'alice.99'\u001b[0m,\n",
       "        \u001b[32m'alice.100'\u001b[0m,\n",
       "        \u001b[32m'alice.101'\u001b[0m,\n",
       "        \u001b[32m'alice.102'\u001b[0m,\n",
       "        \u001b[32m'alice.103'\u001b[0m,\n",
       "        \u001b[32m'alice.104'\u001b[0m,\n",
       "        \u001b[32m'alice.105'\u001b[0m,\n",
       "        \u001b[32m'alice.106'\u001b[0m,\n",
       "        \u001b[32m'alice.107'\u001b[0m,\n",
       "        \u001b[32m'alice.108'\u001b[0m,\n",
       "        \u001b[32m'alice.109'\u001b[0m,\n",
       "        \u001b[32m'alice.110'\u001b[0m,\n",
       "        \u001b[32m'alice.111'\u001b[0m,\n",
       "        \u001b[32m'alice.112'\u001b[0m,\n",
       "        \u001b[32m'alice.113'\u001b[0m,\n",
       "        \u001b[32m'alice.114'\u001b[0m,\n",
       "        \u001b[32m'alice.115'\u001b[0m,\n",
       "        \u001b[32m'alice.116'\u001b[0m,\n",
       "        \u001b[32m'alice.117'\u001b[0m,\n",
       "        \u001b[32m'alice.118'\u001b[0m,\n",
       "        \u001b[32m'alice.119'\u001b[0m,\n",
       "        \u001b[32m'alice.120'\u001b[0m,\n",
       "        \u001b[32m'alice.121'\u001b[0m,\n",
       "        \u001b[32m'alice.122'\u001b[0m,\n",
       "        \u001b[32m'alice.123'\u001b[0m,\n",
       "        \u001b[32m'alice.124'\u001b[0m,\n",
       "        \u001b[32m'alice.125'\u001b[0m,\n",
       "        \u001b[32m'alice.126'\u001b[0m,\n",
       "        \u001b[32m'alice.127'\u001b[0m,\n",
       "        \u001b[32m'alice.128'\u001b[0m,\n",
       "        \u001b[32m'alice.129'\u001b[0m,\n",
       "        \u001b[32m'alice.130'\u001b[0m,\n",
       "        \u001b[32m'alice.131'\u001b[0m,\n",
       "        \u001b[32m'alice.132'\u001b[0m,\n",
       "        \u001b[32m'alice.133'\u001b[0m,\n",
       "        \u001b[32m'alice.134'\u001b[0m,\n",
       "        \u001b[32m'alice.135'\u001b[0m,\n",
       "        \u001b[32m'alice.136'\u001b[0m,\n",
       "        \u001b[32m'alice.137'\u001b[0m,\n",
       "        \u001b[32m'alice.138'\u001b[0m,\n",
       "        \u001b[32m'alice.139'\u001b[0m,\n",
       "        \u001b[32m'alice.140'\u001b[0m,\n",
       "        \u001b[32m'alice.141'\u001b[0m,\n",
       "        \u001b[32m'alice.142'\u001b[0m,\n",
       "        \u001b[32m'alice.143'\u001b[0m,\n",
       "        \u001b[32m'alice.144'\u001b[0m,\n",
       "        \u001b[32m'alice.145'\u001b[0m,\n",
       "        \u001b[32m'alice.146'\u001b[0m,\n",
       "        \u001b[32m'alice.147'\u001b[0m,\n",
       "        \u001b[32m'alice.148'\u001b[0m,\n",
       "        \u001b[32m'alice.149'\u001b[0m,\n",
       "        \u001b[32m'alice.150'\u001b[0m,\n",
       "        \u001b[32m'alice.151'\u001b[0m,\n",
       "        \u001b[32m'alice.152'\u001b[0m,\n",
       "        \u001b[32m'alice.153'\u001b[0m,\n",
       "        \u001b[32m'alice.154'\u001b[0m,\n",
       "        \u001b[32m'alice.155'\u001b[0m,\n",
       "        \u001b[32m'alice.156'\u001b[0m,\n",
       "        \u001b[32m'alice.157'\u001b[0m,\n",
       "        \u001b[32m'alice.158'\u001b[0m,\n",
       "        \u001b[32m'alice.159'\u001b[0m,\n",
       "        \u001b[32m'alice.160'\u001b[0m,\n",
       "        \u001b[32m'alice.161'\u001b[0m,\n",
       "        \u001b[32m'alice.162'\u001b[0m,\n",
       "        \u001b[32m'alice.163'\u001b[0m,\n",
       "        \u001b[32m'alice.164'\u001b[0m,\n",
       "        \u001b[32m'alice.165'\u001b[0m,\n",
       "        \u001b[32m'alice.166'\u001b[0m,\n",
       "        \u001b[32m'alice.167'\u001b[0m,\n",
       "        \u001b[32m'alice.168'\u001b[0m,\n",
       "        \u001b[32m'alice.169'\u001b[0m,\n",
       "        \u001b[32m'alice.170'\u001b[0m,\n",
       "        \u001b[32m'alice.171'\u001b[0m,\n",
       "        \u001b[32m'alice.172'\u001b[0m,\n",
       "        \u001b[32m'alice.173'\u001b[0m,\n",
       "        \u001b[32m'alice.174'\u001b[0m,\n",
       "        \u001b[32m'alice.175'\u001b[0m,\n",
       "        \u001b[32m'alice.176'\u001b[0m,\n",
       "        \u001b[32m'alice.177'\u001b[0m,\n",
       "        \u001b[32m'alice.178'\u001b[0m,\n",
       "        \u001b[32m'alice.179'\u001b[0m,\n",
       "        \u001b[32m'alice.180'\u001b[0m,\n",
       "        \u001b[32m'alice.181'\u001b[0m,\n",
       "        \u001b[32m'alice.182'\u001b[0m,\n",
       "        \u001b[32m'alice.183'\u001b[0m,\n",
       "        \u001b[32m'alice.184'\u001b[0m,\n",
       "        \u001b[32m'alice.185'\u001b[0m,\n",
       "        \u001b[32m'alice.186'\u001b[0m,\n",
       "        \u001b[32m'alice.187'\u001b[0m,\n",
       "        \u001b[32m'alice.188'\u001b[0m,\n",
       "        \u001b[32m'alice.189'\u001b[0m,\n",
       "        \u001b[32m'alice.190'\u001b[0m,\n",
       "        \u001b[32m'alice.191'\u001b[0m,\n",
       "        \u001b[32m'alice.192'\u001b[0m,\n",
       "        \u001b[32m'alice.193'\u001b[0m,\n",
       "        \u001b[32m'alice.194'\u001b[0m,\n",
       "        \u001b[32m'alice.195'\u001b[0m,\n",
       "        \u001b[32m'alice.196'\u001b[0m,\n",
       "        \u001b[32m'alice.197'\u001b[0m,\n",
       "        \u001b[32m'alice.198'\u001b[0m,\n",
       "        \u001b[32m'alice.199'\u001b[0m\n",
       "    \u001b[1m]\u001b[0m\n",
       "\u001b[1m}\u001b[0m\n"
      ]
     },
     "metadata": {},
     "output_type": "display_data"
    }
   ],
   "source": [
    "c.print({\n",
    "    'total_keys': bt.keys(),\n",
    "    'reged': bt.reged(),\n",
    "    'unreged': bt.unreged()\n",
    "})"
   ]
  },
  {
   "cell_type": "markdown",
   "id": "666bc503",
   "metadata": {},
   "source": [
    "## Mining"
   ]
  },
  {
   "cell_type": "code",
   "execution_count": 13,
   "id": "e1a76837",
   "metadata": {},
   "outputs": [
    {
     "data": {
      "text/html": [
       "<pre style=\"white-space:pre;overflow-x:auto;line-height:normal;font-family:Menlo,'DejaVu Sans Mono',consolas,'Courier New',monospace\">The defualt netuid is  <span style=\"color: #008080; text-decoration-color: #008080; font-weight: bold\">11</span>\n",
       "</pre>\n"
      ],
      "text/plain": [
       "The defualt netuid is  \u001b[1;36m11\u001b[0m\n"
      ]
     },
     "metadata": {},
     "output_type": "display_data"
    }
   ],
   "source": [
    "c.print('The defualt netuid is ',bt.default_netuid)"
   ]
  },
  {
   "cell_type": "code",
   "execution_count": 18,
   "id": "4ce38cc3",
   "metadata": {},
   "outputs": [
    {
     "data": {
      "text/html": [
       "<pre style=\"white-space:pre;overflow-x:auto;line-height:normal;font-family:Menlo,'DejaVu Sans Mono',consolas,'Courier New',monospace\">Mining with alice.<span style=\"color: #008080; text-decoration-color: #008080; font-weight: bold\">1</span>\n",
       "</pre>\n"
      ],
      "text/plain": [
       "Mining with alice.\u001b[1;36m1\u001b[0m\n"
      ]
     },
     "metadata": {},
     "output_type": "display_data"
    },
    {
     "data": {
      "text/html": [
       "<pre style=\"white-space:pre;overflow-x:auto;line-height:normal;font-family:Menlo,'DejaVu Sans Mono',consolas,'Courier New',monospace\"><span style=\"color: #008080; text-decoration-color: #008080; font-weight: bold\">Launching</span><span style=\"color: #008000; text-decoration-color: #008000\"> </span><span style=\"color: #808000; text-decoration-color: #808000; font-weight: bold\">class:BittensorModule</span><span style=\"color: #008000; text-decoration-color: #008000\"> </span><span style=\"color: #c0c0c0; text-decoration-color: #c0c0c0; font-weight: bold\">name</span><span style=\"color: #008000; text-decoration-color: #008000\">:miner::alice.</span><span style=\"color: #00ff00; text-decoration-color: #00ff00; font-weight: bold\">1::f</span><span style=\"color: #008000; text-decoration-color: #008000\">inney::</span><span style=\"color: #008080; text-decoration-color: #008080; font-weight: bold\">11</span><span style=\"color: #008000; text-decoration-color: #008000\"> </span><span style=\"color: #c0c0c0; text-decoration-color: #c0c0c0; font-weight: bold\">fn</span><span style=\"color: #008000; text-decoration-color: #008000\">:mine </span><span style=\"color: #c0c0c0; text-decoration-color: #c0c0c0; font-weight: bold\">mode</span><span style=\"color: #008000; text-decoration-color: #008000\">:pm2</span>\n",
       "</pre>\n"
      ],
      "text/plain": [
       "\u001b[1;36mLaunching\u001b[0m\u001b[32m \u001b[0m\u001b[1;33mclass:BittensorModule\u001b[0m\u001b[32m \u001b[0m\u001b[1;37mname\u001b[0m\u001b[32m:miner::alice.\u001b[0m\u001b[1;92m1::f\u001b[0m\u001b[32minney::\u001b[0m\u001b[1;36m11\u001b[0m\u001b[32m \u001b[0m\u001b[1;37mfn\u001b[0m\u001b[32m:mine \u001b[0m\u001b[1;37mmode\u001b[0m\u001b[32m:pm2\u001b[0m\n"
      ]
     },
     "metadata": {},
     "output_type": "display_data"
    },
    {
     "data": {
      "text/html": [
       "<pre style=\"white-space:pre;overflow-x:auto;line-height:normal;font-family:Menlo,'DejaVu Sans Mono',consolas,'Courier New',monospace\"><span style=\"color: #800000; text-decoration-color: #800000\">ERROR: No pm2 processes found for miner::alice.</span><span style=\"color: #00ff00; text-decoration-color: #00ff00; font-weight: bold\">1::f</span><span style=\"color: #800000; text-decoration-color: #800000\">inney::</span><span style=\"color: #008080; text-decoration-color: #008080; font-weight: bold\">11</span>\n",
       "</pre>\n"
      ],
      "text/plain": [
       "\u001b[31mERROR: No pm2 processes found for miner::alice.\u001b[0m\u001b[1;92m1::f\u001b[0m\u001b[31minney::\u001b[0m\u001b[1;36m11\u001b[0m\n"
      ]
     },
     "metadata": {},
     "output_type": "display_data"
    }
   ],
   "source": [
    "unreged = bt.unreged()\n",
    "c.print('Mining with', unreged[0])\n",
    "bt.mine(unreged[0])"
   ]
  },
  {
   "cell_type": "code",
   "execution_count": 19,
   "id": "51e711f8",
   "metadata": {},
   "outputs": [
    {
     "data": {
      "text/html": [
       "<pre style=\"white-space:pre;overflow-x:auto;line-height:normal;font-family:Menlo,'DejaVu Sans Mono',consolas,'Courier New',monospace\">alice.<span style=\"color: #008080; text-decoration-color: #008080; font-weight: bold\">0</span> is already registered on <span style=\"color: #800080; text-decoration-color: #800080; font-weight: bold\">Subtensor</span><span style=\"font-weight: bold\">(</span>finney, <span style=\"color: #0000ff; text-decoration-color: #0000ff; text-decoration: underline\">wss://entrypoint-finney.opentensor.ai:443)</span> <span style=\"color: #008080; text-decoration-color: #008080; font-weight: bold\">11</span>!\n",
       "</pre>\n"
      ],
      "text/plain": [
       "alice.\u001b[1;36m0\u001b[0m is already registered on \u001b[1;35mSubtensor\u001b[0m\u001b[1m(\u001b[0mfinney, \u001b[4;94mwss://entrypoint-finney.opentensor.ai:443\u001b[0m\u001b[4;94m)\u001b[0m \u001b[1;36m11\u001b[0m!\n"
      ]
     },
     "metadata": {},
     "output_type": "display_data"
    },
    {
     "data": {
      "text/html": [
       "<pre style=\"white-space:pre;overflow-x:auto;line-height:normal;font-family:Menlo,'DejaVu Sans Mono',consolas,'Courier New',monospace\"><span style=\"color: #008000; text-decoration-color: #008000\">Getting neuron info for 5Fps2wgmx5hHEtgbbkGuL8WRA86ieN597FxSemMJcSJgYCKy on netuid </span><span style=\"color: #008080; text-decoration-color: #008080; font-weight: bold\">11</span>\n",
       "</pre>\n"
      ],
      "text/plain": [
       "\u001b[32mGetting neuron info for 5Fps2wgmx5hHEtgbbkGuL8WRA86ieN597FxSemMJcSJgYCKy on netuid \u001b[0m\u001b[1;36m11\u001b[0m\n"
      ]
     },
     "metadata": {},
     "output_type": "display_data"
    },
    {
     "data": {
      "text/html": [
       "<pre style=\"white-space:pre;overflow-x:auto;line-height:normal;font-family:Menlo,'DejaVu Sans Mono',consolas,'Courier New',monospace\">Deploying -&gt; Miner: miner::alice.<span style=\"color: #00ff00; text-decoration-color: #00ff00; font-weight: bold\">0::f</span>inney::<span style=\"color: #008080; text-decoration-color: #008080; font-weight: bold\">11</span> Device: cpu Axon_port: <span style=\"color: #008080; text-decoration-color: #008080; font-weight: bold\">3164</span>, Prom_port: <span style=\"color: #008080; text-decoration-color: #008080; font-weight: bold\">0</span>\n",
       "</pre>\n"
      ],
      "text/plain": [
       "Deploying -> Miner: miner::alice.\u001b[1;92m0::f\u001b[0minney::\u001b[1;36m11\u001b[0m Device: cpu Axon_port: \u001b[1;36m3164\u001b[0m, Prom_port: \u001b[1;36m0\u001b[0m\n"
      ]
     },
     "metadata": {},
     "output_type": "display_data"
    },
    {
     "data": {
      "text/html": [
       "<pre style=\"white-space:pre;overflow-x:auto;line-height:normal;font-family:Menlo,'DejaVu Sans Mono',consolas,'Courier New',monospace\"><span style=\"color: #008080; text-decoration-color: #008080; font-weight: bold\">Launching</span><span style=\"color: #008000; text-decoration-color: #008000\"> </span><span style=\"color: #808000; text-decoration-color: #808000; font-weight: bold\">class:BittensorModule</span><span style=\"color: #008000; text-decoration-color: #008000\"> </span><span style=\"color: #c0c0c0; text-decoration-color: #c0c0c0; font-weight: bold\">name</span><span style=\"color: #008000; text-decoration-color: #008000\">:miner::alice.</span><span style=\"color: #00ff00; text-decoration-color: #00ff00; font-weight: bold\">0::f</span><span style=\"color: #008000; text-decoration-color: #008000\">inney::</span><span style=\"color: #008080; text-decoration-color: #008080; font-weight: bold\">11</span><span style=\"color: #008000; text-decoration-color: #008000\"> </span><span style=\"color: #c0c0c0; text-decoration-color: #c0c0c0; font-weight: bold\">fn</span><span style=\"color: #008000; text-decoration-color: #008000\">:mine </span><span style=\"color: #c0c0c0; text-decoration-color: #c0c0c0; font-weight: bold\">mode</span><span style=\"color: #008000; text-decoration-color: #008000\">:pm2</span>\n",
       "</pre>\n"
      ],
      "text/plain": [
       "\u001b[1;36mLaunching\u001b[0m\u001b[32m \u001b[0m\u001b[1;33mclass:BittensorModule\u001b[0m\u001b[32m \u001b[0m\u001b[1;37mname\u001b[0m\u001b[32m:miner::alice.\u001b[0m\u001b[1;92m0::f\u001b[0m\u001b[32minney::\u001b[0m\u001b[1;36m11\u001b[0m\u001b[32m \u001b[0m\u001b[1;37mfn\u001b[0m\u001b[32m:mine \u001b[0m\u001b[1;37mmode\u001b[0m\u001b[32m:pm2\u001b[0m\n"
      ]
     },
     "metadata": {},
     "output_type": "display_data"
    },
    {
     "data": {
      "text/html": [
       "<pre style=\"white-space:pre;overflow-x:auto;line-height:normal;font-family:Menlo,'DejaVu Sans Mono',consolas,'Courier New',monospace\"><span style=\"color: #800000; text-decoration-color: #800000\">ERROR: No pm2 processes found for miner::alice.</span><span style=\"color: #00ff00; text-decoration-color: #00ff00; font-weight: bold\">0::f</span><span style=\"color: #800000; text-decoration-color: #800000\">inney::</span><span style=\"color: #008080; text-decoration-color: #008080; font-weight: bold\">11</span>\n",
       "</pre>\n"
      ],
      "text/plain": [
       "\u001b[31mERROR: No pm2 processes found for miner::alice.\u001b[0m\u001b[1;92m0::f\u001b[0m\u001b[31minney::\u001b[0m\u001b[1;36m11\u001b[0m\n"
      ]
     },
     "metadata": {},
     "output_type": "display_data"
    },
    {
     "data": {
      "text/html": [
       "<pre style=\"white-space:pre;overflow-x:auto;line-height:normal;font-family:Menlo,'DejaVu Sans Mono',consolas,'Courier New',monospace\">Deploying -&gt; Miner: miner::alice.<span style=\"color: #00ff00; text-decoration-color: #00ff00; font-weight: bold\">1::f</span>inney::<span style=\"color: #008080; text-decoration-color: #008080; font-weight: bold\">11</span> Device: cpu Axon_port: <span style=\"color: #008080; text-decoration-color: #008080; font-weight: bold\">4418</span>, Prom_port: <span style=\"color: #008080; text-decoration-color: #008080; font-weight: bold\">3418</span>\n",
       "</pre>\n"
      ],
      "text/plain": [
       "Deploying -> Miner: miner::alice.\u001b[1;92m1::f\u001b[0minney::\u001b[1;36m11\u001b[0m Device: cpu Axon_port: \u001b[1;36m4418\u001b[0m, Prom_port: \u001b[1;36m3418\u001b[0m\n"
      ]
     },
     "metadata": {},
     "output_type": "display_data"
    },
    {
     "data": {
      "text/html": [
       "<pre style=\"white-space:pre;overflow-x:auto;line-height:normal;font-family:Menlo,'DejaVu Sans Mono',consolas,'Courier New',monospace\"><span style=\"color: #008080; text-decoration-color: #008080; font-weight: bold\">Launching</span><span style=\"color: #008000; text-decoration-color: #008000\"> </span><span style=\"color: #808000; text-decoration-color: #808000; font-weight: bold\">class:BittensorModule</span><span style=\"color: #008000; text-decoration-color: #008000\"> </span><span style=\"color: #c0c0c0; text-decoration-color: #c0c0c0; font-weight: bold\">name</span><span style=\"color: #008000; text-decoration-color: #008000\">:miner::alice.</span><span style=\"color: #00ff00; text-decoration-color: #00ff00; font-weight: bold\">1::f</span><span style=\"color: #008000; text-decoration-color: #008000\">inney::</span><span style=\"color: #008080; text-decoration-color: #008080; font-weight: bold\">11</span><span style=\"color: #008000; text-decoration-color: #008000\"> </span><span style=\"color: #c0c0c0; text-decoration-color: #c0c0c0; font-weight: bold\">fn</span><span style=\"color: #008000; text-decoration-color: #008000\">:mine </span><span style=\"color: #c0c0c0; text-decoration-color: #c0c0c0; font-weight: bold\">mode</span><span style=\"color: #008000; text-decoration-color: #008000\">:pm2</span>\n",
       "</pre>\n"
      ],
      "text/plain": [
       "\u001b[1;36mLaunching\u001b[0m\u001b[32m \u001b[0m\u001b[1;33mclass:BittensorModule\u001b[0m\u001b[32m \u001b[0m\u001b[1;37mname\u001b[0m\u001b[32m:miner::alice.\u001b[0m\u001b[1;92m1::f\u001b[0m\u001b[32minney::\u001b[0m\u001b[1;36m11\u001b[0m\u001b[32m \u001b[0m\u001b[1;37mfn\u001b[0m\u001b[32m:mine \u001b[0m\u001b[1;37mmode\u001b[0m\u001b[32m:pm2\u001b[0m\n"
      ]
     },
     "metadata": {},
     "output_type": "display_data"
    },
    {
     "data": {
      "text/html": [
       "<pre style=\"white-space:pre;overflow-x:auto;line-height:normal;font-family:Menlo,'DejaVu Sans Mono',consolas,'Courier New',monospace\"><span style=\"color: #800000; text-decoration-color: #800000\">ERROR: No pm2 processes found for miner::alice.</span><span style=\"color: #00ff00; text-decoration-color: #00ff00; font-weight: bold\">1::f</span><span style=\"color: #800000; text-decoration-color: #800000\">inney::</span><span style=\"color: #008080; text-decoration-color: #008080; font-weight: bold\">11</span>\n",
       "</pre>\n"
      ],
      "text/plain": [
       "\u001b[31mERROR: No pm2 processes found for miner::alice.\u001b[0m\u001b[1;92m1::f\u001b[0m\u001b[31minney::\u001b[0m\u001b[1;36m11\u001b[0m\n"
      ]
     },
     "metadata": {},
     "output_type": "display_data"
    },
    {
     "data": {
      "text/html": [
       "<pre style=\"white-space:pre;overflow-x:auto;line-height:normal;font-family:Menlo,'DejaVu Sans Mono',consolas,'Courier New',monospace\">Deploying -&gt; Miner: miner::alice.<span style=\"color: #00ff00; text-decoration-color: #00ff00; font-weight: bold\">2::f</span>inney::<span style=\"color: #008080; text-decoration-color: #008080; font-weight: bold\">11</span> Device: cpu Axon_port: <span style=\"color: #008080; text-decoration-color: #008080; font-weight: bold\">4506</span>, Prom_port: <span style=\"color: #008080; text-decoration-color: #008080; font-weight: bold\">3506</span>\n",
       "</pre>\n"
      ],
      "text/plain": [
       "Deploying -> Miner: miner::alice.\u001b[1;92m2::f\u001b[0minney::\u001b[1;36m11\u001b[0m Device: cpu Axon_port: \u001b[1;36m4506\u001b[0m, Prom_port: \u001b[1;36m3506\u001b[0m\n"
      ]
     },
     "metadata": {},
     "output_type": "display_data"
    },
    {
     "data": {
      "text/html": [
       "<pre style=\"white-space:pre;overflow-x:auto;line-height:normal;font-family:Menlo,'DejaVu Sans Mono',consolas,'Courier New',monospace\"><span style=\"color: #008080; text-decoration-color: #008080; font-weight: bold\">Launching</span><span style=\"color: #008000; text-decoration-color: #008000\"> </span><span style=\"color: #808000; text-decoration-color: #808000; font-weight: bold\">class:BittensorModule</span><span style=\"color: #008000; text-decoration-color: #008000\"> </span><span style=\"color: #c0c0c0; text-decoration-color: #c0c0c0; font-weight: bold\">name</span><span style=\"color: #008000; text-decoration-color: #008000\">:miner::alice.</span><span style=\"color: #00ff00; text-decoration-color: #00ff00; font-weight: bold\">2::f</span><span style=\"color: #008000; text-decoration-color: #008000\">inney::</span><span style=\"color: #008080; text-decoration-color: #008080; font-weight: bold\">11</span><span style=\"color: #008000; text-decoration-color: #008000\"> </span><span style=\"color: #c0c0c0; text-decoration-color: #c0c0c0; font-weight: bold\">fn</span><span style=\"color: #008000; text-decoration-color: #008000\">:mine </span><span style=\"color: #c0c0c0; text-decoration-color: #c0c0c0; font-weight: bold\">mode</span><span style=\"color: #008000; text-decoration-color: #008000\">:pm2</span>\n",
       "</pre>\n"
      ],
      "text/plain": [
       "\u001b[1;36mLaunching\u001b[0m\u001b[32m \u001b[0m\u001b[1;33mclass:BittensorModule\u001b[0m\u001b[32m \u001b[0m\u001b[1;37mname\u001b[0m\u001b[32m:miner::alice.\u001b[0m\u001b[1;92m2::f\u001b[0m\u001b[32minney::\u001b[0m\u001b[1;36m11\u001b[0m\u001b[32m \u001b[0m\u001b[1;37mfn\u001b[0m\u001b[32m:mine \u001b[0m\u001b[1;37mmode\u001b[0m\u001b[32m:pm2\u001b[0m\n"
      ]
     },
     "metadata": {},
     "output_type": "display_data"
    },
    {
     "data": {
      "text/html": [
       "<pre style=\"white-space:pre;overflow-x:auto;line-height:normal;font-family:Menlo,'DejaVu Sans Mono',consolas,'Courier New',monospace\"><span style=\"color: #800000; text-decoration-color: #800000\">ERROR: No pm2 processes found for miner::alice.</span><span style=\"color: #00ff00; text-decoration-color: #00ff00; font-weight: bold\">2::f</span><span style=\"color: #800000; text-decoration-color: #800000\">inney::</span><span style=\"color: #008080; text-decoration-color: #008080; font-weight: bold\">11</span>\n",
       "</pre>\n"
      ],
      "text/plain": [
       "\u001b[31mERROR: No pm2 processes found for miner::alice.\u001b[0m\u001b[1;92m2::f\u001b[0m\u001b[31minney::\u001b[0m\u001b[1;36m11\u001b[0m\n"
      ]
     },
     "metadata": {},
     "output_type": "display_data"
    },
    {
     "data": {
      "text/html": [
       "<pre style=\"white-space:pre;overflow-x:auto;line-height:normal;font-family:Menlo,'DejaVu Sans Mono',consolas,'Courier New',monospace\">Deploying -&gt; Miner: miner::alice.<span style=\"color: #00ff00; text-decoration-color: #00ff00; font-weight: bold\">3::f</span>inney::<span style=\"color: #008080; text-decoration-color: #008080; font-weight: bold\">11</span> Device: cpu Axon_port: <span style=\"color: #008080; text-decoration-color: #008080; font-weight: bold\">4084</span>, Prom_port: <span style=\"color: #008080; text-decoration-color: #008080; font-weight: bold\">3084</span>\n",
       "</pre>\n"
      ],
      "text/plain": [
       "Deploying -> Miner: miner::alice.\u001b[1;92m3::f\u001b[0minney::\u001b[1;36m11\u001b[0m Device: cpu Axon_port: \u001b[1;36m4084\u001b[0m, Prom_port: \u001b[1;36m3084\u001b[0m\n"
      ]
     },
     "metadata": {},
     "output_type": "display_data"
    },
    {
     "data": {
      "text/html": [
       "<pre style=\"white-space:pre;overflow-x:auto;line-height:normal;font-family:Menlo,'DejaVu Sans Mono',consolas,'Courier New',monospace\"><span style=\"color: #008080; text-decoration-color: #008080; font-weight: bold\">Launching</span><span style=\"color: #008000; text-decoration-color: #008000\"> </span><span style=\"color: #808000; text-decoration-color: #808000; font-weight: bold\">class:BittensorModule</span><span style=\"color: #008000; text-decoration-color: #008000\"> </span><span style=\"color: #c0c0c0; text-decoration-color: #c0c0c0; font-weight: bold\">name</span><span style=\"color: #008000; text-decoration-color: #008000\">:miner::alice.</span><span style=\"color: #00ff00; text-decoration-color: #00ff00; font-weight: bold\">3::f</span><span style=\"color: #008000; text-decoration-color: #008000\">inney::</span><span style=\"color: #008080; text-decoration-color: #008080; font-weight: bold\">11</span><span style=\"color: #008000; text-decoration-color: #008000\"> </span><span style=\"color: #c0c0c0; text-decoration-color: #c0c0c0; font-weight: bold\">fn</span><span style=\"color: #008000; text-decoration-color: #008000\">:mine </span><span style=\"color: #c0c0c0; text-decoration-color: #c0c0c0; font-weight: bold\">mode</span><span style=\"color: #008000; text-decoration-color: #008000\">:pm2</span>\n",
       "</pre>\n"
      ],
      "text/plain": [
       "\u001b[1;36mLaunching\u001b[0m\u001b[32m \u001b[0m\u001b[1;33mclass:BittensorModule\u001b[0m\u001b[32m \u001b[0m\u001b[1;37mname\u001b[0m\u001b[32m:miner::alice.\u001b[0m\u001b[1;92m3::f\u001b[0m\u001b[32minney::\u001b[0m\u001b[1;36m11\u001b[0m\u001b[32m \u001b[0m\u001b[1;37mfn\u001b[0m\u001b[32m:mine \u001b[0m\u001b[1;37mmode\u001b[0m\u001b[32m:pm2\u001b[0m\n"
      ]
     },
     "metadata": {},
     "output_type": "display_data"
    },
    {
     "data": {
      "text/html": [
       "<pre style=\"white-space:pre;overflow-x:auto;line-height:normal;font-family:Menlo,'DejaVu Sans Mono',consolas,'Courier New',monospace\"><span style=\"color: #800000; text-decoration-color: #800000\">ERROR: No pm2 processes found for miner::alice.</span><span style=\"color: #00ff00; text-decoration-color: #00ff00; font-weight: bold\">3::f</span><span style=\"color: #800000; text-decoration-color: #800000\">inney::</span><span style=\"color: #008080; text-decoration-color: #008080; font-weight: bold\">11</span>\n",
       "</pre>\n"
      ],
      "text/plain": [
       "\u001b[31mERROR: No pm2 processes found for miner::alice.\u001b[0m\u001b[1;92m3::f\u001b[0m\u001b[31minney::\u001b[0m\u001b[1;36m11\u001b[0m\n"
      ]
     },
     "metadata": {},
     "output_type": "display_data"
    },
    {
     "data": {
      "text/html": [
       "<pre style=\"white-space:pre;overflow-x:auto;line-height:normal;font-family:Menlo,'DejaVu Sans Mono',consolas,'Courier New',monospace\">Deploying -&gt; Miner: miner::alice.<span style=\"color: #00ff00; text-decoration-color: #00ff00; font-weight: bold\">4::f</span>inney::<span style=\"color: #008080; text-decoration-color: #008080; font-weight: bold\">11</span> Device: cpu Axon_port: <span style=\"color: #008080; text-decoration-color: #008080; font-weight: bold\">4104</span>, Prom_port: <span style=\"color: #008080; text-decoration-color: #008080; font-weight: bold\">3104</span>\n",
       "</pre>\n"
      ],
      "text/plain": [
       "Deploying -> Miner: miner::alice.\u001b[1;92m4::f\u001b[0minney::\u001b[1;36m11\u001b[0m Device: cpu Axon_port: \u001b[1;36m4104\u001b[0m, Prom_port: \u001b[1;36m3104\u001b[0m\n"
      ]
     },
     "metadata": {},
     "output_type": "display_data"
    },
    {
     "data": {
      "text/html": [
       "<pre style=\"white-space:pre;overflow-x:auto;line-height:normal;font-family:Menlo,'DejaVu Sans Mono',consolas,'Courier New',monospace\"><span style=\"color: #008080; text-decoration-color: #008080; font-weight: bold\">Launching</span><span style=\"color: #008000; text-decoration-color: #008000\"> </span><span style=\"color: #808000; text-decoration-color: #808000; font-weight: bold\">class:BittensorModule</span><span style=\"color: #008000; text-decoration-color: #008000\"> </span><span style=\"color: #c0c0c0; text-decoration-color: #c0c0c0; font-weight: bold\">name</span><span style=\"color: #008000; text-decoration-color: #008000\">:miner::alice.</span><span style=\"color: #00ff00; text-decoration-color: #00ff00; font-weight: bold\">4::f</span><span style=\"color: #008000; text-decoration-color: #008000\">inney::</span><span style=\"color: #008080; text-decoration-color: #008080; font-weight: bold\">11</span><span style=\"color: #008000; text-decoration-color: #008000\"> </span><span style=\"color: #c0c0c0; text-decoration-color: #c0c0c0; font-weight: bold\">fn</span><span style=\"color: #008000; text-decoration-color: #008000\">:mine </span><span style=\"color: #c0c0c0; text-decoration-color: #c0c0c0; font-weight: bold\">mode</span><span style=\"color: #008000; text-decoration-color: #008000\">:pm2</span>\n",
       "</pre>\n"
      ],
      "text/plain": [
       "\u001b[1;36mLaunching\u001b[0m\u001b[32m \u001b[0m\u001b[1;33mclass:BittensorModule\u001b[0m\u001b[32m \u001b[0m\u001b[1;37mname\u001b[0m\u001b[32m:miner::alice.\u001b[0m\u001b[1;92m4::f\u001b[0m\u001b[32minney::\u001b[0m\u001b[1;36m11\u001b[0m\u001b[32m \u001b[0m\u001b[1;37mfn\u001b[0m\u001b[32m:mine \u001b[0m\u001b[1;37mmode\u001b[0m\u001b[32m:pm2\u001b[0m\n"
      ]
     },
     "metadata": {},
     "output_type": "display_data"
    },
    {
     "data": {
      "text/html": [
       "<pre style=\"white-space:pre;overflow-x:auto;line-height:normal;font-family:Menlo,'DejaVu Sans Mono',consolas,'Courier New',monospace\"><span style=\"color: #800000; text-decoration-color: #800000\">ERROR: No pm2 processes found for miner::alice.</span><span style=\"color: #00ff00; text-decoration-color: #00ff00; font-weight: bold\">4::f</span><span style=\"color: #800000; text-decoration-color: #800000\">inney::</span><span style=\"color: #008080; text-decoration-color: #008080; font-weight: bold\">11</span>\n",
       "</pre>\n"
      ],
      "text/plain": [
       "\u001b[31mERROR: No pm2 processes found for miner::alice.\u001b[0m\u001b[1;92m4::f\u001b[0m\u001b[31minney::\u001b[0m\u001b[1;36m11\u001b[0m\n"
      ]
     },
     "metadata": {},
     "output_type": "display_data"
    },
    {
     "data": {
      "text/html": [
       "<pre style=\"white-space:pre;overflow-x:auto;line-height:normal;font-family:Menlo,'DejaVu Sans Mono',consolas,'Courier New',monospace\">Deploying -&gt; Miner: miner::alice.<span style=\"color: #00ff00; text-decoration-color: #00ff00; font-weight: bold\">5::f</span>inney::<span style=\"color: #008080; text-decoration-color: #008080; font-weight: bold\">11</span> Device: cpu Axon_port: <span style=\"color: #008080; text-decoration-color: #008080; font-weight: bold\">4179</span>, Prom_port: <span style=\"color: #008080; text-decoration-color: #008080; font-weight: bold\">3179</span>\n",
       "</pre>\n"
      ],
      "text/plain": [
       "Deploying -> Miner: miner::alice.\u001b[1;92m5::f\u001b[0minney::\u001b[1;36m11\u001b[0m Device: cpu Axon_port: \u001b[1;36m4179\u001b[0m, Prom_port: \u001b[1;36m3179\u001b[0m\n"
      ]
     },
     "metadata": {},
     "output_type": "display_data"
    },
    {
     "data": {
      "text/html": [
       "<pre style=\"white-space:pre;overflow-x:auto;line-height:normal;font-family:Menlo,'DejaVu Sans Mono',consolas,'Courier New',monospace\"><span style=\"color: #008080; text-decoration-color: #008080; font-weight: bold\">Launching</span><span style=\"color: #008000; text-decoration-color: #008000\"> </span><span style=\"color: #808000; text-decoration-color: #808000; font-weight: bold\">class:BittensorModule</span><span style=\"color: #008000; text-decoration-color: #008000\"> </span><span style=\"color: #c0c0c0; text-decoration-color: #c0c0c0; font-weight: bold\">name</span><span style=\"color: #008000; text-decoration-color: #008000\">:miner::alice.</span><span style=\"color: #00ff00; text-decoration-color: #00ff00; font-weight: bold\">5::f</span><span style=\"color: #008000; text-decoration-color: #008000\">inney::</span><span style=\"color: #008080; text-decoration-color: #008080; font-weight: bold\">11</span><span style=\"color: #008000; text-decoration-color: #008000\"> </span><span style=\"color: #c0c0c0; text-decoration-color: #c0c0c0; font-weight: bold\">fn</span><span style=\"color: #008000; text-decoration-color: #008000\">:mine </span><span style=\"color: #c0c0c0; text-decoration-color: #c0c0c0; font-weight: bold\">mode</span><span style=\"color: #008000; text-decoration-color: #008000\">:pm2</span>\n",
       "</pre>\n"
      ],
      "text/plain": [
       "\u001b[1;36mLaunching\u001b[0m\u001b[32m \u001b[0m\u001b[1;33mclass:BittensorModule\u001b[0m\u001b[32m \u001b[0m\u001b[1;37mname\u001b[0m\u001b[32m:miner::alice.\u001b[0m\u001b[1;92m5::f\u001b[0m\u001b[32minney::\u001b[0m\u001b[1;36m11\u001b[0m\u001b[32m \u001b[0m\u001b[1;37mfn\u001b[0m\u001b[32m:mine \u001b[0m\u001b[1;37mmode\u001b[0m\u001b[32m:pm2\u001b[0m\n"
      ]
     },
     "metadata": {},
     "output_type": "display_data"
    },
    {
     "data": {
      "text/html": [
       "<pre style=\"white-space:pre;overflow-x:auto;line-height:normal;font-family:Menlo,'DejaVu Sans Mono',consolas,'Courier New',monospace\"><span style=\"color: #800000; text-decoration-color: #800000\">ERROR: No pm2 processes found for miner::alice.</span><span style=\"color: #00ff00; text-decoration-color: #00ff00; font-weight: bold\">5::f</span><span style=\"color: #800000; text-decoration-color: #800000\">inney::</span><span style=\"color: #008080; text-decoration-color: #008080; font-weight: bold\">11</span>\n",
       "</pre>\n"
      ],
      "text/plain": [
       "\u001b[31mERROR: No pm2 processes found for miner::alice.\u001b[0m\u001b[1;92m5::f\u001b[0m\u001b[31minney::\u001b[0m\u001b[1;36m11\u001b[0m\n"
      ]
     },
     "metadata": {},
     "output_type": "display_data"
    },
    {
     "data": {
      "text/html": [
       "<pre style=\"white-space:pre;overflow-x:auto;line-height:normal;font-family:Menlo,'DejaVu Sans Mono',consolas,'Courier New',monospace\">Deploying -&gt; Miner: miner::alice.<span style=\"color: #00ff00; text-decoration-color: #00ff00; font-weight: bold\">6::f</span>inney::<span style=\"color: #008080; text-decoration-color: #008080; font-weight: bold\">11</span> Device: cpu Axon_port: <span style=\"color: #008080; text-decoration-color: #008080; font-weight: bold\">4538</span>, Prom_port: <span style=\"color: #008080; text-decoration-color: #008080; font-weight: bold\">3538</span>\n",
       "</pre>\n"
      ],
      "text/plain": [
       "Deploying -> Miner: miner::alice.\u001b[1;92m6::f\u001b[0minney::\u001b[1;36m11\u001b[0m Device: cpu Axon_port: \u001b[1;36m4538\u001b[0m, Prom_port: \u001b[1;36m3538\u001b[0m\n"
      ]
     },
     "metadata": {},
     "output_type": "display_data"
    },
    {
     "data": {
      "text/html": [
       "<pre style=\"white-space:pre;overflow-x:auto;line-height:normal;font-family:Menlo,'DejaVu Sans Mono',consolas,'Courier New',monospace\"><span style=\"color: #008080; text-decoration-color: #008080; font-weight: bold\">Launching</span><span style=\"color: #008000; text-decoration-color: #008000\"> </span><span style=\"color: #808000; text-decoration-color: #808000; font-weight: bold\">class:BittensorModule</span><span style=\"color: #008000; text-decoration-color: #008000\"> </span><span style=\"color: #c0c0c0; text-decoration-color: #c0c0c0; font-weight: bold\">name</span><span style=\"color: #008000; text-decoration-color: #008000\">:miner::alice.</span><span style=\"color: #00ff00; text-decoration-color: #00ff00; font-weight: bold\">6::f</span><span style=\"color: #008000; text-decoration-color: #008000\">inney::</span><span style=\"color: #008080; text-decoration-color: #008080; font-weight: bold\">11</span><span style=\"color: #008000; text-decoration-color: #008000\"> </span><span style=\"color: #c0c0c0; text-decoration-color: #c0c0c0; font-weight: bold\">fn</span><span style=\"color: #008000; text-decoration-color: #008000\">:mine </span><span style=\"color: #c0c0c0; text-decoration-color: #c0c0c0; font-weight: bold\">mode</span><span style=\"color: #008000; text-decoration-color: #008000\">:pm2</span>\n",
       "</pre>\n"
      ],
      "text/plain": [
       "\u001b[1;36mLaunching\u001b[0m\u001b[32m \u001b[0m\u001b[1;33mclass:BittensorModule\u001b[0m\u001b[32m \u001b[0m\u001b[1;37mname\u001b[0m\u001b[32m:miner::alice.\u001b[0m\u001b[1;92m6::f\u001b[0m\u001b[32minney::\u001b[0m\u001b[1;36m11\u001b[0m\u001b[32m \u001b[0m\u001b[1;37mfn\u001b[0m\u001b[32m:mine \u001b[0m\u001b[1;37mmode\u001b[0m\u001b[32m:pm2\u001b[0m\n"
      ]
     },
     "metadata": {},
     "output_type": "display_data"
    },
    {
     "data": {
      "text/html": [
       "<pre style=\"white-space:pre;overflow-x:auto;line-height:normal;font-family:Menlo,'DejaVu Sans Mono',consolas,'Courier New',monospace\"><span style=\"color: #800000; text-decoration-color: #800000\">ERROR: No pm2 processes found for miner::alice.</span><span style=\"color: #00ff00; text-decoration-color: #00ff00; font-weight: bold\">6::f</span><span style=\"color: #800000; text-decoration-color: #800000\">inney::</span><span style=\"color: #008080; text-decoration-color: #008080; font-weight: bold\">11</span>\n",
       "</pre>\n"
      ],
      "text/plain": [
       "\u001b[31mERROR: No pm2 processes found for miner::alice.\u001b[0m\u001b[1;92m6::f\u001b[0m\u001b[31minney::\u001b[0m\u001b[1;36m11\u001b[0m\n"
      ]
     },
     "metadata": {},
     "output_type": "display_data"
    },
    {
     "data": {
      "text/html": [
       "<pre style=\"white-space:pre;overflow-x:auto;line-height:normal;font-family:Menlo,'DejaVu Sans Mono',consolas,'Courier New',monospace\">Deploying -&gt; Miner: miner::alice.<span style=\"color: #00ff00; text-decoration-color: #00ff00; font-weight: bold\">7::f</span>inney::<span style=\"color: #008080; text-decoration-color: #008080; font-weight: bold\">11</span> Device: cpu Axon_port: <span style=\"color: #008080; text-decoration-color: #008080; font-weight: bold\">4432</span>, Prom_port: <span style=\"color: #008080; text-decoration-color: #008080; font-weight: bold\">3432</span>\n",
       "</pre>\n"
      ],
      "text/plain": [
       "Deploying -> Miner: miner::alice.\u001b[1;92m7::f\u001b[0minney::\u001b[1;36m11\u001b[0m Device: cpu Axon_port: \u001b[1;36m4432\u001b[0m, Prom_port: \u001b[1;36m3432\u001b[0m\n"
      ]
     },
     "metadata": {},
     "output_type": "display_data"
    },
    {
     "data": {
      "text/html": [
       "<pre style=\"white-space:pre;overflow-x:auto;line-height:normal;font-family:Menlo,'DejaVu Sans Mono',consolas,'Courier New',monospace\"><span style=\"color: #008080; text-decoration-color: #008080; font-weight: bold\">Launching</span><span style=\"color: #008000; text-decoration-color: #008000\"> </span><span style=\"color: #808000; text-decoration-color: #808000; font-weight: bold\">class:BittensorModule</span><span style=\"color: #008000; text-decoration-color: #008000\"> </span><span style=\"color: #c0c0c0; text-decoration-color: #c0c0c0; font-weight: bold\">name</span><span style=\"color: #008000; text-decoration-color: #008000\">:miner::alice.</span><span style=\"color: #00ff00; text-decoration-color: #00ff00; font-weight: bold\">7::f</span><span style=\"color: #008000; text-decoration-color: #008000\">inney::</span><span style=\"color: #008080; text-decoration-color: #008080; font-weight: bold\">11</span><span style=\"color: #008000; text-decoration-color: #008000\"> </span><span style=\"color: #c0c0c0; text-decoration-color: #c0c0c0; font-weight: bold\">fn</span><span style=\"color: #008000; text-decoration-color: #008000\">:mine </span><span style=\"color: #c0c0c0; text-decoration-color: #c0c0c0; font-weight: bold\">mode</span><span style=\"color: #008000; text-decoration-color: #008000\">:pm2</span>\n",
       "</pre>\n"
      ],
      "text/plain": [
       "\u001b[1;36mLaunching\u001b[0m\u001b[32m \u001b[0m\u001b[1;33mclass:BittensorModule\u001b[0m\u001b[32m \u001b[0m\u001b[1;37mname\u001b[0m\u001b[32m:miner::alice.\u001b[0m\u001b[1;92m7::f\u001b[0m\u001b[32minney::\u001b[0m\u001b[1;36m11\u001b[0m\u001b[32m \u001b[0m\u001b[1;37mfn\u001b[0m\u001b[32m:mine \u001b[0m\u001b[1;37mmode\u001b[0m\u001b[32m:pm2\u001b[0m\n"
      ]
     },
     "metadata": {},
     "output_type": "display_data"
    },
    {
     "data": {
      "text/html": [
       "<pre style=\"white-space:pre;overflow-x:auto;line-height:normal;font-family:Menlo,'DejaVu Sans Mono',consolas,'Courier New',monospace\"><span style=\"color: #800000; text-decoration-color: #800000\">ERROR: No pm2 processes found for miner::alice.</span><span style=\"color: #00ff00; text-decoration-color: #00ff00; font-weight: bold\">7::f</span><span style=\"color: #800000; text-decoration-color: #800000\">inney::</span><span style=\"color: #008080; text-decoration-color: #008080; font-weight: bold\">11</span>\n",
       "</pre>\n"
      ],
      "text/plain": [
       "\u001b[31mERROR: No pm2 processes found for miner::alice.\u001b[0m\u001b[1;92m7::f\u001b[0m\u001b[31minney::\u001b[0m\u001b[1;36m11\u001b[0m\n"
      ]
     },
     "metadata": {},
     "output_type": "display_data"
    },
    {
     "data": {
      "text/html": [
       "<pre style=\"white-space:pre;overflow-x:auto;line-height:normal;font-family:Menlo,'DejaVu Sans Mono',consolas,'Courier New',monospace\">Deploying -&gt; Miner: miner::alice.<span style=\"color: #00ff00; text-decoration-color: #00ff00; font-weight: bold\">8::f</span>inney::<span style=\"color: #008080; text-decoration-color: #008080; font-weight: bold\">11</span> Device: cpu Axon_port: <span style=\"color: #008080; text-decoration-color: #008080; font-weight: bold\">4275</span>, Prom_port: <span style=\"color: #008080; text-decoration-color: #008080; font-weight: bold\">3275</span>\n",
       "</pre>\n"
      ],
      "text/plain": [
       "Deploying -> Miner: miner::alice.\u001b[1;92m8::f\u001b[0minney::\u001b[1;36m11\u001b[0m Device: cpu Axon_port: \u001b[1;36m4275\u001b[0m, Prom_port: \u001b[1;36m3275\u001b[0m\n"
      ]
     },
     "metadata": {},
     "output_type": "display_data"
    },
    {
     "data": {
      "text/html": [
       "<pre style=\"white-space:pre;overflow-x:auto;line-height:normal;font-family:Menlo,'DejaVu Sans Mono',consolas,'Courier New',monospace\"><span style=\"color: #008080; text-decoration-color: #008080; font-weight: bold\">Launching</span><span style=\"color: #008000; text-decoration-color: #008000\"> </span><span style=\"color: #808000; text-decoration-color: #808000; font-weight: bold\">class:BittensorModule</span><span style=\"color: #008000; text-decoration-color: #008000\"> </span><span style=\"color: #c0c0c0; text-decoration-color: #c0c0c0; font-weight: bold\">name</span><span style=\"color: #008000; text-decoration-color: #008000\">:miner::alice.</span><span style=\"color: #00ff00; text-decoration-color: #00ff00; font-weight: bold\">8::f</span><span style=\"color: #008000; text-decoration-color: #008000\">inney::</span><span style=\"color: #008080; text-decoration-color: #008080; font-weight: bold\">11</span><span style=\"color: #008000; text-decoration-color: #008000\"> </span><span style=\"color: #c0c0c0; text-decoration-color: #c0c0c0; font-weight: bold\">fn</span><span style=\"color: #008000; text-decoration-color: #008000\">:mine </span><span style=\"color: #c0c0c0; text-decoration-color: #c0c0c0; font-weight: bold\">mode</span><span style=\"color: #008000; text-decoration-color: #008000\">:pm2</span>\n",
       "</pre>\n"
      ],
      "text/plain": [
       "\u001b[1;36mLaunching\u001b[0m\u001b[32m \u001b[0m\u001b[1;33mclass:BittensorModule\u001b[0m\u001b[32m \u001b[0m\u001b[1;37mname\u001b[0m\u001b[32m:miner::alice.\u001b[0m\u001b[1;92m8::f\u001b[0m\u001b[32minney::\u001b[0m\u001b[1;36m11\u001b[0m\u001b[32m \u001b[0m\u001b[1;37mfn\u001b[0m\u001b[32m:mine \u001b[0m\u001b[1;37mmode\u001b[0m\u001b[32m:pm2\u001b[0m\n"
      ]
     },
     "metadata": {},
     "output_type": "display_data"
    },
    {
     "data": {
      "text/html": [
       "<pre style=\"white-space:pre;overflow-x:auto;line-height:normal;font-family:Menlo,'DejaVu Sans Mono',consolas,'Courier New',monospace\"><span style=\"color: #800000; text-decoration-color: #800000\">ERROR: No pm2 processes found for miner::alice.</span><span style=\"color: #00ff00; text-decoration-color: #00ff00; font-weight: bold\">8::f</span><span style=\"color: #800000; text-decoration-color: #800000\">inney::</span><span style=\"color: #008080; text-decoration-color: #008080; font-weight: bold\">11</span>\n",
       "</pre>\n"
      ],
      "text/plain": [
       "\u001b[31mERROR: No pm2 processes found for miner::alice.\u001b[0m\u001b[1;92m8::f\u001b[0m\u001b[31minney::\u001b[0m\u001b[1;36m11\u001b[0m\n"
      ]
     },
     "metadata": {},
     "output_type": "display_data"
    },
    {
     "data": {
      "text/html": [
       "<pre style=\"white-space:pre;overflow-x:auto;line-height:normal;font-family:Menlo,'DejaVu Sans Mono',consolas,'Courier New',monospace\">Deploying -&gt; Miner: miner::alice.<span style=\"color: #00ff00; text-decoration-color: #00ff00; font-weight: bold\">9::f</span>inney::<span style=\"color: #008080; text-decoration-color: #008080; font-weight: bold\">11</span> Device: cpu Axon_port: <span style=\"color: #008080; text-decoration-color: #008080; font-weight: bold\">4355</span>, Prom_port: <span style=\"color: #008080; text-decoration-color: #008080; font-weight: bold\">3355</span>\n",
       "</pre>\n"
      ],
      "text/plain": [
       "Deploying -> Miner: miner::alice.\u001b[1;92m9::f\u001b[0minney::\u001b[1;36m11\u001b[0m Device: cpu Axon_port: \u001b[1;36m4355\u001b[0m, Prom_port: \u001b[1;36m3355\u001b[0m\n"
      ]
     },
     "metadata": {},
     "output_type": "display_data"
    },
    {
     "data": {
      "text/html": [
       "<pre style=\"white-space:pre;overflow-x:auto;line-height:normal;font-family:Menlo,'DejaVu Sans Mono',consolas,'Courier New',monospace\"><span style=\"color: #008080; text-decoration-color: #008080; font-weight: bold\">Launching</span><span style=\"color: #008000; text-decoration-color: #008000\"> </span><span style=\"color: #808000; text-decoration-color: #808000; font-weight: bold\">class:BittensorModule</span><span style=\"color: #008000; text-decoration-color: #008000\"> </span><span style=\"color: #c0c0c0; text-decoration-color: #c0c0c0; font-weight: bold\">name</span><span style=\"color: #008000; text-decoration-color: #008000\">:miner::alice.</span><span style=\"color: #00ff00; text-decoration-color: #00ff00; font-weight: bold\">9::f</span><span style=\"color: #008000; text-decoration-color: #008000\">inney::</span><span style=\"color: #008080; text-decoration-color: #008080; font-weight: bold\">11</span><span style=\"color: #008000; text-decoration-color: #008000\"> </span><span style=\"color: #c0c0c0; text-decoration-color: #c0c0c0; font-weight: bold\">fn</span><span style=\"color: #008000; text-decoration-color: #008000\">:mine </span><span style=\"color: #c0c0c0; text-decoration-color: #c0c0c0; font-weight: bold\">mode</span><span style=\"color: #008000; text-decoration-color: #008000\">:pm2</span>\n",
       "</pre>\n"
      ],
      "text/plain": [
       "\u001b[1;36mLaunching\u001b[0m\u001b[32m \u001b[0m\u001b[1;33mclass:BittensorModule\u001b[0m\u001b[32m \u001b[0m\u001b[1;37mname\u001b[0m\u001b[32m:miner::alice.\u001b[0m\u001b[1;92m9::f\u001b[0m\u001b[32minney::\u001b[0m\u001b[1;36m11\u001b[0m\u001b[32m \u001b[0m\u001b[1;37mfn\u001b[0m\u001b[32m:mine \u001b[0m\u001b[1;37mmode\u001b[0m\u001b[32m:pm2\u001b[0m\n"
      ]
     },
     "metadata": {},
     "output_type": "display_data"
    },
    {
     "data": {
      "text/html": [
       "<pre style=\"white-space:pre;overflow-x:auto;line-height:normal;font-family:Menlo,'DejaVu Sans Mono',consolas,'Courier New',monospace\"><span style=\"color: #800000; text-decoration-color: #800000\">ERROR: No pm2 processes found for miner::alice.</span><span style=\"color: #00ff00; text-decoration-color: #00ff00; font-weight: bold\">9::f</span><span style=\"color: #800000; text-decoration-color: #800000\">inney::</span><span style=\"color: #008080; text-decoration-color: #008080; font-weight: bold\">11</span>\n",
       "</pre>\n"
      ],
      "text/plain": [
       "\u001b[31mERROR: No pm2 processes found for miner::alice.\u001b[0m\u001b[1;92m9::f\u001b[0m\u001b[31minney::\u001b[0m\u001b[1;36m11\u001b[0m\n"
      ]
     },
     "metadata": {},
     "output_type": "display_data"
    },
    {
     "data": {
      "text/html": [
       "<pre style=\"white-space:pre;overflow-x:auto;line-height:normal;font-family:Menlo,'DejaVu Sans Mono',consolas,'Courier New',monospace\">Max miners reached\n",
       "</pre>\n"
      ],
      "text/plain": [
       "Max miners reached\n"
      ]
     },
     "metadata": {},
     "output_type": "display_data"
    }
   ],
   "source": [
    "bt.fleet('alice', netuid=11, model='commune', n=10) # or bt.fleet() as this is the default\n"
   ]
  },
  {
   "cell_type": "markdown",
   "id": "f8b7bf0d",
   "metadata": {},
   "source": [
    "#### Talk to the network by sampling one of your registered keys"
   ]
  },
  {
   "cell_type": "code",
   "execution_count": 3,
   "id": "7a58e089-5310-46eb-b769-6c767e745a1a",
   "metadata": {
    "tags": []
   },
   "outputs": [
    {
     "data": {
      "text/plain": [
       "'Canada is divided into 10 provinces and 3 territories. The provinces are: \\n\\n1. Ontario\\n2. Quebec\\n3. Nova Scotia\\n4. New Brunswick\\n5. Manitoba\\n6. British Columbia\\n7. Prince Edward Island\\n8. Saskatchewan'"
      ]
     },
     "execution_count": 3,
     "metadata": {},
     "output_type": "execute_result"
    }
   ],
   "source": [
    "bt.talk('What is the province of canada?', n=10, timeout=5)"
   ]
  }
 ],
 "metadata": {
  "kernelspec": {
   "display_name": "Python 3 (ipykernel)",
   "language": "python",
   "name": "python3"
  },
  "language_info": {
   "codemirror_mode": {
    "name": "ipython",
    "version": 3
   },
   "file_extension": ".py",
   "mimetype": "text/x-python",
   "name": "python",
   "nbconvert_exporter": "python",
   "pygments_lexer": "ipython3",
   "version": "3.10.6"
  }
 },
 "nbformat": 4,
 "nbformat_minor": 5
}
