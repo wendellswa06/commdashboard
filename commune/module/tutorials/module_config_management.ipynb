{
 "cells": [
  {
   "cell_type": "code",
   "execution_count": 6,
   "metadata": {},
   "outputs": [],
   "source": [
    "import commune as c\n",
    "c.enable_jupyter()"
   ]
  },
  {
   "cell_type": "code",
   "execution_count": 7,
   "metadata": {},
   "outputs": [],
   "source": [
    "module = c.module()"
   ]
  },
  {
   "cell_type": "code",
   "execution_count": 10,
   "metadata": {},
   "outputs": [
    {
     "data": {
      "text/html": [
       "<pre style=\"white-space:pre;overflow-x:auto;line-height:normal;font-family:Menlo,'DejaVu Sans Mono',consolas,'Courier New',monospace\"><span style=\"font-weight: bold\">{</span>\n",
       "    <span style=\"color: #008000; text-decoration-color: #008000\">'boot_peers'</span>: <span style=\"font-weight: bold\">[</span><span style=\"color: #008000; text-decoration-color: #008000\">'162.157.13.236:9057'</span>, <span style=\"color: #008000; text-decoration-color: #008000\">'162.157.13.236:9402'</span><span style=\"font-weight: bold\">]</span>,\n",
       "    <span style=\"color: #008000; text-decoration-color: #008000\">'ip'</span>: <span style=\"color: #008000; text-decoration-color: #008000\">'162.157.13.236'</span>,\n",
       "    <span style=\"color: #008000; text-decoration-color: #008000\">'module_overrides'</span>: <span style=\"font-weight: bold\">[</span><span style=\"color: #008000; text-decoration-color: #008000\">'network'</span>, <span style=\"color: #008000; text-decoration-color: #008000\">'key'</span><span style=\"font-weight: bold\">]</span>,\n",
       "    <span style=\"color: #008000; text-decoration-color: #008000\">'network'</span>: <span style=\"color: #008000; text-decoration-color: #008000\">'subspace'</span>,\n",
       "    <span style=\"color: #008000; text-decoration-color: #008000\">'network2url'</span>: <span style=\"font-weight: bold\">{}</span>,\n",
       "    <span style=\"color: #008000; text-decoration-color: #008000\">'networks'</span>: <span style=\"font-weight: bold\">[</span><span style=\"color: #008000; text-decoration-color: #008000\">'subspace'</span>, <span style=\"color: #008000; text-decoration-color: #008000\">'local'</span>, <span style=\"color: #008000; text-decoration-color: #008000\">'global'</span><span style=\"font-weight: bold\">]</span>,\n",
       "    <span style=\"color: #008000; text-decoration-color: #008000\">'shortcuts'</span>: <span style=\"font-weight: bold\">{</span>\n",
       "        <span style=\"color: #008000; text-decoration-color: #008000\">'bt'</span>: <span style=\"color: #008000; text-decoration-color: #008000\">'bittensor'</span>,\n",
       "        <span style=\"color: #008000; text-decoration-color: #008000\">'chain'</span>: <span style=\"color: #008000; text-decoration-color: #008000\">'subspace'</span>,\n",
       "        <span style=\"color: #008000; text-decoration-color: #008000\">'d'</span>: <span style=\"color: #008000; text-decoration-color: #008000\">'docker'</span>,\n",
       "        <span style=\"color: #008000; text-decoration-color: #008000\">'freegpt'</span>: <span style=\"color: #008000; text-decoration-color: #008000\">'model.freegpt'</span>,\n",
       "        <span style=\"color: #008000; text-decoration-color: #008000\">'hf'</span>: <span style=\"color: #008000; text-decoration-color: #008000\">'huggingface'</span>,\n",
       "        <span style=\"color: #008000; text-decoration-color: #008000\">'lit'</span>: <span style=\"color: #008000; text-decoration-color: #008000\">'lit_gpt'</span>,\n",
       "        <span style=\"color: #008000; text-decoration-color: #008000\">'openai'</span>: <span style=\"color: #008000; text-decoration-color: #008000\">'model.openai'</span>,\n",
       "        <span style=\"color: #008000; text-decoration-color: #008000\">'s'</span>: <span style=\"color: #008000; text-decoration-color: #008000\">'subspace'</span>,\n",
       "        <span style=\"color: #008000; text-decoration-color: #008000\">'tg'</span>: <span style=\"color: #008000; text-decoration-color: #008000\">'textgen'</span>\n",
       "    <span style=\"font-weight: bold\">}</span>\n",
       "<span style=\"font-weight: bold\">}</span>\n",
       "</pre>\n"
      ],
      "text/plain": [
       "\u001b[1m{\u001b[0m\n",
       "    \u001b[32m'boot_peers'\u001b[0m: \u001b[1m[\u001b[0m\u001b[32m'162.157.13.236:9057'\u001b[0m, \u001b[32m'162.157.13.236:9402'\u001b[0m\u001b[1m]\u001b[0m,\n",
       "    \u001b[32m'ip'\u001b[0m: \u001b[32m'162.157.13.236'\u001b[0m,\n",
       "    \u001b[32m'module_overrides'\u001b[0m: \u001b[1m[\u001b[0m\u001b[32m'network'\u001b[0m, \u001b[32m'key'\u001b[0m\u001b[1m]\u001b[0m,\n",
       "    \u001b[32m'network'\u001b[0m: \u001b[32m'subspace'\u001b[0m,\n",
       "    \u001b[32m'network2url'\u001b[0m: \u001b[1m{\u001b[0m\u001b[1m}\u001b[0m,\n",
       "    \u001b[32m'networks'\u001b[0m: \u001b[1m[\u001b[0m\u001b[32m'subspace'\u001b[0m, \u001b[32m'local'\u001b[0m, \u001b[32m'global'\u001b[0m\u001b[1m]\u001b[0m,\n",
       "    \u001b[32m'shortcuts'\u001b[0m: \u001b[1m{\u001b[0m\n",
       "        \u001b[32m'bt'\u001b[0m: \u001b[32m'bittensor'\u001b[0m,\n",
       "        \u001b[32m'chain'\u001b[0m: \u001b[32m'subspace'\u001b[0m,\n",
       "        \u001b[32m'd'\u001b[0m: \u001b[32m'docker'\u001b[0m,\n",
       "        \u001b[32m'freegpt'\u001b[0m: \u001b[32m'model.freegpt'\u001b[0m,\n",
       "        \u001b[32m'hf'\u001b[0m: \u001b[32m'huggingface'\u001b[0m,\n",
       "        \u001b[32m'lit'\u001b[0m: \u001b[32m'lit_gpt'\u001b[0m,\n",
       "        \u001b[32m'openai'\u001b[0m: \u001b[32m'model.openai'\u001b[0m,\n",
       "        \u001b[32m's'\u001b[0m: \u001b[32m'subspace'\u001b[0m,\n",
       "        \u001b[32m'tg'\u001b[0m: \u001b[32m'textgen'\u001b[0m\n",
       "    \u001b[1m}\u001b[0m\n",
       "\u001b[1m}\u001b[0m\n"
      ]
     },
     "metadata": {},
     "output_type": "display_data"
    }
   ],
   "source": [
    "# default config\n",
    "config = module.config(to_munch=False)\n",
    "c.print(config)"
   ]
  },
  {
   "cell_type": "code",
   "execution_count": 14,
   "metadata": {},
   "outputs": [
    {
     "data": {
      "text/html": [
       "<pre style=\"white-space:pre;overflow-x:auto;line-height:normal;font-family:Menlo,'DejaVu Sans Mono',consolas,'Courier New',monospace\">Value of sup <span style=\"color: #008080; text-decoration-color: #008080; font-weight: bold\">1</span>\n",
       "</pre>\n"
      ],
      "text/plain": [
       "Value of sup \u001b[1;36m1\u001b[0m\n"
      ]
     },
     "metadata": {},
     "output_type": "display_data"
    }
   ],
   "source": [
    "# Put and Get and Delete Configuration Keys\n",
    "c.print()\n",
    "module.putc('sup', 1)\n",
    "c.print('Value of sup',module.config()['sup'])\n",
    "module.rmc('sup')\n",
    "assert 'sup' not in module.config()\n",
    "c.print('Value of sup',module.config()['sup'])"
   ]
  },
  {
   "cell_type": "code",
   "execution_count": null,
   "metadata": {},
   "outputs": [],
   "source": [
    "module.get_config('sup', default=1)"
   ]
  },
  {
   "cell_type": "code",
   "execution_count": null,
   "metadata": {},
   "outputs": [],
   "source": []
  }
 ],
 "metadata": {
  "kernelspec": {
   "display_name": "Python 3",
   "language": "python",
   "name": "python3"
  },
  "language_info": {
   "codemirror_mode": {
    "name": "ipython",
    "version": 3
   },
   "file_extension": ".py",
   "mimetype": "text/x-python",
   "name": "python",
   "nbconvert_exporter": "python",
   "pygments_lexer": "ipython3",
   "version": "3.10.12"
  },
  "orig_nbformat": 4
 },
 "nbformat": 4,
 "nbformat_minor": 2
}
