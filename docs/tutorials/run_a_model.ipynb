{
 "cells": [
  {
   "cell_type": "code",
   "execution_count": 1,
   "metadata": {},
   "outputs": [],
   "source": [
    "import commune as c"
   ]
  },
  {
   "cell_type": "code",
   "execution_count": 4,
   "metadata": {},
   "outputs": [
    {
     "data": {
      "text/plain": [
       "['model.openai', 'model.openai.free']"
      ]
     },
     "execution_count": 4,
     "metadata": {},
     "output_type": "execute_result"
    }
   ],
   "source": [
    "# search modules for the openai module\n",
    "c.modules('model.openai')\n"
   ]
  },
  {
   "cell_type": "code",
   "execution_count": 6,
   "metadata": {},
   "outputs": [],
   "source": [
    "model = c.module('model.openai')(api_key='YOUR_API_KEY')"
   ]
  },
  {
   "cell_type": "code",
   "execution_count": 9,
   "metadata": {},
   "outputs": [
    {
     "data": {
      "text/plain": [
       "{'error': 'Incorrect API key provided: YOUR_API_KEY. You can find your API key at https://platform.openai.com/account/api-keys.'}"
      ]
     },
     "execution_count": 9,
     "metadata": {},
     "output_type": "execute_result"
    }
   ],
   "source": [
    "model.forward('whadup')"
   ]
  },
  {
   "cell_type": "code",
   "execution_count": null,
   "metadata": {},
   "outputs": [],
   "source": [
    "# oops it was the wrong key, lets add the right one\n",
    "model.set_api_key('sk-gp5QMj')"
   ]
  },
  {
   "cell_type": "code",
   "execution_count": 11,
   "metadata": {},
   "outputs": [
    {
     "data": {
      "text/plain": [
       "'Not much, just here to help. How can I assist you today?'"
      ]
     },
     "execution_count": 11,
     "metadata": {},
     "output_type": "execute_result"
    }
   ],
   "source": [
    "model.forward('whadup')"
   ]
  },
  {
   "cell_type": "code",
   "execution_count": 12,
   "metadata": {},
   "outputs": [
    {
     "data": {
      "text/html": [
       "<pre style=\"white-space:pre;overflow-x:auto;line-height:normal;font-family:Menlo,'DejaVu Sans Mono',consolas,'Courier New',monospace\"><span style=\"color: #008080; text-decoration-color: #008080; font-weight: bold\">Launching</span><span style=\"color: #008000; text-decoration-color: #008000\"> </span><span style=\"color: #808000; text-decoration-color: #808000; font-weight: bold\">class:OpenAILLM</span><span style=\"color: #008000; text-decoration-color: #008000\"> </span><span style=\"color: #c0c0c0; text-decoration-color: #c0c0c0; font-weight: bold\">name</span><span style=\"color: #008000; text-decoration-color: #008000\">:model.openai::whadup </span><span style=\"color: #c0c0c0; text-decoration-color: #c0c0c0; font-weight: bold\">fn</span><span style=\"color: #008000; text-decoration-color: #008000\">:serve </span><span style=\"color: #c0c0c0; text-decoration-color: #c0c0c0; font-weight: bold\">mode</span><span style=\"color: #008000; text-decoration-color: #008000\">:pm2</span>\n",
       "</pre>\n"
      ],
      "text/plain": [
       "\u001b[1;36mLaunching\u001b[0m\u001b[32m \u001b[0m\u001b[1;33mclass:OpenAILLM\u001b[0m\u001b[32m \u001b[0m\u001b[1;37mname\u001b[0m\u001b[32m:model.openai::whadup \u001b[0m\u001b[1;37mfn\u001b[0m\u001b[32m:serve \u001b[0m\u001b[1;37mmode\u001b[0m\u001b[32m:pm2\u001b[0m\n"
      ]
     },
     "metadata": {},
     "output_type": "display_data"
    }
   ],
   "source": [
    "model.serve(tag='whadup')"
   ]
  },
  {
   "cell_type": "code",
   "execution_count": 14,
   "metadata": {},
   "outputs": [],
   "source": [
    "client = c.connect('model.openai::whadup')"
   ]
  },
  {
   "cell_type": "code",
   "execution_count": 15,
   "metadata": {},
   "outputs": [
    {
     "data": {
      "text/plain": [
       "\"Not much, just here to answer any questions or have a chat. What's up with you?\""
      ]
     },
     "execution_count": 15,
     "metadata": {},
     "output_type": "execute_result"
    }
   ],
   "source": [
    "client.forward('whadup')"
   ]
  },
  {
   "cell_type": "code",
   "execution_count": 18,
   "metadata": {},
   "outputs": [
    {
     "data": {
      "text/html": [
       "<pre style=\"white-space:pre;overflow-x:auto;line-height:normal;font-family:Menlo,'DejaVu Sans Mono',consolas,'Courier New',monospace\"><span style=\"font-weight: bold\">{</span>\n",
       "    <span style=\"color: #008000; text-decoration-color: #008000\">'__init__'</span>: <span style=\"font-weight: bold\">{</span>\n",
       "        <span style=\"color: #008000; text-decoration-color: #008000\">'input'</span>: <span style=\"font-weight: bold\">{</span>\n",
       "            <span style=\"color: #008000; text-decoration-color: #008000\">'config'</span>: <span style=\"color: #008000; text-decoration-color: #008000\">'union[str, typing'</span>,\n",
       "            <span style=\"color: #008000; text-decoration-color: #008000\">'password'</span>: <span style=\"color: #008000; text-decoration-color: #008000\">'str'</span>,\n",
       "            <span style=\"color: #008000; text-decoration-color: #008000\">'tag'</span>: <span style=\"color: #008000; text-decoration-color: #008000\">'str'</span>,\n",
       "            <span style=\"color: #008000; text-decoration-color: #008000\">'load'</span>: <span style=\"color: #008000; text-decoration-color: #008000\">'bool'</span>,\n",
       "            <span style=\"color: #008000; text-decoration-color: #008000\">'save'</span>: <span style=\"color: #008000; text-decoration-color: #008000\">'bool'</span>,\n",
       "            <span style=\"color: #008000; text-decoration-color: #008000\">'api_key'</span>: <span style=\"color: #008000; text-decoration-color: #008000\">'str'</span>\n",
       "        <span style=\"font-weight: bold\">}</span>,\n",
       "        <span style=\"color: #008000; text-decoration-color: #008000\">'output'</span>: <span style=\"font-weight: bold\">{}</span>,\n",
       "        <span style=\"color: #008000; text-decoration-color: #008000\">'type'</span>: <span style=\"color: #008000; text-decoration-color: #008000\">'self'</span>\n",
       "    <span style=\"font-weight: bold\">}</span>,\n",
       "    <span style=\"color: #008000; text-decoration-color: #008000\">'add_api_key'</span>: <span style=\"font-weight: bold\">{</span><span style=\"color: #008000; text-decoration-color: #008000\">'input'</span>: <span style=\"font-weight: bold\">{</span><span style=\"color: #008000; text-decoration-color: #008000\">'api_key'</span>: <span style=\"color: #008000; text-decoration-color: #008000\">'NA'</span>, <span style=\"color: #008000; text-decoration-color: #008000\">'k'</span>: <span style=\"color: #008000; text-decoration-color: #008000\">'NA'</span><span style=\"font-weight: bold\">}</span>, <span style=\"color: #008000; text-decoration-color: #008000\">'output'</span>: <span style=\"font-weight: bold\">{}</span>, <span style=\"color: #008000; text-decoration-color: #008000\">'type'</span>: <span style=\"color: #008000; text-decoration-color: #008000\">'cls'</span><span style=\"font-weight: bold\">}</span>,\n",
       "    <span style=\"color: #008000; text-decoration-color: #008000\">'add_api_keys'</span>: <span style=\"font-weight: bold\">{</span><span style=\"color: #008000; text-decoration-color: #008000\">'input'</span>: <span style=\"font-weight: bold\">{}</span>, <span style=\"color: #008000; text-decoration-color: #008000\">'output'</span>: <span style=\"font-weight: bold\">{}</span>, <span style=\"color: #008000; text-decoration-color: #008000\">'type'</span>: <span style=\"color: #008000; text-decoration-color: #008000\">'cls'</span><span style=\"font-weight: bold\">}</span>,\n",
       "    <span style=\"color: #008000; text-decoration-color: #008000\">'api_keys'</span>: <span style=\"font-weight: bold\">{</span><span style=\"color: #008000; text-decoration-color: #008000\">'input'</span>: <span style=\"font-weight: bold\">{}</span>, <span style=\"color: #008000; text-decoration-color: #008000\">'output'</span>: <span style=\"font-weight: bold\">{}</span>, <span style=\"color: #008000; text-decoration-color: #008000\">'type'</span>: <span style=\"color: #008000; text-decoration-color: #008000\">'cls'</span><span style=\"font-weight: bold\">}</span>,\n",
       "    <span style=\"color: #008000; text-decoration-color: #008000\">'create'</span>: <span style=\"font-weight: bold\">{</span><span style=\"color: #008000; text-decoration-color: #008000\">'input'</span>: <span style=\"font-weight: bold\">{}</span>, <span style=\"color: #008000; text-decoration-color: #008000\">'output'</span>: <span style=\"font-weight: bold\">{}</span>, <span style=\"color: #008000; text-decoration-color: #008000\">'type'</span>: <span style=\"color: #008000; text-decoration-color: #008000\">'self'</span><span style=\"font-weight: bold\">}</span>,\n",
       "    <span style=\"color: #008000; text-decoration-color: #008000\">'decode_tokens'</span>: <span style=\"font-weight: bold\">{</span><span style=\"color: #008000; text-decoration-color: #008000\">'input'</span>: <span style=\"font-weight: bold\">{</span><span style=\"color: #008000; text-decoration-color: #008000\">'input_ids'</span>: <span style=\"color: #008000; text-decoration-color: #008000\">'union[torch'</span><span style=\"font-weight: bold\">}</span>, <span style=\"color: #008000; text-decoration-color: #008000\">'output'</span>: <span style=\"font-weight: bold\">{}</span>, <span style=\"color: #008000; text-decoration-color: #008000\">'type'</span>: <span style=\"color: #008000; text-decoration-color: #008000\">'self'</span><span style=\"font-weight: bold\">}</span>,\n",
       "    <span style=\"color: #008000; text-decoration-color: #008000\">'encode_tokens'</span>: <span style=\"font-weight: bold\">{</span>\n",
       "        <span style=\"color: #008000; text-decoration-color: #008000\">'input'</span>: <span style=\"font-weight: bold\">{</span>\n",
       "            <span style=\"color: #008000; text-decoration-color: #008000\">'text'</span>: <span style=\"color: #008000; text-decoration-color: #008000\">'union[str, typing'</span>,\n",
       "            <span style=\"color: #008000; text-decoration-color: #008000\">'return_tensors'</span>: <span style=\"color: #008000; text-decoration-color: #008000\">'NA'</span>,\n",
       "            <span style=\"color: #008000; text-decoration-color: #008000\">'padding'</span>: <span style=\"color: #008000; text-decoration-color: #008000\">'NA'</span>,\n",
       "            <span style=\"color: #008000; text-decoration-color: #008000\">'truncation'</span>: <span style=\"color: #008000; text-decoration-color: #008000\">'NA'</span>,\n",
       "            <span style=\"color: #008000; text-decoration-color: #008000\">'max_length'</span>: <span style=\"color: #008000; text-decoration-color: #008000\">'NA'</span>\n",
       "        <span style=\"font-weight: bold\">}</span>,\n",
       "        <span style=\"color: #008000; text-decoration-color: #008000\">'output'</span>: <span style=\"font-weight: bold\">{}</span>,\n",
       "        <span style=\"color: #008000; text-decoration-color: #008000\">'type'</span>: <span style=\"color: #008000; text-decoration-color: #008000\">'self'</span>\n",
       "    <span style=\"font-weight: bold\">}</span>,\n",
       "    <span style=\"color: #008000; text-decoration-color: #008000\">'forward'</span>: <span style=\"font-weight: bold\">{</span>\n",
       "        <span style=\"color: #008000; text-decoration-color: #008000\">'input'</span>: <span style=\"font-weight: bold\">{</span>\n",
       "            <span style=\"color: #008000; text-decoration-color: #008000\">'prompt'</span>: <span style=\"color: #008000; text-decoration-color: #008000\">'str'</span>,\n",
       "            <span style=\"color: #008000; text-decoration-color: #008000\">'model'</span>: <span style=\"color: #008000; text-decoration-color: #008000\">'str'</span>,\n",
       "            <span style=\"color: #008000; text-decoration-color: #008000\">'presence_penalty'</span>: <span style=\"color: #008000; text-decoration-color: #008000\">'float'</span>,\n",
       "            <span style=\"color: #008000; text-decoration-color: #008000\">'frequency_penalty'</span>: <span style=\"color: #008000; text-decoration-color: #008000\">'float'</span>,\n",
       "            <span style=\"color: #008000; text-decoration-color: #008000\">'temperature'</span>: <span style=\"color: #008000; text-decoration-color: #008000\">'float'</span>,\n",
       "            <span style=\"color: #008000; text-decoration-color: #008000\">'max_tokens'</span>: <span style=\"color: #008000; text-decoration-color: #008000\">'int'</span>,\n",
       "            <span style=\"color: #008000; text-decoration-color: #008000\">'top_p'</span>: <span style=\"color: #008000; text-decoration-color: #008000\">'float'</span>,\n",
       "            <span style=\"color: #008000; text-decoration-color: #008000\">'add_history'</span>: <span style=\"color: #008000; text-decoration-color: #008000\">'bool'</span>,\n",
       "            <span style=\"color: #008000; text-decoration-color: #008000\">'return_json'</span>: <span style=\"color: #008000; text-decoration-color: #008000\">'bool'</span>,\n",
       "            <span style=\"color: #008000; text-decoration-color: #008000\">'choice_idx'</span>: <span style=\"color: #008000; text-decoration-color: #008000\">'int'</span>,\n",
       "            <span style=\"color: #008000; text-decoration-color: #008000\">'api_key'</span>: <span style=\"color: #008000; text-decoration-color: #008000\">'str'</span>\n",
       "        <span style=\"font-weight: bold\">}</span>,\n",
       "        <span style=\"color: #008000; text-decoration-color: #008000\">'output'</span>: <span style=\"font-weight: bold\">{}</span>,\n",
       "        <span style=\"color: #008000; text-decoration-color: #008000\">'type'</span>: <span style=\"color: #008000; text-decoration-color: #008000\">'self'</span>\n",
       "    <span style=\"font-weight: bold\">}</span>,\n",
       "    <span style=\"color: #008000; text-decoration-color: #008000\">'get_prompt_variables'</span>: <span style=\"font-weight: bold\">{</span><span style=\"color: #008000; text-decoration-color: #008000\">'input'</span>: <span style=\"font-weight: bold\">{</span><span style=\"color: #008000; text-decoration-color: #008000\">'prompt'</span>: <span style=\"color: #008000; text-decoration-color: #008000\">'NA'</span><span style=\"font-weight: bold\">}</span>, <span style=\"color: #008000; text-decoration-color: #008000\">'output'</span>: <span style=\"font-weight: bold\">{}</span>, <span style=\"color: #008000; text-decoration-color: #008000\">'type'</span>: <span style=\"color: #008000; text-decoration-color: #008000\">'static'</span><span style=\"font-weight: bold\">}</span>,\n",
       "    <span style=\"color: #008000; text-decoration-color: #008000\">'is_error'</span>: <span style=\"font-weight: bold\">{</span><span style=\"color: #008000; text-decoration-color: #008000\">'input'</span>: <span style=\"font-weight: bold\">{</span><span style=\"color: #008000; text-decoration-color: #008000\">'response'</span>: <span style=\"color: #008000; text-decoration-color: #008000\">'NA'</span><span style=\"font-weight: bold\">}</span>, <span style=\"color: #008000; text-decoration-color: #008000\">'output'</span>: <span style=\"font-weight: bold\">{}</span>, <span style=\"color: #008000; text-decoration-color: #008000\">'type'</span>: <span style=\"color: #008000; text-decoration-color: #008000\">'self'</span><span style=\"font-weight: bold\">}</span>,\n",
       "    <span style=\"color: #008000; text-decoration-color: #008000\">'is_valid_api_key'</span>: <span style=\"font-weight: bold\">{</span><span style=\"color: #008000; text-decoration-color: #008000\">'input'</span>: <span style=\"font-weight: bold\">{</span><span style=\"color: #008000; text-decoration-color: #008000\">'api_key'</span>: <span style=\"color: #008000; text-decoration-color: #008000\">'str'</span>, <span style=\"color: #008000; text-decoration-color: #008000\">'text'</span>: <span style=\"color: #008000; text-decoration-color: #008000\">'str'</span><span style=\"font-weight: bold\">}</span>, <span style=\"color: #008000; text-decoration-color: #008000\">'output'</span>: <span style=\"font-weight: bold\">{}</span>, <span style=\"color: #008000; text-decoration-color: #008000\">'type'</span>: <span style=\"color: #008000; text-decoration-color: #008000\">'cls'</span><span style=\"font-weight: bold\">}</span>,\n",
       "    <span style=\"color: #008000; text-decoration-color: #008000\">'load'</span>: <span style=\"font-weight: bold\">{</span><span style=\"color: #008000; text-decoration-color: #008000\">'input'</span>: <span style=\"font-weight: bold\">{</span><span style=\"color: #008000; text-decoration-color: #008000\">'tag'</span>: <span style=\"color: #008000; text-decoration-color: #008000\">'NA'</span><span style=\"font-weight: bold\">}</span>, <span style=\"color: #008000; text-decoration-color: #008000\">'output'</span>: <span style=\"font-weight: bold\">{}</span>, <span style=\"color: #008000; text-decoration-color: #008000\">'type'</span>: <span style=\"color: #008000; text-decoration-color: #008000\">'self'</span><span style=\"font-weight: bold\">}</span>,\n",
       "    <span style=\"color: #008000; text-decoration-color: #008000\">'num_valid_api_keys'</span>: <span style=\"font-weight: bold\">{</span><span style=\"color: #008000; text-decoration-color: #008000\">'input'</span>: <span style=\"font-weight: bold\">{}</span>, <span style=\"color: #008000; text-decoration-color: #008000\">'output'</span>: <span style=\"font-weight: bold\">{}</span>, <span style=\"color: #008000; text-decoration-color: #008000\">'type'</span>: <span style=\"color: #008000; text-decoration-color: #008000\">'cls'</span><span style=\"font-weight: bold\">}</span>,\n",
       "    <span style=\"color: #008000; text-decoration-color: #008000\">'random_api_key'</span>: <span style=\"font-weight: bold\">{</span><span style=\"color: #008000; text-decoration-color: #008000\">'input'</span>: <span style=\"font-weight: bold\">{}</span>, <span style=\"color: #008000; text-decoration-color: #008000\">'output'</span>: <span style=\"font-weight: bold\">{}</span>, <span style=\"color: #008000; text-decoration-color: #008000\">'type'</span>: <span style=\"color: #008000; text-decoration-color: #008000\">'cls'</span><span style=\"font-weight: bold\">}</span>,\n",
       "    <span style=\"color: #008000; text-decoration-color: #008000\">'remove_invalid_api_keys'</span>: <span style=\"font-weight: bold\">{</span><span style=\"color: #008000; text-decoration-color: #008000\">'input'</span>: <span style=\"font-weight: bold\">{}</span>, <span style=\"color: #008000; text-decoration-color: #008000\">'output'</span>: <span style=\"font-weight: bold\">{}</span>, <span style=\"color: #008000; text-decoration-color: #008000\">'type'</span>: <span style=\"color: #008000; text-decoration-color: #008000\">'self'</span><span style=\"font-weight: bold\">}</span>,\n",
       "    <span style=\"color: #008000; text-decoration-color: #008000\">'resolve_api_key'</span>: <span style=\"font-weight: bold\">{</span><span style=\"color: #008000; text-decoration-color: #008000\">'input'</span>: <span style=\"font-weight: bold\">{</span><span style=\"color: #008000; text-decoration-color: #008000\">'api_key'</span>: <span style=\"color: #008000; text-decoration-color: #008000\">'str'</span><span style=\"font-weight: bold\">}</span>, <span style=\"color: #008000; text-decoration-color: #008000\">'output'</span>: <span style=\"font-weight: bold\">{}</span>, <span style=\"color: #008000; text-decoration-color: #008000\">'type'</span>: <span style=\"color: #008000; text-decoration-color: #008000\">'self'</span><span style=\"font-weight: bold\">}</span>,\n",
       "    <span style=\"color: #008000; text-decoration-color: #008000\">'resolve_params'</span>: <span style=\"font-weight: bold\">{</span><span style=\"color: #008000; text-decoration-color: #008000\">'input'</span>: <span style=\"font-weight: bold\">{</span><span style=\"color: #008000; text-decoration-color: #008000\">'params'</span>: <span style=\"color: #008000; text-decoration-color: #008000\">'NA'</span><span style=\"font-weight: bold\">}</span>, <span style=\"color: #008000; text-decoration-color: #008000\">'output'</span>: <span style=\"font-weight: bold\">{}</span>, <span style=\"color: #008000; text-decoration-color: #008000\">'type'</span>: <span style=\"color: #008000; text-decoration-color: #008000\">'self'</span><span style=\"font-weight: bold\">}</span>,\n",
       "    <span style=\"color: #008000; text-decoration-color: #008000\">'resolve_prompt'</span>: <span style=\"font-weight: bold\">{</span><span style=\"color: #008000; text-decoration-color: #008000\">'input'</span>: <span style=\"font-weight: bold\">{}</span>, <span style=\"color: #008000; text-decoration-color: #008000\">'output'</span>: <span style=\"font-weight: bold\">{}</span>, <span style=\"color: #008000; text-decoration-color: #008000\">'type'</span>: <span style=\"color: #008000; text-decoration-color: #008000\">'self'</span><span style=\"font-weight: bold\">}</span>,\n",
       "    <span style=\"color: #008000; text-decoration-color: #008000\">'resolve_state_path'</span>: <span style=\"font-weight: bold\">{</span><span style=\"color: #008000; text-decoration-color: #008000\">'input'</span>: <span style=\"font-weight: bold\">{</span><span style=\"color: #008000; text-decoration-color: #008000\">'tag'</span>: <span style=\"color: #008000; text-decoration-color: #008000\">'NA'</span><span style=\"font-weight: bold\">}</span>, <span style=\"color: #008000; text-decoration-color: #008000\">'output'</span>: <span style=\"font-weight: bold\">{}</span>, <span style=\"color: #008000; text-decoration-color: #008000\">'type'</span>: <span style=\"color: #008000; text-decoration-color: #008000\">'self'</span><span style=\"font-weight: bold\">}</span>,\n",
       "    <span style=\"color: #008000; text-decoration-color: #008000\">'restart_miners'</span>: <span style=\"font-weight: bold\">{</span><span style=\"color: #008000; text-decoration-color: #008000\">'input'</span>: <span style=\"font-weight: bold\">{}</span>, <span style=\"color: #008000; text-decoration-color: #008000\">'output'</span>: <span style=\"font-weight: bold\">{}</span>, <span style=\"color: #008000; text-decoration-color: #008000\">'type'</span>: <span style=\"color: #008000; text-decoration-color: #008000\">'cls'</span><span style=\"font-weight: bold\">}</span>,\n",
       "    <span style=\"color: #008000; text-decoration-color: #008000\">'rm_api_key'</span>: <span style=\"font-weight: bold\">{</span><span style=\"color: #008000; text-decoration-color: #008000\">'input'</span>: <span style=\"font-weight: bold\">{</span><span style=\"color: #008000; text-decoration-color: #008000\">'api_key'</span>: <span style=\"color: #008000; text-decoration-color: #008000\">'NA'</span>, <span style=\"color: #008000; text-decoration-color: #008000\">'k'</span>: <span style=\"color: #008000; text-decoration-color: #008000\">'NA'</span><span style=\"font-weight: bold\">}</span>, <span style=\"color: #008000; text-decoration-color: #008000\">'output'</span>: <span style=\"font-weight: bold\">{}</span>, <span style=\"color: #008000; text-decoration-color: #008000\">'type'</span>: <span style=\"color: #008000; text-decoration-color: #008000\">'cls'</span><span style=\"font-weight: bold\">}</span>,\n",
       "    <span style=\"color: #008000; text-decoration-color: #008000\">'set_api_key'</span>: <span style=\"font-weight: bold\">{</span><span style=\"color: #008000; text-decoration-color: #008000\">'input'</span>: <span style=\"font-weight: bold\">{</span><span style=\"color: #008000; text-decoration-color: #008000\">'api_key'</span>: <span style=\"color: #008000; text-decoration-color: #008000\">'str'</span><span style=\"font-weight: bold\">}</span>, <span style=\"color: #008000; text-decoration-color: #008000\">'output'</span>: <span style=\"font-weight: bold\">{}</span>, <span style=\"color: #008000; text-decoration-color: #008000\">'type'</span>: <span style=\"color: #008000; text-decoration-color: #008000\">'self'</span><span style=\"font-weight: bold\">}</span>,\n",
       "    <span style=\"color: #008000; text-decoration-color: #008000\">'set_api_keys'</span>: <span style=\"font-weight: bold\">{</span><span style=\"color: #008000; text-decoration-color: #008000\">'input'</span>: <span style=\"font-weight: bold\">{</span><span style=\"color: #008000; text-decoration-color: #008000\">'api_keys'</span>: <span style=\"color: #008000; text-decoration-color: #008000\">'NA'</span>, <span style=\"color: #008000; text-decoration-color: #008000\">'k'</span>: <span style=\"color: #008000; text-decoration-color: #008000\">'NA'</span><span style=\"font-weight: bold\">}</span>, <span style=\"color: #008000; text-decoration-color: #008000\">'output'</span>: <span style=\"font-weight: bold\">{}</span>, <span style=\"color: #008000; text-decoration-color: #008000\">'type'</span>: <span style=\"color: #008000; text-decoration-color: #008000\">'cls'</span><span style=\"font-weight: bold\">}</span>,\n",
       "    <span style=\"color: #008000; text-decoration-color: #008000\">'set_prompt'</span>: <span style=\"font-weight: bold\">{</span><span style=\"color: #008000; text-decoration-color: #008000\">'input'</span>: <span style=\"font-weight: bold\">{</span><span style=\"color: #008000; text-decoration-color: #008000\">'prompt'</span>: <span style=\"color: #008000; text-decoration-color: #008000\">'str'</span><span style=\"font-weight: bold\">}</span>, <span style=\"color: #008000; text-decoration-color: #008000\">'output'</span>: <span style=\"font-weight: bold\">{}</span>, <span style=\"color: #008000; text-decoration-color: #008000\">'type'</span>: <span style=\"color: #008000; text-decoration-color: #008000\">'self'</span><span style=\"font-weight: bold\">}</span>,\n",
       "    <span style=\"color: #008000; text-decoration-color: #008000\">'set_stats'</span>: <span style=\"font-weight: bold\">{</span><span style=\"color: #008000; text-decoration-color: #008000\">'input'</span>: <span style=\"font-weight: bold\">{</span><span style=\"color: #008000; text-decoration-color: #008000\">'stats'</span>: <span style=\"color: #008000; text-decoration-color: #008000\">'NA'</span><span style=\"font-weight: bold\">}</span>, <span style=\"color: #008000; text-decoration-color: #008000\">'output'</span>: <span style=\"font-weight: bold\">{}</span>, <span style=\"color: #008000; text-decoration-color: #008000\">'type'</span>: <span style=\"color: #008000; text-decoration-color: #008000\">'self'</span><span style=\"font-weight: bold\">}</span>,\n",
       "    <span style=\"color: #008000; text-decoration-color: #008000\">'set_tokenizer'</span>: <span style=\"font-weight: bold\">{</span><span style=\"color: #008000; text-decoration-color: #008000\">'input'</span>: <span style=\"font-weight: bold\">{</span><span style=\"color: #008000; text-decoration-color: #008000\">'tokenizer'</span>: <span style=\"color: #008000; text-decoration-color: #008000\">'str'</span><span style=\"font-weight: bold\">}</span>, <span style=\"color: #008000; text-decoration-color: #008000\">'output'</span>: <span style=\"font-weight: bold\">{}</span>, <span style=\"color: #008000; text-decoration-color: #008000\">'type'</span>: <span style=\"color: #008000; text-decoration-color: #008000\">'self'</span><span style=\"font-weight: bold\">}</span>,\n",
       "    <span style=\"color: #008000; text-decoration-color: #008000\">'valid_api_keys'</span>: <span style=\"font-weight: bold\">{</span><span style=\"color: #008000; text-decoration-color: #008000\">'input'</span>: <span style=\"font-weight: bold\">{</span><span style=\"color: #008000; text-decoration-color: #008000\">'verbose'</span>: <span style=\"color: #008000; text-decoration-color: #008000\">'bool'</span><span style=\"font-weight: bold\">}</span>, <span style=\"color: #008000; text-decoration-color: #008000\">'output'</span>: <span style=\"font-weight: bold\">{}</span>, <span style=\"color: #008000; text-decoration-color: #008000\">'type'</span>: <span style=\"color: #008000; text-decoration-color: #008000\">'cls'</span><span style=\"font-weight: bold\">}</span>,\n",
       "    <span style=\"color: #008000; text-decoration-color: #008000\">'valid_keys'</span>: <span style=\"font-weight: bold\">{</span><span style=\"color: #008000; text-decoration-color: #008000\">'input'</span>: <span style=\"font-weight: bold\">{</span><span style=\"color: #008000; text-decoration-color: #008000\">'verbose'</span>: <span style=\"color: #008000; text-decoration-color: #008000\">'bool'</span><span style=\"font-weight: bold\">}</span>, <span style=\"color: #008000; text-decoration-color: #008000\">'output'</span>: <span style=\"font-weight: bold\">{}</span>, <span style=\"color: #008000; text-decoration-color: #008000\">'type'</span>: <span style=\"color: #008000; text-decoration-color: #008000\">'cls'</span><span style=\"font-weight: bold\">}</span>,\n",
       "    <span style=\"color: #008000; text-decoration-color: #008000\">'verify_api_key'</span>: <span style=\"font-weight: bold\">{</span><span style=\"color: #008000; text-decoration-color: #008000\">'input'</span>: <span style=\"font-weight: bold\">{</span><span style=\"color: #008000; text-decoration-color: #008000\">'api_key'</span>: <span style=\"color: #008000; text-decoration-color: #008000\">'str'</span>, <span style=\"color: #008000; text-decoration-color: #008000\">'text'</span>: <span style=\"color: #008000; text-decoration-color: #008000\">'str'</span><span style=\"font-weight: bold\">}</span>, <span style=\"color: #008000; text-decoration-color: #008000\">'output'</span>: <span style=\"font-weight: bold\">{}</span>, <span style=\"color: #008000; text-decoration-color: #008000\">'type'</span>: <span style=\"color: #008000; text-decoration-color: #008000\">'cls'</span><span style=\"font-weight: bold\">}</span>,\n",
       "    <span style=\"color: #008000; text-decoration-color: #008000\">'verify_api_keys'</span>: <span style=\"font-weight: bold\">{</span><span style=\"color: #008000; text-decoration-color: #008000\">'input'</span>: <span style=\"font-weight: bold\">{</span><span style=\"color: #008000; text-decoration-color: #008000\">'verbose'</span>: <span style=\"color: #008000; text-decoration-color: #008000\">'bool'</span><span style=\"font-weight: bold\">}</span>, <span style=\"color: #008000; text-decoration-color: #008000\">'output'</span>: <span style=\"font-weight: bold\">{}</span>, <span style=\"color: #008000; text-decoration-color: #008000\">'type'</span>: <span style=\"color: #008000; text-decoration-color: #008000\">'cls'</span><span style=\"font-weight: bold\">}</span>,\n",
       "    <span style=\"color: #008000; text-decoration-color: #008000\">'verify_key'</span>: <span style=\"font-weight: bold\">{</span><span style=\"color: #008000; text-decoration-color: #008000\">'input'</span>: <span style=\"font-weight: bold\">{</span><span style=\"color: #008000; text-decoration-color: #008000\">'api_key'</span>: <span style=\"color: #008000; text-decoration-color: #008000\">'str'</span>, <span style=\"color: #008000; text-decoration-color: #008000\">'text'</span>: <span style=\"color: #008000; text-decoration-color: #008000\">'str'</span><span style=\"font-weight: bold\">}</span>, <span style=\"color: #008000; text-decoration-color: #008000\">'output'</span>: <span style=\"font-weight: bold\">{}</span>, <span style=\"color: #008000; text-decoration-color: #008000\">'type'</span>: <span style=\"color: #008000; text-decoration-color: #008000\">'cls'</span><span style=\"font-weight: bold\">}</span>\n",
       "<span style=\"font-weight: bold\">}</span>\n",
       "</pre>\n"
      ],
      "text/plain": [
       "\u001b[1m{\u001b[0m\n",
       "    \u001b[32m'__init__'\u001b[0m: \u001b[1m{\u001b[0m\n",
       "        \u001b[32m'input'\u001b[0m: \u001b[1m{\u001b[0m\n",
       "            \u001b[32m'config'\u001b[0m: \u001b[32m'union\u001b[0m\u001b[32m[\u001b[0m\u001b[32mstr, typing'\u001b[0m,\n",
       "            \u001b[32m'password'\u001b[0m: \u001b[32m'str'\u001b[0m,\n",
       "            \u001b[32m'tag'\u001b[0m: \u001b[32m'str'\u001b[0m,\n",
       "            \u001b[32m'load'\u001b[0m: \u001b[32m'bool'\u001b[0m,\n",
       "            \u001b[32m'save'\u001b[0m: \u001b[32m'bool'\u001b[0m,\n",
       "            \u001b[32m'api_key'\u001b[0m: \u001b[32m'str'\u001b[0m\n",
       "        \u001b[1m}\u001b[0m,\n",
       "        \u001b[32m'output'\u001b[0m: \u001b[1m{\u001b[0m\u001b[1m}\u001b[0m,\n",
       "        \u001b[32m'type'\u001b[0m: \u001b[32m'self'\u001b[0m\n",
       "    \u001b[1m}\u001b[0m,\n",
       "    \u001b[32m'add_api_key'\u001b[0m: \u001b[1m{\u001b[0m\u001b[32m'input'\u001b[0m: \u001b[1m{\u001b[0m\u001b[32m'api_key'\u001b[0m: \u001b[32m'NA'\u001b[0m, \u001b[32m'k'\u001b[0m: \u001b[32m'NA'\u001b[0m\u001b[1m}\u001b[0m, \u001b[32m'output'\u001b[0m: \u001b[1m{\u001b[0m\u001b[1m}\u001b[0m, \u001b[32m'type'\u001b[0m: \u001b[32m'cls'\u001b[0m\u001b[1m}\u001b[0m,\n",
       "    \u001b[32m'add_api_keys'\u001b[0m: \u001b[1m{\u001b[0m\u001b[32m'input'\u001b[0m: \u001b[1m{\u001b[0m\u001b[1m}\u001b[0m, \u001b[32m'output'\u001b[0m: \u001b[1m{\u001b[0m\u001b[1m}\u001b[0m, \u001b[32m'type'\u001b[0m: \u001b[32m'cls'\u001b[0m\u001b[1m}\u001b[0m,\n",
       "    \u001b[32m'api_keys'\u001b[0m: \u001b[1m{\u001b[0m\u001b[32m'input'\u001b[0m: \u001b[1m{\u001b[0m\u001b[1m}\u001b[0m, \u001b[32m'output'\u001b[0m: \u001b[1m{\u001b[0m\u001b[1m}\u001b[0m, \u001b[32m'type'\u001b[0m: \u001b[32m'cls'\u001b[0m\u001b[1m}\u001b[0m,\n",
       "    \u001b[32m'create'\u001b[0m: \u001b[1m{\u001b[0m\u001b[32m'input'\u001b[0m: \u001b[1m{\u001b[0m\u001b[1m}\u001b[0m, \u001b[32m'output'\u001b[0m: \u001b[1m{\u001b[0m\u001b[1m}\u001b[0m, \u001b[32m'type'\u001b[0m: \u001b[32m'self'\u001b[0m\u001b[1m}\u001b[0m,\n",
       "    \u001b[32m'decode_tokens'\u001b[0m: \u001b[1m{\u001b[0m\u001b[32m'input'\u001b[0m: \u001b[1m{\u001b[0m\u001b[32m'input_ids'\u001b[0m: \u001b[32m'union\u001b[0m\u001b[32m[\u001b[0m\u001b[32mtorch'\u001b[0m\u001b[1m}\u001b[0m, \u001b[32m'output'\u001b[0m: \u001b[1m{\u001b[0m\u001b[1m}\u001b[0m, \u001b[32m'type'\u001b[0m: \u001b[32m'self'\u001b[0m\u001b[1m}\u001b[0m,\n",
       "    \u001b[32m'encode_tokens'\u001b[0m: \u001b[1m{\u001b[0m\n",
       "        \u001b[32m'input'\u001b[0m: \u001b[1m{\u001b[0m\n",
       "            \u001b[32m'text'\u001b[0m: \u001b[32m'union\u001b[0m\u001b[32m[\u001b[0m\u001b[32mstr, typing'\u001b[0m,\n",
       "            \u001b[32m'return_tensors'\u001b[0m: \u001b[32m'NA'\u001b[0m,\n",
       "            \u001b[32m'padding'\u001b[0m: \u001b[32m'NA'\u001b[0m,\n",
       "            \u001b[32m'truncation'\u001b[0m: \u001b[32m'NA'\u001b[0m,\n",
       "            \u001b[32m'max_length'\u001b[0m: \u001b[32m'NA'\u001b[0m\n",
       "        \u001b[1m}\u001b[0m,\n",
       "        \u001b[32m'output'\u001b[0m: \u001b[1m{\u001b[0m\u001b[1m}\u001b[0m,\n",
       "        \u001b[32m'type'\u001b[0m: \u001b[32m'self'\u001b[0m\n",
       "    \u001b[1m}\u001b[0m,\n",
       "    \u001b[32m'forward'\u001b[0m: \u001b[1m{\u001b[0m\n",
       "        \u001b[32m'input'\u001b[0m: \u001b[1m{\u001b[0m\n",
       "            \u001b[32m'prompt'\u001b[0m: \u001b[32m'str'\u001b[0m,\n",
       "            \u001b[32m'model'\u001b[0m: \u001b[32m'str'\u001b[0m,\n",
       "            \u001b[32m'presence_penalty'\u001b[0m: \u001b[32m'float'\u001b[0m,\n",
       "            \u001b[32m'frequency_penalty'\u001b[0m: \u001b[32m'float'\u001b[0m,\n",
       "            \u001b[32m'temperature'\u001b[0m: \u001b[32m'float'\u001b[0m,\n",
       "            \u001b[32m'max_tokens'\u001b[0m: \u001b[32m'int'\u001b[0m,\n",
       "            \u001b[32m'top_p'\u001b[0m: \u001b[32m'float'\u001b[0m,\n",
       "            \u001b[32m'add_history'\u001b[0m: \u001b[32m'bool'\u001b[0m,\n",
       "            \u001b[32m'return_json'\u001b[0m: \u001b[32m'bool'\u001b[0m,\n",
       "            \u001b[32m'choice_idx'\u001b[0m: \u001b[32m'int'\u001b[0m,\n",
       "            \u001b[32m'api_key'\u001b[0m: \u001b[32m'str'\u001b[0m\n",
       "        \u001b[1m}\u001b[0m,\n",
       "        \u001b[32m'output'\u001b[0m: \u001b[1m{\u001b[0m\u001b[1m}\u001b[0m,\n",
       "        \u001b[32m'type'\u001b[0m: \u001b[32m'self'\u001b[0m\n",
       "    \u001b[1m}\u001b[0m,\n",
       "    \u001b[32m'get_prompt_variables'\u001b[0m: \u001b[1m{\u001b[0m\u001b[32m'input'\u001b[0m: \u001b[1m{\u001b[0m\u001b[32m'prompt'\u001b[0m: \u001b[32m'NA'\u001b[0m\u001b[1m}\u001b[0m, \u001b[32m'output'\u001b[0m: \u001b[1m{\u001b[0m\u001b[1m}\u001b[0m, \u001b[32m'type'\u001b[0m: \u001b[32m'static'\u001b[0m\u001b[1m}\u001b[0m,\n",
       "    \u001b[32m'is_error'\u001b[0m: \u001b[1m{\u001b[0m\u001b[32m'input'\u001b[0m: \u001b[1m{\u001b[0m\u001b[32m'response'\u001b[0m: \u001b[32m'NA'\u001b[0m\u001b[1m}\u001b[0m, \u001b[32m'output'\u001b[0m: \u001b[1m{\u001b[0m\u001b[1m}\u001b[0m, \u001b[32m'type'\u001b[0m: \u001b[32m'self'\u001b[0m\u001b[1m}\u001b[0m,\n",
       "    \u001b[32m'is_valid_api_key'\u001b[0m: \u001b[1m{\u001b[0m\u001b[32m'input'\u001b[0m: \u001b[1m{\u001b[0m\u001b[32m'api_key'\u001b[0m: \u001b[32m'str'\u001b[0m, \u001b[32m'text'\u001b[0m: \u001b[32m'str'\u001b[0m\u001b[1m}\u001b[0m, \u001b[32m'output'\u001b[0m: \u001b[1m{\u001b[0m\u001b[1m}\u001b[0m, \u001b[32m'type'\u001b[0m: \u001b[32m'cls'\u001b[0m\u001b[1m}\u001b[0m,\n",
       "    \u001b[32m'load'\u001b[0m: \u001b[1m{\u001b[0m\u001b[32m'input'\u001b[0m: \u001b[1m{\u001b[0m\u001b[32m'tag'\u001b[0m: \u001b[32m'NA'\u001b[0m\u001b[1m}\u001b[0m, \u001b[32m'output'\u001b[0m: \u001b[1m{\u001b[0m\u001b[1m}\u001b[0m, \u001b[32m'type'\u001b[0m: \u001b[32m'self'\u001b[0m\u001b[1m}\u001b[0m,\n",
       "    \u001b[32m'num_valid_api_keys'\u001b[0m: \u001b[1m{\u001b[0m\u001b[32m'input'\u001b[0m: \u001b[1m{\u001b[0m\u001b[1m}\u001b[0m, \u001b[32m'output'\u001b[0m: \u001b[1m{\u001b[0m\u001b[1m}\u001b[0m, \u001b[32m'type'\u001b[0m: \u001b[32m'cls'\u001b[0m\u001b[1m}\u001b[0m,\n",
       "    \u001b[32m'random_api_key'\u001b[0m: \u001b[1m{\u001b[0m\u001b[32m'input'\u001b[0m: \u001b[1m{\u001b[0m\u001b[1m}\u001b[0m, \u001b[32m'output'\u001b[0m: \u001b[1m{\u001b[0m\u001b[1m}\u001b[0m, \u001b[32m'type'\u001b[0m: \u001b[32m'cls'\u001b[0m\u001b[1m}\u001b[0m,\n",
       "    \u001b[32m'remove_invalid_api_keys'\u001b[0m: \u001b[1m{\u001b[0m\u001b[32m'input'\u001b[0m: \u001b[1m{\u001b[0m\u001b[1m}\u001b[0m, \u001b[32m'output'\u001b[0m: \u001b[1m{\u001b[0m\u001b[1m}\u001b[0m, \u001b[32m'type'\u001b[0m: \u001b[32m'self'\u001b[0m\u001b[1m}\u001b[0m,\n",
       "    \u001b[32m'resolve_api_key'\u001b[0m: \u001b[1m{\u001b[0m\u001b[32m'input'\u001b[0m: \u001b[1m{\u001b[0m\u001b[32m'api_key'\u001b[0m: \u001b[32m'str'\u001b[0m\u001b[1m}\u001b[0m, \u001b[32m'output'\u001b[0m: \u001b[1m{\u001b[0m\u001b[1m}\u001b[0m, \u001b[32m'type'\u001b[0m: \u001b[32m'self'\u001b[0m\u001b[1m}\u001b[0m,\n",
       "    \u001b[32m'resolve_params'\u001b[0m: \u001b[1m{\u001b[0m\u001b[32m'input'\u001b[0m: \u001b[1m{\u001b[0m\u001b[32m'params'\u001b[0m: \u001b[32m'NA'\u001b[0m\u001b[1m}\u001b[0m, \u001b[32m'output'\u001b[0m: \u001b[1m{\u001b[0m\u001b[1m}\u001b[0m, \u001b[32m'type'\u001b[0m: \u001b[32m'self'\u001b[0m\u001b[1m}\u001b[0m,\n",
       "    \u001b[32m'resolve_prompt'\u001b[0m: \u001b[1m{\u001b[0m\u001b[32m'input'\u001b[0m: \u001b[1m{\u001b[0m\u001b[1m}\u001b[0m, \u001b[32m'output'\u001b[0m: \u001b[1m{\u001b[0m\u001b[1m}\u001b[0m, \u001b[32m'type'\u001b[0m: \u001b[32m'self'\u001b[0m\u001b[1m}\u001b[0m,\n",
       "    \u001b[32m'resolve_state_path'\u001b[0m: \u001b[1m{\u001b[0m\u001b[32m'input'\u001b[0m: \u001b[1m{\u001b[0m\u001b[32m'tag'\u001b[0m: \u001b[32m'NA'\u001b[0m\u001b[1m}\u001b[0m, \u001b[32m'output'\u001b[0m: \u001b[1m{\u001b[0m\u001b[1m}\u001b[0m, \u001b[32m'type'\u001b[0m: \u001b[32m'self'\u001b[0m\u001b[1m}\u001b[0m,\n",
       "    \u001b[32m'restart_miners'\u001b[0m: \u001b[1m{\u001b[0m\u001b[32m'input'\u001b[0m: \u001b[1m{\u001b[0m\u001b[1m}\u001b[0m, \u001b[32m'output'\u001b[0m: \u001b[1m{\u001b[0m\u001b[1m}\u001b[0m, \u001b[32m'type'\u001b[0m: \u001b[32m'cls'\u001b[0m\u001b[1m}\u001b[0m,\n",
       "    \u001b[32m'rm_api_key'\u001b[0m: \u001b[1m{\u001b[0m\u001b[32m'input'\u001b[0m: \u001b[1m{\u001b[0m\u001b[32m'api_key'\u001b[0m: \u001b[32m'NA'\u001b[0m, \u001b[32m'k'\u001b[0m: \u001b[32m'NA'\u001b[0m\u001b[1m}\u001b[0m, \u001b[32m'output'\u001b[0m: \u001b[1m{\u001b[0m\u001b[1m}\u001b[0m, \u001b[32m'type'\u001b[0m: \u001b[32m'cls'\u001b[0m\u001b[1m}\u001b[0m,\n",
       "    \u001b[32m'set_api_key'\u001b[0m: \u001b[1m{\u001b[0m\u001b[32m'input'\u001b[0m: \u001b[1m{\u001b[0m\u001b[32m'api_key'\u001b[0m: \u001b[32m'str'\u001b[0m\u001b[1m}\u001b[0m, \u001b[32m'output'\u001b[0m: \u001b[1m{\u001b[0m\u001b[1m}\u001b[0m, \u001b[32m'type'\u001b[0m: \u001b[32m'self'\u001b[0m\u001b[1m}\u001b[0m,\n",
       "    \u001b[32m'set_api_keys'\u001b[0m: \u001b[1m{\u001b[0m\u001b[32m'input'\u001b[0m: \u001b[1m{\u001b[0m\u001b[32m'api_keys'\u001b[0m: \u001b[32m'NA'\u001b[0m, \u001b[32m'k'\u001b[0m: \u001b[32m'NA'\u001b[0m\u001b[1m}\u001b[0m, \u001b[32m'output'\u001b[0m: \u001b[1m{\u001b[0m\u001b[1m}\u001b[0m, \u001b[32m'type'\u001b[0m: \u001b[32m'cls'\u001b[0m\u001b[1m}\u001b[0m,\n",
       "    \u001b[32m'set_prompt'\u001b[0m: \u001b[1m{\u001b[0m\u001b[32m'input'\u001b[0m: \u001b[1m{\u001b[0m\u001b[32m'prompt'\u001b[0m: \u001b[32m'str'\u001b[0m\u001b[1m}\u001b[0m, \u001b[32m'output'\u001b[0m: \u001b[1m{\u001b[0m\u001b[1m}\u001b[0m, \u001b[32m'type'\u001b[0m: \u001b[32m'self'\u001b[0m\u001b[1m}\u001b[0m,\n",
       "    \u001b[32m'set_stats'\u001b[0m: \u001b[1m{\u001b[0m\u001b[32m'input'\u001b[0m: \u001b[1m{\u001b[0m\u001b[32m'stats'\u001b[0m: \u001b[32m'NA'\u001b[0m\u001b[1m}\u001b[0m, \u001b[32m'output'\u001b[0m: \u001b[1m{\u001b[0m\u001b[1m}\u001b[0m, \u001b[32m'type'\u001b[0m: \u001b[32m'self'\u001b[0m\u001b[1m}\u001b[0m,\n",
       "    \u001b[32m'set_tokenizer'\u001b[0m: \u001b[1m{\u001b[0m\u001b[32m'input'\u001b[0m: \u001b[1m{\u001b[0m\u001b[32m'tokenizer'\u001b[0m: \u001b[32m'str'\u001b[0m\u001b[1m}\u001b[0m, \u001b[32m'output'\u001b[0m: \u001b[1m{\u001b[0m\u001b[1m}\u001b[0m, \u001b[32m'type'\u001b[0m: \u001b[32m'self'\u001b[0m\u001b[1m}\u001b[0m,\n",
       "    \u001b[32m'valid_api_keys'\u001b[0m: \u001b[1m{\u001b[0m\u001b[32m'input'\u001b[0m: \u001b[1m{\u001b[0m\u001b[32m'verbose'\u001b[0m: \u001b[32m'bool'\u001b[0m\u001b[1m}\u001b[0m, \u001b[32m'output'\u001b[0m: \u001b[1m{\u001b[0m\u001b[1m}\u001b[0m, \u001b[32m'type'\u001b[0m: \u001b[32m'cls'\u001b[0m\u001b[1m}\u001b[0m,\n",
       "    \u001b[32m'valid_keys'\u001b[0m: \u001b[1m{\u001b[0m\u001b[32m'input'\u001b[0m: \u001b[1m{\u001b[0m\u001b[32m'verbose'\u001b[0m: \u001b[32m'bool'\u001b[0m\u001b[1m}\u001b[0m, \u001b[32m'output'\u001b[0m: \u001b[1m{\u001b[0m\u001b[1m}\u001b[0m, \u001b[32m'type'\u001b[0m: \u001b[32m'cls'\u001b[0m\u001b[1m}\u001b[0m,\n",
       "    \u001b[32m'verify_api_key'\u001b[0m: \u001b[1m{\u001b[0m\u001b[32m'input'\u001b[0m: \u001b[1m{\u001b[0m\u001b[32m'api_key'\u001b[0m: \u001b[32m'str'\u001b[0m, \u001b[32m'text'\u001b[0m: \u001b[32m'str'\u001b[0m\u001b[1m}\u001b[0m, \u001b[32m'output'\u001b[0m: \u001b[1m{\u001b[0m\u001b[1m}\u001b[0m, \u001b[32m'type'\u001b[0m: \u001b[32m'cls'\u001b[0m\u001b[1m}\u001b[0m,\n",
       "    \u001b[32m'verify_api_keys'\u001b[0m: \u001b[1m{\u001b[0m\u001b[32m'input'\u001b[0m: \u001b[1m{\u001b[0m\u001b[32m'verbose'\u001b[0m: \u001b[32m'bool'\u001b[0m\u001b[1m}\u001b[0m, \u001b[32m'output'\u001b[0m: \u001b[1m{\u001b[0m\u001b[1m}\u001b[0m, \u001b[32m'type'\u001b[0m: \u001b[32m'cls'\u001b[0m\u001b[1m}\u001b[0m,\n",
       "    \u001b[32m'verify_key'\u001b[0m: \u001b[1m{\u001b[0m\u001b[32m'input'\u001b[0m: \u001b[1m{\u001b[0m\u001b[32m'api_key'\u001b[0m: \u001b[32m'str'\u001b[0m, \u001b[32m'text'\u001b[0m: \u001b[32m'str'\u001b[0m\u001b[1m}\u001b[0m, \u001b[32m'output'\u001b[0m: \u001b[1m{\u001b[0m\u001b[1m}\u001b[0m, \u001b[32m'type'\u001b[0m: \u001b[32m'cls'\u001b[0m\u001b[1m}\u001b[0m\n",
       "\u001b[1m}\u001b[0m\n"
      ]
     },
     "metadata": {},
     "output_type": "display_data"
    }
   ],
   "source": [
    "# get the schema of the server\n",
    "schema = client.schema()\n",
    "c.print(schema)"
   ]
  },
  {
   "cell_type": "code",
   "execution_count": 20,
   "metadata": {},
   "outputs": [
    {
     "data": {
      "text/html": [
       "<pre style=\"white-space:pre;overflow-x:auto;line-height:normal;font-family:Menlo,'DejaVu Sans Mono',consolas,'Courier New',monospace\"><span style=\"font-weight: bold\">{</span>\n",
       "    <span style=\"color: #008000; text-decoration-color: #008000\">'address'</span>: <span style=\"color: #008000; text-decoration-color: #008000\">'162.157.113.207:2242'</span>,\n",
       "    <span style=\"color: #008000; text-decoration-color: #008000\">'functions'</span>: <span style=\"font-weight: bold\">[</span><span style=\"color: #008000; text-decoration-color: #008000\">'forward'</span><span style=\"font-weight: bold\">]</span>,\n",
       "    <span style=\"color: #008000; text-decoration-color: #008000\">'attributes'</span>: <span style=\"font-weight: bold\">[]</span>,\n",
       "    <span style=\"color: #008000; text-decoration-color: #008000\">'name'</span>: <span style=\"color: #008000; text-decoration-color: #008000\">'model.openai::whadup'</span>,\n",
       "    <span style=\"color: #008000; text-decoration-color: #008000\">'path'</span>: <span style=\"color: #008000; text-decoration-color: #008000\">'model.openai'</span>,\n",
       "    <span style=\"color: #008000; text-decoration-color: #008000\">'chash'</span>: <span style=\"color: #008000; text-decoration-color: #008000\">'74f1c2dcef9bfbd1795edc02c61984bd796b4934e538cce6e371eddf182be27e'</span>,\n",
       "    <span style=\"color: #008000; text-decoration-color: #008000\">'hash'</span>: <span style=\"color: #008000; text-decoration-color: #008000\">'506368a0a2b9d843fbdc6a2dc5827a381cae1d27264c8d920bb51d8e6b37f05b'</span>,\n",
       "    <span style=\"color: #008000; text-decoration-color: #008000\">'signature'</span>: \n",
       "<span style=\"color: #008000; text-decoration-color: #008000\">'deef3234130097ec8f4df7b0177498c3ed8b99a47c5fadc09c6180360b8b055f904cf9a07f44abbb06aaae9bc987b0a6dcabf53ec4b0f69ef3</span>\n",
       "<span style=\"color: #008000; text-decoration-color: #008000\">a87838e4aec586'</span>,\n",
       "    <span style=\"color: #008000; text-decoration-color: #008000\">'ss58_address'</span>: <span style=\"color: #008000; text-decoration-color: #008000\">'5G4XNLBA8JE6gMURisfv2CcAqFcKCoA2Jrjgkp7iaBz66Pid'</span>\n",
       "<span style=\"font-weight: bold\">}</span>\n",
       "</pre>\n"
      ],
      "text/plain": [
       "\u001b[1m{\u001b[0m\n",
       "    \u001b[32m'address'\u001b[0m: \u001b[32m'162.157.113.207:2242'\u001b[0m,\n",
       "    \u001b[32m'functions'\u001b[0m: \u001b[1m[\u001b[0m\u001b[32m'forward'\u001b[0m\u001b[1m]\u001b[0m,\n",
       "    \u001b[32m'attributes'\u001b[0m: \u001b[1m[\u001b[0m\u001b[1m]\u001b[0m,\n",
       "    \u001b[32m'name'\u001b[0m: \u001b[32m'model.openai::whadup'\u001b[0m,\n",
       "    \u001b[32m'path'\u001b[0m: \u001b[32m'model.openai'\u001b[0m,\n",
       "    \u001b[32m'chash'\u001b[0m: \u001b[32m'74f1c2dcef9bfbd1795edc02c61984bd796b4934e538cce6e371eddf182be27e'\u001b[0m,\n",
       "    \u001b[32m'hash'\u001b[0m: \u001b[32m'506368a0a2b9d843fbdc6a2dc5827a381cae1d27264c8d920bb51d8e6b37f05b'\u001b[0m,\n",
       "    \u001b[32m'signature'\u001b[0m: \n",
       "\u001b[32m'deef3234130097ec8f4df7b0177498c3ed8b99a47c5fadc09c6180360b8b055f904cf9a07f44abbb06aaae9bc987b0a6dcabf53ec4b0f69ef3\u001b[0m\n",
       "\u001b[32ma87838e4aec586'\u001b[0m,\n",
       "    \u001b[32m'ss58_address'\u001b[0m: \u001b[32m'5G4XNLBA8JE6gMURisfv2CcAqFcKCoA2Jrjgkp7iaBz66Pid'\u001b[0m\n",
       "\u001b[1m}\u001b[0m\n"
      ]
     },
     "metadata": {},
     "output_type": "display_data"
    }
   ],
   "source": [
    "client_info = client.info()\n",
    "c.print(client_info)"
   ]
  },
  {
   "cell_type": "code",
   "execution_count": 22,
   "metadata": {},
   "outputs": [
    {
     "data": {
      "text/plain": [
       "{'error': 'pm2 process model.openai::whadup not found'}"
      ]
     },
     "execution_count": 22,
     "metadata": {},
     "output_type": "execute_result"
    }
   ],
   "source": [
    "c.kill('model.openai::whadup')"
   ]
  },
  {
   "cell_type": "code",
   "execution_count": 25,
   "metadata": {},
   "outputs": [
    {
     "data": {
      "text/plain": [
       "[]"
      ]
     },
     "execution_count": 25,
     "metadata": {},
     "output_type": "execute_result"
    }
   ],
   "source": [
    "c.pm2ls()"
   ]
  },
  {
   "cell_type": "code",
   "execution_count": null,
   "metadata": {},
   "outputs": [],
   "source": []
  }
 ],
 "metadata": {
  "kernelspec": {
   "display_name": "Python 3",
   "language": "python",
   "name": "python3"
  },
  "language_info": {
   "codemirror_mode": {
    "name": "ipython",
    "version": 3
   },
   "file_extension": ".py",
   "mimetype": "text/x-python",
   "name": "python",
   "nbconvert_exporter": "python",
   "pygments_lexer": "ipython3",
   "version": "3.10.12"
  },
  "orig_nbformat": 4
 },
 "nbformat": 4,
 "nbformat_minor": 2
}
