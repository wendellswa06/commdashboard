{
 "cells": [
  {
   "cell_type": "code",
   "execution_count": 1,
   "metadata": {},
   "outputs": [],
   "source": [
    "import commune as c"
   ]
  },
  {
   "cell_type": "code",
   "execution_count": 2,
   "metadata": {},
   "outputs": [
    {
     "data": {
      "text/plain": [
       "['fam', 'module']"
      ]
     },
     "execution_count": 2,
     "metadata": {},
     "output_type": "execute_result"
    }
   ],
   "source": [
    "# list keys\n",
    "\n",
    "c.keys()"
   ]
  },
  {
   "cell_type": "code",
   "execution_count": 3,
   "metadata": {},
   "outputs": [
    {
     "data": {
      "text/plain": [
       "{'status': 'error', 'message': 'key already exists at fam'}"
      ]
     },
     "execution_count": 3,
     "metadata": {},
     "output_type": "execute_result"
    }
   ],
   "source": [
    "# add a new key\n",
    "c.add_key('fam')"
   ]
  },
  {
   "cell_type": "code",
   "execution_count": 4,
   "metadata": {},
   "outputs": [
    {
     "data": {
      "text/plain": [
       "['fam', 'module']"
      ]
     },
     "execution_count": 4,
     "metadata": {},
     "output_type": "execute_result"
    }
   ],
   "source": [
    "# remove a key\n",
    "# we will add and remove a demo key\n",
    "c.add_key('demo')\n",
    "assert c.key_exists('demo') == True\n",
    "c.rm_key('demo')\n",
    "assert c.key_exists('demo') == False\n",
    "\n",
    "c.keys()"
   ]
  },
  {
   "cell_type": "markdown",
   "metadata": {},
   "source": [
    "## Save and Load Keys"
   ]
  },
  {
   "cell_type": "code",
   "execution_count": 5,
   "metadata": {},
   "outputs": [
    {
     "data": {
      "text/html": [
       "<pre style=\"white-space:pre;overflow-x:auto;line-height:normal;font-family:Menlo,'DejaVu Sans Mono',consolas,'Courier New',monospace\">saving keys\n",
       "</pre>\n"
      ],
      "text/plain": [
       "saving keys\n"
      ]
     },
     "metadata": {},
     "output_type": "display_data"
    },
    {
     "data": {
      "text/plain": [
       "{'status': 'success',\n",
       " 'message': 'keys saved to /Users/salvivona/commune/data/keys.json'}"
      ]
     },
     "execution_count": 5,
     "metadata": {},
     "output_type": "execute_result"
    }
   ],
   "source": [
    "c.save_keys()"
   ]
  },
  {
   "cell_type": "code",
   "execution_count": 6,
   "metadata": {},
   "outputs": [
    {
     "data": {
      "text/plain": [
       "{'status': 'success',\n",
       " 'message': 'keys loaded from /Users/salvivona/commune/data/keys.json',\n",
       " 'keys': ['fam', 'module']}"
      ]
     },
     "execution_count": 6,
     "metadata": {},
     "output_type": "execute_result"
    }
   ],
   "source": [
    "c.load_keys()"
   ]
  },
  {
   "cell_type": "markdown",
   "metadata": {},
   "source": []
  },
  {
   "cell_type": "code",
   "execution_count": 7,
   "metadata": {},
   "outputs": [
    {
     "data": {
      "text/html": [
       "<pre style=\"white-space:pre;overflow-x:auto;line-height:normal;font-family:Menlo,'DejaVu Sans Mono',consolas,'Courier New',monospace\">Connecting to  <span style=\"color: #008000; text-decoration-color: #008000; font-weight: bold\">main</span> 🔗🌐: <span style=\"color: #808000; text-decoration-color: #808000; font-weight: bold; text-decoration: underline\">ws://24.83.20.198:2966</span>\n",
       "</pre>\n"
      ],
      "text/plain": [
       "Connecting to  \u001b[1;32mmain\u001b[0m 🔗🌐: \u001b[1;4;33mws://24.83.20.198:2966\u001b[0m\n"
      ]
     },
     "metadata": {},
     "output_type": "display_data"
    },
    {
     "data": {
      "text/plain": [
       "0.0"
      ]
     },
     "execution_count": 7,
     "metadata": {},
     "output_type": "execute_result"
    }
   ],
   "source": [
    "c.get_balance('fam')"
   ]
  },
  {
   "cell_type": "code",
   "execution_count": 8,
   "metadata": {},
   "outputs": [
    {
     "data": {
      "text/html": [
       "<pre style=\"white-space:pre;overflow-x:auto;line-height:normal;font-family:Menlo,'DejaVu Sans Mono',consolas,'Courier New',monospace\">Connecting to  <span style=\"color: #008000; text-decoration-color: #008000; font-weight: bold\">main</span> 🔗🌐: <span style=\"color: #808000; text-decoration-color: #808000; font-weight: bold; text-decoration: underline\">ws://24.83.20.198:2858</span>\n",
       "</pre>\n"
      ],
      "text/plain": [
       "Connecting to  \u001b[1;32mmain\u001b[0m 🔗🌐: \u001b[1;4;33mws://24.83.20.198:2858\u001b[0m\n"
      ]
     },
     "metadata": {},
     "output_type": "display_data"
    },
    {
     "data": {
      "text/plain": [
       "0.0"
      ]
     },
     "execution_count": 8,
     "metadata": {},
     "output_type": "execute_result"
    }
   ],
   "source": [
    "# get the stake\n",
    "c.get_stake('fam')"
   ]
  },
  {
   "cell_type": "code",
   "execution_count": 9,
   "metadata": {},
   "outputs": [
    {
     "data": {
      "text/html": [
       "<pre style=\"white-space:pre;overflow-x:auto;line-height:normal;font-family:Menlo,'DejaVu Sans Mono',consolas,'Courier New',monospace\">Connecting to  <span style=\"color: #008000; text-decoration-color: #008000; font-weight: bold\">main</span> 🔗🌐: <span style=\"color: #808000; text-decoration-color: #808000; font-weight: bold; text-decoration: underline\">ws://24.83.20.198:2737</span>\n",
       "</pre>\n"
      ],
      "text/plain": [
       "Connecting to  \u001b[1;32mmain\u001b[0m 🔗🌐: \u001b[1;4;33mws://24.83.20.198:2737\u001b[0m\n"
      ]
     },
     "metadata": {},
     "output_type": "display_data"
    },
    {
     "data": {
      "text/plain": [
       "{'balance': 0.0,\n",
       " 'modules': {0: {'name': 'fam', 'balance': 0.0, 'stake_from': {}},\n",
       "  1: {'name': 'fam', 'balance': 0.0, 'stake_from': {}},\n",
       "  2: {'name': 'fam', 'balance': 0.0, 'stake_from': {}}}}"
      ]
     },
     "execution_count": 9,
     "metadata": {},
     "output_type": "execute_result"
    }
   ],
   "source": [
    "# get the key stats for each subnet\n",
    "c.key_stats('fam')"
   ]
  },
  {
   "cell_type": "code",
   "execution_count": null,
   "metadata": {},
   "outputs": [],
   "source": []
  }
 ],
 "metadata": {
  "kernelspec": {
   "display_name": "Python 3",
   "language": "python",
   "name": "python3"
  },
  "language_info": {
   "codemirror_mode": {
    "name": "ipython",
    "version": 3
   },
   "file_extension": ".py",
   "mimetype": "text/x-python",
   "name": "python",
   "nbconvert_exporter": "python",
   "pygments_lexer": "ipython3",
   "version": "3.9.6"
  },
  "orig_nbformat": 4
 },
 "nbformat": 4,
 "nbformat_minor": 2
}
