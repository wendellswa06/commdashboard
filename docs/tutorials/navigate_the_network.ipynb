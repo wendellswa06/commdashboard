{
 "cells": [
  {
   "cell_type": "code",
   "execution_count": 19,
   "metadata": {},
   "outputs": [
    {
     "data": {
      "text/html": [
       "<pre style=\"white-space:pre;overflow-x:auto;line-height:normal;font-family:Menlo,'DejaVu Sans Mono',consolas,'Courier New',monospace\">Connected to network subspace\n",
       "</pre>\n"
      ],
      "text/plain": [
       "Connected to network subspace\n"
      ]
     },
     "metadata": {},
     "output_type": "display_data"
    }
   ],
   "source": [
    "import commune as c\n",
    "c.enable_jupyter()\n",
    "\n",
    "network  = c.network()\n",
    "c.print('Connected to network', network)"
   ]
  },
  {
   "cell_type": "markdown",
   "metadata": {},
   "source": [
    "## Setting a network\n",
    "\n",
    "- local: your local namespace \n",
    "- subspace : the subspace namespace"
   ]
  },
  {
   "cell_type": "code",
   "execution_count": 23,
   "metadata": {},
   "outputs": [
    {
     "data": {
      "text/html": [
       "<pre style=\"white-space:pre;overflow-x:auto;line-height:normal;font-family:Menlo,'DejaVu Sans Mono',consolas,'Courier New',monospace\">Setting to  local\n",
       "</pre>\n"
      ],
      "text/plain": [
       "Setting to  local\n"
      ]
     },
     "metadata": {},
     "output_type": "display_data"
    },
    {
     "data": {
      "text/html": [
       "<pre style=\"white-space:pre;overflow-x:auto;line-height:normal;font-family:Menlo,'DejaVu Sans Mono',consolas,'Courier New',monospace\">Setting to  subspace\n",
       "</pre>\n"
      ],
      "text/plain": [
       "Setting to  subspace\n"
      ]
     },
     "metadata": {},
     "output_type": "display_data"
    }
   ],
   "source": [
    "# SETTING A NETWORK \n",
    "for net in ['local', 'subspace']:\n",
    "    c.setnet(net)\n",
    "    c.print('Setting to ', c.network())\n",
    "\n"
   ]
  },
  {
   "cell_type": "markdown",
   "metadata": {},
   "source": [
    "## Namespace\n",
    "\n",
    "A namespace is a map of the name of the module with the address (str->str)"
   ]
  },
  {
   "cell_type": "code",
   "execution_count": 29,
   "metadata": {},
   "outputs": [
    {
     "data": {
      "text/html": [
       "<pre style=\"white-space:pre;overflow-x:auto;line-height:normal;font-family:Menlo,'DejaVu Sans Mono',consolas,'Courier New',monospace\"><span style=\"font-weight: bold\">{</span><span style=\"color: #008000; text-decoration-color: #008000\">'module'</span>: <span style=\"color: #008000; text-decoration-color: #008000\">'0.0.0.0:2203'</span>, <span style=\"color: #008000; text-decoration-color: #008000\">'model.openai'</span>: <span style=\"color: #008000; text-decoration-color: #008000\">'162.157.113.207:2206'</span><span style=\"font-weight: bold\">}</span>\n",
       "</pre>\n"
      ],
      "text/plain": [
       "\u001b[1m{\u001b[0m\u001b[32m'module'\u001b[0m: \u001b[32m'0.0.0.0:2203'\u001b[0m, \u001b[32m'model.openai'\u001b[0m: \u001b[32m'162.157.113.207:2206'\u001b[0m\u001b[1m}\u001b[0m\n"
      ]
     },
     "metadata": {},
     "output_type": "display_data"
    }
   ],
   "source": [
    "\n",
    "namespace = c.namespace(network='local')\n",
    "c.print(namespace)"
   ]
  },
  {
   "cell_type": "markdown",
   "metadata": {},
   "source": [
    "If you dont set the network, it will default to c.network() which is stored in the module.yaml config"
   ]
  },
  {
   "cell_type": "code",
   "execution_count": 44,
   "metadata": {},
   "outputs": [
    {
     "data": {
      "text/plain": [
       "['module', 'model.openai']"
      ]
     },
     "execution_count": 44,
     "metadata": {},
     "output_type": "execute_result"
    }
   ],
   "source": [
    "c.setnet('local')\n",
    "c.servers()"
   ]
  },
  {
   "cell_type": "code",
   "execution_count": 35,
   "metadata": {},
   "outputs": [
    {
     "data": {
      "text/html": [
       "<pre style=\"white-space:pre;overflow-x:auto;line-height:normal;font-family:Menlo,'DejaVu Sans Mono',consolas,'Courier New',monospace\">Modules found in local <span style=\"color: #008080; text-decoration-color: #008080; font-weight: bold\">2</span>\n",
       "</pre>\n"
      ],
      "text/plain": [
       "Modules found in local \u001b[1;36m2\u001b[0m\n"
      ]
     },
     "metadata": {},
     "output_type": "display_data"
    },
    {
     "data": {
      "text/html": [
       "<pre style=\"white-space:pre;overflow-x:auto;line-height:normal;font-family:Menlo,'DejaVu Sans Mono',consolas,'Courier New',monospace\">Modules found in subspace <span style=\"color: #008080; text-decoration-color: #008080; font-weight: bold\">1024</span>\n",
       "</pre>\n"
      ],
      "text/plain": [
       "Modules found in subspace \u001b[1;36m1024\u001b[0m\n"
      ]
     },
     "metadata": {},
     "output_type": "display_data"
    }
   ],
   "source": [
    "\n",
    "for network in ['local', 'subspace']:\n",
    "    namespace = c.namespace( network=network)\n",
    "    c.print(f'Modules found in {network}', len(namespace))"
   ]
  },
  {
   "cell_type": "markdown",
   "metadata": {},
   "source": [
    "## Servers (Keys of the Namespace Dictionary)"
   ]
  },
  {
   "cell_type": "code",
   "execution_count": 41,
   "metadata": {},
   "outputs": [
    {
     "data": {
      "text/html": [
       "<pre style=\"white-space:pre;overflow-x:auto;line-height:normal;font-family:Menlo,'DejaVu Sans Mono',consolas,'Courier New',monospace\"><span style=\"color: #c0c0c0; text-decoration-color: #c0c0c0\">Found </span><span style=\"color: #008080; text-decoration-color: #008080; font-weight: bold\">80</span><span style=\"color: #c0c0c0; text-decoration-color: #c0c0c0\"> servers that starts with model</span>\n",
       "</pre>\n"
      ],
      "text/plain": [
       "\u001b[37mFound \u001b[0m\u001b[1;36m80\u001b[0m\u001b[37m servers that starts with model\u001b[0m\n"
      ]
     },
     "metadata": {},
     "output_type": "display_data"
    },
    {
     "data": {
      "text/html": [
       "<pre style=\"white-space:pre;overflow-x:auto;line-height:normal;font-family:Menlo,'DejaVu Sans Mono',consolas,'Courier New',monospace\"><span style=\"color: #af00ff; text-decoration-color: #af00ff\">Servers: </span>\n",
       "<span style=\"color: #af00ff; text-decoration-color: #af00ff; font-weight: bold\">[</span>\n",
       "<span style=\"color: #af00ff; text-decoration-color: #af00ff\">    </span><span style=\"color: #008000; text-decoration-color: #008000\">'model.openai::mao23'</span><span style=\"color: #af00ff; text-decoration-color: #af00ff\">,</span>\n",
       "<span style=\"color: #af00ff; text-decoration-color: #af00ff\">    </span><span style=\"color: #008000; text-decoration-color: #008000\">'model.openai::sup16'</span><span style=\"color: #af00ff; text-decoration-color: #af00ff\">,</span>\n",
       "<span style=\"color: #af00ff; text-decoration-color: #af00ff\">    </span><span style=\"color: #008000; text-decoration-color: #008000\">'model.openai::mao16'</span><span style=\"color: #af00ff; text-decoration-color: #af00ff\">,</span>\n",
       "<span style=\"color: #af00ff; text-decoration-color: #af00ff\">    </span><span style=\"color: #008000; text-decoration-color: #008000\">'model.openai::snoopdawg4'</span><span style=\"color: #af00ff; text-decoration-color: #af00ff\">,</span>\n",
       "<span style=\"color: #af00ff; text-decoration-color: #af00ff\">    </span><span style=\"color: #008000; text-decoration-color: #008000\">'model.openai::SOTAsmall5'</span><span style=\"color: #af00ff; text-decoration-color: #af00ff\">,</span>\n",
       "<span style=\"color: #af00ff; text-decoration-color: #af00ff\">    </span><span style=\"color: #008000; text-decoration-color: #008000\">'model.openai::sup25'</span><span style=\"color: #af00ff; text-decoration-color: #af00ff\">,</span>\n",
       "<span style=\"color: #af00ff; text-decoration-color: #af00ff\">    </span><span style=\"color: #008000; text-decoration-color: #008000\">'model.openai::fam5'</span><span style=\"color: #af00ff; text-decoration-color: #af00ff\">,</span>\n",
       "<span style=\"color: #af00ff; text-decoration-color: #af00ff\">    </span><span style=\"color: #008000; text-decoration-color: #008000\">'model.openai::sup26'</span><span style=\"color: #af00ff; text-decoration-color: #af00ff\">,</span>\n",
       "<span style=\"color: #af00ff; text-decoration-color: #af00ff\">    </span><span style=\"color: #008000; text-decoration-color: #008000\">'model.openai::snoopdawg30'</span><span style=\"color: #af00ff; text-decoration-color: #af00ff\">,</span>\n",
       "<span style=\"color: #af00ff; text-decoration-color: #af00ff\">    </span><span style=\"color: #008000; text-decoration-color: #008000\">'model.openai'</span>\n",
       "<span style=\"color: #af00ff; text-decoration-color: #af00ff; font-weight: bold\">]</span>\n",
       "<span style=\"color: #808000; text-decoration-color: #808000\">...</span>\n",
       "</pre>\n"
      ],
      "text/plain": [
       "\u001b[38;5;129mServers: \u001b[0m\n",
       "\u001b[1;38;5;129m[\u001b[0m\n",
       "\u001b[38;5;129m    \u001b[0m\u001b[32m'model.openai::mao23'\u001b[0m\u001b[38;5;129m,\u001b[0m\n",
       "\u001b[38;5;129m    \u001b[0m\u001b[32m'model.openai::sup16'\u001b[0m\u001b[38;5;129m,\u001b[0m\n",
       "\u001b[38;5;129m    \u001b[0m\u001b[32m'model.openai::mao16'\u001b[0m\u001b[38;5;129m,\u001b[0m\n",
       "\u001b[38;5;129m    \u001b[0m\u001b[32m'model.openai::snoopdawg4'\u001b[0m\u001b[38;5;129m,\u001b[0m\n",
       "\u001b[38;5;129m    \u001b[0m\u001b[32m'model.openai::SOTAsmall5'\u001b[0m\u001b[38;5;129m,\u001b[0m\n",
       "\u001b[38;5;129m    \u001b[0m\u001b[32m'model.openai::sup25'\u001b[0m\u001b[38;5;129m,\u001b[0m\n",
       "\u001b[38;5;129m    \u001b[0m\u001b[32m'model.openai::fam5'\u001b[0m\u001b[38;5;129m,\u001b[0m\n",
       "\u001b[38;5;129m    \u001b[0m\u001b[32m'model.openai::sup26'\u001b[0m\u001b[38;5;129m,\u001b[0m\n",
       "\u001b[38;5;129m    \u001b[0m\u001b[32m'model.openai::snoopdawg30'\u001b[0m\u001b[38;5;129m,\u001b[0m\n",
       "\u001b[38;5;129m    \u001b[0m\u001b[32m'model.openai'\u001b[0m\n",
       "\u001b[1;38;5;129m]\u001b[0m\n",
       "\u001b[33m...\u001b[0m\n"
      ]
     },
     "metadata": {},
     "output_type": "display_data"
    },
    {
     "data": {
      "text/html": [
       "<pre style=\"white-space:pre;overflow-x:auto;line-height:normal;font-family:Menlo,'DejaVu Sans Mono',consolas,'Courier New',monospace\"><span style=\"color: #c0c0c0; text-decoration-color: #c0c0c0\">Found </span><span style=\"color: #008080; text-decoration-color: #008080; font-weight: bold\">629</span><span style=\"color: #c0c0c0; text-decoration-color: #c0c0c0\"> servers that starts with dataset</span>\n",
       "</pre>\n"
      ],
      "text/plain": [
       "\u001b[37mFound \u001b[0m\u001b[1;36m629\u001b[0m\u001b[37m servers that starts with dataset\u001b[0m\n"
      ]
     },
     "metadata": {},
     "output_type": "display_data"
    },
    {
     "data": {
      "text/html": [
       "<pre style=\"white-space:pre;overflow-x:auto;line-height:normal;font-family:Menlo,'DejaVu Sans Mono',consolas,'Courier New',monospace\"><span style=\"color: #af00ff; text-decoration-color: #af00ff\">Servers: </span>\n",
       "<span style=\"color: #af00ff; text-decoration-color: #af00ff; font-weight: bold\">[</span>\n",
       "<span style=\"color: #af00ff; text-decoration-color: #af00ff\">    </span><span style=\"color: #008000; text-decoration-color: #008000\">'dataset.hf::yami59'</span><span style=\"color: #af00ff; text-decoration-color: #af00ff\">,</span>\n",
       "<span style=\"color: #af00ff; text-decoration-color: #af00ff\">    </span><span style=\"color: #008000; text-decoration-color: #008000\">'dataset.hf::tokenclassification48'</span><span style=\"color: #af00ff; text-decoration-color: #af00ff\">,</span>\n",
       "<span style=\"color: #af00ff; text-decoration-color: #af00ff\">    </span><span style=\"color: #008000; text-decoration-color: #008000\">'dataset::kaggledatasets17'</span><span style=\"color: #af00ff; text-decoration-color: #af00ff\">,</span>\n",
       "<span style=\"color: #af00ff; text-decoration-color: #af00ff\">    </span><span style=\"color: #008000; text-decoration-color: #008000\">'dataset.hf::classification14'</span><span style=\"color: #af00ff; text-decoration-color: #af00ff\">,</span>\n",
       "<span style=\"color: #af00ff; text-decoration-color: #af00ff\">    </span><span style=\"color: #008000; text-decoration-color: #008000\">'dataset.hf::textclassificaiton47'</span><span style=\"color: #af00ff; text-decoration-color: #af00ff\">,</span>\n",
       "<span style=\"color: #af00ff; text-decoration-color: #af00ff\">    </span><span style=\"color: #008000; text-decoration-color: #008000\">'dataset::googledatasets11'</span><span style=\"color: #af00ff; text-decoration-color: #af00ff\">,</span>\n",
       "<span style=\"color: #af00ff; text-decoration-color: #af00ff\">    </span><span style=\"color: #008000; text-decoration-color: #008000\">'dataset.hf::trending21'</span><span style=\"color: #af00ff; text-decoration-color: #af00ff\">,</span>\n",
       "<span style=\"color: #af00ff; text-decoration-color: #af00ff\">    </span><span style=\"color: #008000; text-decoration-color: #008000\">'dataset.hf::mumbai6'</span><span style=\"color: #af00ff; text-decoration-color: #af00ff\">,</span>\n",
       "<span style=\"color: #af00ff; text-decoration-color: #af00ff\">    </span><span style=\"color: #008000; text-decoration-color: #008000\">'dataset.hf::yami72'</span><span style=\"color: #af00ff; text-decoration-color: #af00ff\">,</span>\n",
       "<span style=\"color: #af00ff; text-decoration-color: #af00ff\">    </span><span style=\"color: #008000; text-decoration-color: #008000\">'dataset::googledatasets26'</span>\n",
       "<span style=\"color: #af00ff; text-decoration-color: #af00ff; font-weight: bold\">]</span>\n",
       "<span style=\"color: #808000; text-decoration-color: #808000\">...</span>\n",
       "</pre>\n"
      ],
      "text/plain": [
       "\u001b[38;5;129mServers: \u001b[0m\n",
       "\u001b[1;38;5;129m[\u001b[0m\n",
       "\u001b[38;5;129m    \u001b[0m\u001b[32m'dataset.hf::yami59'\u001b[0m\u001b[38;5;129m,\u001b[0m\n",
       "\u001b[38;5;129m    \u001b[0m\u001b[32m'dataset.hf::tokenclassification48'\u001b[0m\u001b[38;5;129m,\u001b[0m\n",
       "\u001b[38;5;129m    \u001b[0m\u001b[32m'dataset::kaggledatasets17'\u001b[0m\u001b[38;5;129m,\u001b[0m\n",
       "\u001b[38;5;129m    \u001b[0m\u001b[32m'dataset.hf::classification14'\u001b[0m\u001b[38;5;129m,\u001b[0m\n",
       "\u001b[38;5;129m    \u001b[0m\u001b[32m'dataset.hf::textclassificaiton47'\u001b[0m\u001b[38;5;129m,\u001b[0m\n",
       "\u001b[38;5;129m    \u001b[0m\u001b[32m'dataset::googledatasets11'\u001b[0m\u001b[38;5;129m,\u001b[0m\n",
       "\u001b[38;5;129m    \u001b[0m\u001b[32m'dataset.hf::trending21'\u001b[0m\u001b[38;5;129m,\u001b[0m\n",
       "\u001b[38;5;129m    \u001b[0m\u001b[32m'dataset.hf::mumbai6'\u001b[0m\u001b[38;5;129m,\u001b[0m\n",
       "\u001b[38;5;129m    \u001b[0m\u001b[32m'dataset.hf::yami72'\u001b[0m\u001b[38;5;129m,\u001b[0m\n",
       "\u001b[38;5;129m    \u001b[0m\u001b[32m'dataset::googledatasets26'\u001b[0m\n",
       "\u001b[1;38;5;129m]\u001b[0m\n",
       "\u001b[33m...\u001b[0m\n"
      ]
     },
     "metadata": {},
     "output_type": "display_data"
    }
   ],
   "source": [
    "servers = {}\n",
    "for prefix in ['model', 'dataset']:\n",
    "    servers = c.servers(prefix, network='subspace')\n",
    "    c.print(f'Found {len(servers)} servers that starts with {prefix}', color='white')\n",
    "\n",
    "    c.print('Servers: ', servers[:10], '...', color='purple')\n",
    "\n"
   ]
  },
  {
   "cell_type": "code",
   "execution_count": null,
   "metadata": {},
   "outputs": [],
   "source": []
  }
 ],
 "metadata": {
  "kernelspec": {
   "display_name": "Python 3",
   "language": "python",
   "name": "python3"
  },
  "language_info": {
   "codemirror_mode": {
    "name": "ipython",
    "version": 3
   },
   "file_extension": ".py",
   "mimetype": "text/x-python",
   "name": "python",
   "nbconvert_exporter": "python",
   "pygments_lexer": "ipython3",
   "version": "3.10.12"
  },
  "orig_nbformat": 4
 },
 "nbformat": 4,
 "nbformat_minor": 2
}
